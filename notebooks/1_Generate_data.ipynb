{
 "cells": [
  {
   "cell_type": "code",
   "execution_count": null,
   "metadata": {
    "is_executing": true
   },
   "outputs": [],
   "source": [
    "# install presidio via pip if not yet installed\n",
    "\n",
    "#!pip install presidio-analyzer\n",
    "#!pip install presidio-evaluator"
   ]
  },
  {
   "cell_type": "code",
   "execution_count": 1,
   "metadata": {
    "is_executing": true,
    "scrolled": true
   },
   "outputs": [],
   "source": [
    "import datetime\n",
    "import pprint\n",
    "from collections import Counter\n",
    "from pathlib import Path\n",
    "from typing import Dict, List\n",
    "\n",
    "import pandas as pd\n",
    "import numpy as np\n",
    "\n",
    "from presidio_evaluator import InputSample\n",
    "from presidio_evaluator.data_generator import PresidioSentenceFaker\n",
    "\n"
   ]
  },
  {
   "cell_type": "markdown",
   "metadata": {},
   "source": [
    "# Generate fake PII data using the Presidio Sentence Faker"
   ]
  },
  {
   "cell_type": "markdown",
   "metadata": {},
   "source": [
    "The Presidio Sentence Faker enables you to generate a synthetic dataset from sentence templates.\n",
    "Example templates:\n",
    "\n",
    "> I live at {{address}}\n",
    "\n",
    "> You can email me at {{email}}. Thanks, {{first_name}}\n",
    "\n",
    "> What's your last name? It's {{last_name}}\n",
    "\n",
    "> Every time I see you falling I get down on my knees and pray"
   ]
  },
  {
   "cell_type": "markdown",
   "metadata": {},
   "source": [
    "### Simple example\n",
    "This uses the default generator to create 10 samples based on three templates"
   ]
  },
  {
   "cell_type": "code",
   "execution_count": null,
   "metadata": {
    "is_executing": true
   },
   "outputs": [
    {
     "name": "stdout",
     "output_type": "stream",
     "text": [
      "Using default entity providers\n",
      "Using default entity mapping between the entities in the templates and the ones in the output dataset\n",
      "Using default provider aliases\n"
     ]
    },
    {
     "name": "stderr",
     "output_type": "stream",
     "text": [
      "Sampling: 100%|██████████| 25/25 [00:00<00:00, 4363.43it/s]"
     ]
    },
    {
     "name": "stdout",
     "output_type": "stream",
     "text": [
      "The multidisciplinary treatment plan developed for {{PERSON}} on {{DATE_TIME}} includes ongoing management of {{MEDICAL_CONDITION}} through regular {{LAB_TEST}} monitoring and administration of {{DRUG}} at {{DOSAGE}} to be taken {{DRUG_FREQUENCY}}, with scheduled {{PROCEDURE}} to be performed at our {{LOCATION}} facility, while all financial transactions are processed through the patient's credit card {{CREDIT_CARD}} and verified bank account {{BANK_NUMBER}} for seamless billing and record-keeping purposes.\n",
      "[Span(type: BANK_NUMBER, value: 8059990092, char_span: [493: 503]), Span(type: CREDIT_CARD, value: 4797594463887003100, char_span: [447: 466]), Span(type: LOCATION, value: 2693 ul. Raczyńskiego Edwarda 91, West Inna, LA 45058, char_span: [302: 355]), Span(type: PROCEDURE, value: Chemotherapy, char_span: [266: 278]), Span(type: DRUG_FREQUENCY, value: monthly, char_span: [242: 249]), Span(type: DOSAGE, value: 4mg/dose inhaler, char_span: [213: 229]), Span(type: DRUG, value: Citalopram, char_span: [199: 209]), Span(type: LAB_TEST, value: Homocysteine, char_span: [153: 165]), Span(type: MEDICAL_CONDITION, value: Anxiety Disorder, char_span: [120: 136]), Span(type: DATE_TIME, value: 1975-01-23 15:04:08, char_span: [69: 88]), Span(type: PERSON, value: Miles Davidson, char_span: [51: 65])]\n",
      "The insurance claim for {{PERSON}} was processed on {{DATE_TIME}} using credit card ending in {{CREDIT_CARD}}, with the total amount being charged to the account linked to bank number {{BANK_NUMBER}}, while the international payment of $1,500.00 was successfully transferred to IBAN {{IBAN_CODE}} for the medical services rendered at our {{LOCATION}} clinic.\n",
      "[Span(type: LOCATION, value: South Mille, HI, char_span: [338: 353]), Span(type: IBAN_CODE, value: BE15416444, char_span: [286: 296]), Span(type: BANK_NUMBER, value: 19420891672, char_span: [191: 202]), Span(type: CREDIT_CARD, value: 639029605560, char_span: [104: 116]), Span(type: DATE_TIME, value: 1998-10-12 08:46:42, char_span: [56: 75]), Span(type: PERSON, value: Beltran Urbina, char_span: [24: 38])]\n"
     ]
    },
    {
     "name": "stderr",
     "output_type": "stream",
     "text": [
      "\n"
     ]
    }
   ],
   "source": [
    "from presidio_evaluator.data_generator.faker_extensions.providers import *\n",
    "\n",
    "IpAddressProvider  # Both Ipv4 and IPv6 IP addresses\n",
    "NationalityProvider  # Read countries + nationalities from file\n",
    "OrganizationProvider  # Read organization names from file\n",
    "UsDriverLicenseProvider  # Read US driver license numbers from file\n",
    "AgeProvider  # Age values (unavailable on Faker\n",
    "AddressProviderNew  # Extend the default address formats\n",
    "PhoneNumberProviderNew  # Extend the default phone number formats\n",
    "ReligionProvider  # Read religions from file\n",
    "HospitalProvider  # Read hospital names from file\n",
    "MedicalProvider  # Read medical entities from file\n",
    "UsPassportProvider\n",
    "\n",
    "from presidio_evaluator.data_generator.presidio_sentence_faker import PresidioSentenceFaker\n",
    "\n",
    "\"\"\" sentence_templates = [\n",
    "    \"Patient {{PERSON}} ({{AGE}} years old, {{GENDER}}) completed their registration on {{DATE_TIME}}. Contact: {{EMAIL_ADDRESS}}. SSN: {{US_SSN}}. Billing on file ends with {{CREDIT_CARD}}.\",\n",
    "    \"Order confirmed for {{PERSON}} ({{AGE}}) on {{DATE_TIME}}. Receipt sent to {{EMAIL_ADDRESS}}. Shipping to {{LOCATION}}. Payment processed with card {{CREDIT_CARD}}. Order details at {{URL}}.\",\n",
    "    \"New account opened for {{PERSON}} ({{AGE}}, {{GENDER}}) on {{DATE_TIME}}. SSN {{US_SSN}}. Primary contact: {{EMAIL_ADDRESS}}. Initial deposit from card {{CREDIT_CARD}}. Nearest branch: {{LOCATION}}.\"\n",
    "    \"{{PERSON}} ({{AGE}}, {{GENDER}}) had an appointment on {{DATE_TIME}}. Patient portal login sent to {{EMAIL_ADDRESS}}. Insurance verified with SSN {{US_SSN}}. Next visit scheduled at our {{LOCATION}} location. Secure message sent via {{URL}}.\",\n",
    "    \"Booking confirmed for {{PERSON}} ({{AGE}}) on {{DATE_TIME}}. E-ticket sent to {{EMAIL_ADDRESS}}. Payment processed with card {{CREDIT_CARD}}. Pickup at {{LOCATION}}. View itinerary at {{URL}}.\",\n",
    "    \"Application received from {{PERSON}} ({{AGE}}, {{GENDER}}) on {{DATE_TIME}}. Contact: {{EMAIL_ADDRESS}}. SSN provided for background check: {{US_SSN}}. Current location: {{LOCATION}}. Resume available at {{URL}}.\",\n",
    "    \"New {{AGE}}-year-old {{GENDER}} member {{PERSON}} joined on {{DATE_TIME}}. Welcome email sent to {{EMAIL_ADDRESS}}. Membership card will be mailed to {{LOCATION}}. Payment method: {{CREDIT_CARD}}. Access member portal at {{URL}}.\",\n",
    "    \"Claim submitted by {{PERSON}} ({{AGE}}, {{GENDER}}) on {{DATE_TIME}}. Policyholder SSN: {{US_SSN}}. Correspondence sent to {{EMAIL_ADDRESS}}. Incident location: {{LOCATION}}. Payment processed to card {{CREDIT_CARD}}.\",\n",
    "    \"Subscription activated for {{PERSON}} ({{AGE}}) on {{DATE_TIME}}. Account email: {{EMAIL_ADDRESS}}. Billing: {{CREDIT_CARD}}. Location: {{LOCATION}}. Access your account at {{URL}}. For security, SSN required: {{US_SSN}}.\",\n",
    "    \"Application for {{PERSON}} ({{AGE}}, {{GENDER}}) received on {{DATE_TIME}}. SSN verified: {{US_SSN}}. Notifications will be sent to {{EMAIL_ADDRESS}}. Service center: {{LOCATION}}. Check status at {{URL}}.\",\n",
    "    \"Alert: Suspicious transaction on {{DATE_TIME}} for card {{CREDIT_CARD}}. Cardholder {{PERSON}} ({{AGE}}) was in {{LOCATION}}. If unauthorized, contact us at {{URL}} or verify at {{EMAIL_ADDRESS}}.\",\n",
    "    \"{{PERSON}} ({{AGE}} years, {{GENDER}}), SSN {{US_SSN}}, seen on {{DATE_TIME}}. Records updated and notification sent to {{EMAIL_ADDRESS}}. Next appointment at our {{LOCATION}} office. Secure portal: {{URL}}.\",\n",
    "    \"{{PERSON}} ({{AGE}}, {{GENDER}}) registered on {{DATE_TIME}}. Confirmation sent to {{EMAIL_ADDRESS}}. Event location: {{LOCATION}}. Payment method: {{CREDIT_CARD}}. Event details at {{URL}}. Emergency contact SSN: {{US_SSN}}.\",\n",
    "    \"Ticket: {{PERSON}} ({{AGE}}) contacted support on {{DATE_TIME}}. Verified email: {{EMAIL_ADDRESS}}. Account verified with SSN: {{US_SSN}}. Billing address: {{LOCATION}}. Reference URL: {{URL}}.\",\n",
    "    \"Background check initiated for {{PERSON}} ({{AGE}}, {{GENDER}}) on {{DATE_TIME}}. SSN: {{US_SSN}}. Results will be sent to {{EMAIL_ADDRESS}}. Current residence: {{LOCATION}}. Payment processed with {{CREDIT_CARD}}. Access report at {{URL}}.\",\n",
    "    \"Reservation confirmed for {{PERSON}} ({{AGE}}) at {{LOCATION}} on {{DATE_TIME}}. Confirmation sent to {{EMAIL_ADDRESS}}. Guaranteed by card {{CREDIT_CARD}}. Check-in requires ID and SSN: {{US_SSN}}. View booking at {{URL}}.\",\n",
    "    \"{{PERSON}} ({{AGE}}, {{GENDER}}) enrolled on {{DATE_TIME}}. Student ID created using SSN {{US_SSN}}. Campus email: {{EMAIL_ADDRESS}}. Campus location: {{LOCATION}}. Tuition payment method: {{CREDIT_CARD}}. Portal: {{URL}}.\",\n",
    "    \"Rental agreement for {{PERSON}} ({{AGE}}) on {{DATE_TIME}}. Driver's license verified with SSN {{US_SSN}}. Pickup: {{LOCATION}}. Confirmation sent to {{EMAIL_ADDRESS}}. Secured with card {{CREDIT_CARD}}. Details at {{URL}}.\"\n",
    "    \"Offer extended to {{PERSON}} ({{AGE}}, {{GENDER}}) on {{DATE_TIME}}. Employment verification completed via SSN {{US_SSN}}. Offer letter sent to {{EMAIL_ADDRESS}}. Office location: {{LOCATION}}. Sign documents at {{URL}}. Direct deposit form requires bank details and last 4 of SSN.\",\n",
    "    \"New payee {{PERSON}} ({{AGE}}) added on {{DATE_TIME}}. Verification code sent to {{EMAIL_ADDRESS}}. Account linked to {{CREDIT_CARD}}. Mailing address: {{LOCATION}}. For security, please verify SSN: {{US_SSN}}. Manage payees at {{URL}}.\",\n",
    "] \"\"\"\n",
    "\n",
    "sentence_templates = [\n",
    "    \"During the comprehensive health assessment conducted on {{DATE_TIME}}, {{PERSON}}, a {{AGE}}-year-old {{GENDER}} with a history of {{MEDICAL_CONDITION}}, reported experiencing persistent {{SYMPTOM}} that required further investigation through {{LAB_TEST}}, while the attending physician reviewed the patient's contact information including phone {{PHONE_NUMBER}} and {{EMAIL_ADDRESS}} for follow-up communications.\",\n",
    "    \"Following the diagnostic evaluation, the medical team prescribed {{DRUG}} at a dosage of {{DOSAGE}} to be taken {{DRUG_FREQUENCY}}, along with scheduling a follow-up {{PROCEDURE}} at our {{LOCATION}} facility on {{DATE_TIME}} to monitor the patient's response to the treatment plan.\",\n",
    "    \"The insurance claim for {{PERSON}} was processed on {{DATE_TIME}} using credit card ending in {{CREDIT_CARD}}, with the total amount being charged to the account linked to bank number {{BANK_NUMBER}}, while the international payment of $1,500.00 was successfully transferred to IBAN {{IBAN_CODE}} for the medical services rendered at our {{LOCATION}} clinic.\",\n",
    "    \"During the registration process at {{ORGANIZATION}} on {{DATE_TIME}}, {{PERSON}} provided multiple forms of identification including US passport number {{US_PASSPORT}}, state driver's license {{US_DRIVER_LICENSE}}, and social security number {{US_SSN}}, all of which were verified through our secure authentication system before proceeding with the scheduled {{PROCEDURE}}.\",\n",
    "    \"The electronic health record for {{PERSON}}, a {{AGE}}-year-old {{GENDER}}, indicates a diagnosis of {{MEDICAL_CONDITION}} with recent {{LAB_TEST}} results showing significant improvement since the initiation of {{DRUG}} therapy at {{DOSAGE}} administered {{DRUG_FREQUENCY}}, while the patient's contact details including phone {{PHONE_NUMBER}} and {{EMAIL_ADDRESS}} were confirmed during the last visit on {{DATE_TIME}} at our {{LOCATION}} medical center.\",\n",
    "    \"The detailed invoice generated on {{DATE_TIME}} for services rendered to {{PERSON}} includes charges for the recent {{PROCEDURE}} and {{LAB_TEST}}, with payment authorized through credit card {{CREDIT_CARD}} and a portion of the amount being directly billed to the patient's bank account {{BANK_NUMBER}}, while the remaining balance was covered by an international wire transfer to IBAN {{IBAN_CODE}}.\",\n",
    "    \"Upon admission to {{ORGANIZATION}} on {{DATE_TIME}}, {{PERSON}}, a {{AGE}}-year-old {{GENDER}} with a medical history significant for {{MEDICAL_CONDITION}}, underwent an initial evaluation that included {{LAB_TEST}}, followed by the administration of {{DRUG}} at {{DOSAGE}} to be taken {{DRUG_FREQUENCY}}, while the patient's emergency contact information including phone {{PHONE_NUMBER}} was verified by the nursing staff during the admission process.\",\n",
    "    \"The medical report dated {{DATE_TIME}} for {{PERSON}} outlines the successful completion of {{PROCEDURE}} performed at our {{LOCATION}} facility, with prescribed medication including {{DRUG}} at {{DOSAGE}} to be taken {{DRUG_FREQUENCY}}, while the patient's identification documents including US passport {{US_PASSPORT}} and driver's license {{US_DRIVER_LICENSE}} were verified prior to the procedure to ensure accurate medical record-keeping and billing processes.\",\n",
    "    \"During the follow-up consultation on {{DATE_TIME}}, {{PERSON}}, a {{AGE}}-year-old {{GENDER}} being treated for {{MEDICAL_CONDITION}}, reported improved {{SYMPTOM}} following the prescribed regimen of {{DRUG}} at {{DOSAGE}} taken {{DRUG_FREQUENCY}}, while the most recent {{LAB_TEST}} results showed positive response to treatment, and the patient's contact information including phone {{PHONE_NUMBER}} was updated in our system for future communications.\",\n",
    "    \"The multidisciplinary treatment plan developed for {{PERSON}} on {{DATE_TIME}} includes ongoing management of {{MEDICAL_CONDITION}} through regular {{LAB_TEST}} monitoring and administration of {{DRUG}} at {{DOSAGE}} to be taken {{DRUG_FREQUENCY}}, with scheduled {{PROCEDURE}} to be performed at our {{LOCATION}} facility, while all financial transactions are processed through the patient's credit card {{CREDIT_CARD}} and verified bank account {{BANK_NUMBER}} for seamless billing and record-keeping purposes.\",\n",
    "    \"Offer extended to {{PERSON}} ({{AGE}}, {{GENDER}}) on {{DATE_TIME}}. Employment verification completed via SSN {{US_SSN}}. Offer letter sent to {{EMAIL_ADDRESS}}. Office location: {{LOCATION}}. Sign documents at {{URL}}. Direct deposit form requires bank details and last 4 of SSN.\",\n",
    "    \"New payee {{PERSON}} ({{AGE}}) added on {{DATE_TIME}}. Verification code sent to {{EMAIL_ADDRESS}}. Account linked to {{CREDIT_CARD}}. Mailing address: {{LOCATION}}. For security, please verify SSN: {{US_SSN}}. Manage payees at {{URL}}.\",\n",
    "]\n",
    "\n",
    "sentence_faker = PresidioSentenceFaker(\n",
    "    \"en_US\", lower_case_ratio=0.05, sentence_templates=sentence_templates, #base_records=records\n",
    ")\n",
    "fake_sentence_results = sentence_faker.generate_new_fake_sentences(25)\n",
    "\n",
    "# Print the spans of the first sample\n",
    "print(fake_sentence_results[0].masked)\n",
    "print(fake_sentence_results[0].spans)\n",
    "print(fake_sentence_results[1].masked)\n",
    "print(fake_sentence_results[1].spans)"
   ]
  },
  {
   "cell_type": "markdown",
   "metadata": {},
   "source": [
    "## Generate a full dataset\n",
    "\n",
    "In this example we generate a large dataset with multiple entity types and save it in in JSON and CONLL03 formats.\n",
    "This uses the default sentence templates included in this package."
   ]
  },
  {
   "cell_type": "code",
   "execution_count": 3,
   "metadata": {
    "is_executing": true,
    "scrolled": true
   },
   "outputs": [],
   "source": [
    "import datetime\n",
    "\n",
    "number_of_samples = 50\n",
    "lower_case_ratio = 0.05\n",
    "locale = \"en\"\n",
    "cur_time = datetime.date.today().strftime(\"%B_%d_%Y\")\n",
    "\n",
    "output_file = f\"../data/generated_size_{number_of_samples}_date_{cur_time}.json\"\n",
    "output_conll = f\"../data/generated_size_{number_of_samples}_date_{cur_time}.tsv\""
   ]
  },
  {
   "cell_type": "markdown",
   "metadata": {
    "pycharm": {
     "name": "#%% md\n"
    }
   },
   "source": [
    "The `PresidioSentenceFaker` is based on the Faker library. It loads [FakeNameGenerator](https://www.fakenamegenerator.com/) data by default\n",
    "to extend the set of fake values and creates a `SentenceFaker` \n",
    "which returns a fake person record (with multiple values) instead of one value,\n",
    "allowing dependencies between values belonging to the same fake person\n",
    "(e.g. name = Michael Smith with the email michael.smith@gmail.com).\n",
    "\n",
    "`FakeNameGenerator.com_3000.csv` is included in this package and can be sourced from https://www.fakenamegenerator.com/order.php"
   ]
  },
  {
   "cell_type": "code",
   "execution_count": 4,
   "metadata": {},
   "outputs": [
    {
     "name": "stdout",
     "output_type": "stream",
     "text": [
      "Using default entity providers\n",
      "Using default entity mapping between the entities in the templates and the ones in the output dataset\n",
      "Using default provider aliases\n"
     ]
    }
   ],
   "source": [
    "sentence_faker = PresidioSentenceFaker(\"en_US\", lower_case_ratio=0.05, sentence_templates=sentence_templates)"
   ]
  },
  {
   "cell_type": "code",
   "execution_count": 5,
   "metadata": {},
   "outputs": [
    {
     "data": {
      "text/html": [
       "<div>\n",
       "<style scoped>\n",
       "    .dataframe tbody tr th:only-of-type {\n",
       "        vertical-align: middle;\n",
       "    }\n",
       "\n",
       "    .dataframe tbody tr th {\n",
       "        vertical-align: top;\n",
       "    }\n",
       "\n",
       "    .dataframe thead th {\n",
       "        text-align: right;\n",
       "    }\n",
       "</style>\n",
       "<table border=\"1\" class=\"dataframe\">\n",
       "  <thead>\n",
       "    <tr style=\"text-align: right;\">\n",
       "      <th></th>\n",
       "      <th>number</th>\n",
       "      <th>gender</th>\n",
       "      <th>nationality</th>\n",
       "      <th>prefix</th>\n",
       "      <th>first_name</th>\n",
       "      <th>middle_initial</th>\n",
       "      <th>last_name</th>\n",
       "      <th>street_name</th>\n",
       "      <th>city</th>\n",
       "      <th>state_abbr</th>\n",
       "      <th>...</th>\n",
       "      <th>company</th>\n",
       "      <th>domain_name</th>\n",
       "      <th>person</th>\n",
       "      <th>name</th>\n",
       "      <th>first_name_female</th>\n",
       "      <th>first_name_male</th>\n",
       "      <th>prefix_female</th>\n",
       "      <th>prefix_male</th>\n",
       "      <th>last_name_female</th>\n",
       "      <th>last_name_male</th>\n",
       "    </tr>\n",
       "  </thead>\n",
       "  <tbody>\n",
       "    <tr>\n",
       "      <th>0</th>\n",
       "      <td>1</td>\n",
       "      <td>female</td>\n",
       "      <td>Czech</td>\n",
       "      <td>Mrs.</td>\n",
       "      <td>Marie</td>\n",
       "      <td>J</td>\n",
       "      <td>Hamanová</td>\n",
       "      <td>P.O. Box 255</td>\n",
       "      <td>Kangerlussuaq</td>\n",
       "      <td>QE</td>\n",
       "      <td>...</td>\n",
       "      <td>Simple Solutions</td>\n",
       "      <td>MarathonDancing.gl</td>\n",
       "      <td>Marie J Hamanová</td>\n",
       "      <td>Marie J Hamanová</td>\n",
       "      <td>Marie</td>\n",
       "      <td></td>\n",
       "      <td>Mrs.</td>\n",
       "      <td></td>\n",
       "      <td>Hamanová</td>\n",
       "      <td></td>\n",
       "    </tr>\n",
       "    <tr>\n",
       "      <th>1</th>\n",
       "      <td>2</td>\n",
       "      <td>female</td>\n",
       "      <td>French</td>\n",
       "      <td>Ms.</td>\n",
       "      <td>Patricia</td>\n",
       "      <td>G</td>\n",
       "      <td>Desrosiers</td>\n",
       "      <td>Avenida Noruega 42</td>\n",
       "      <td>Vila Real</td>\n",
       "      <td>VR</td>\n",
       "      <td>...</td>\n",
       "      <td>Formula Gray</td>\n",
       "      <td>LostMillions.com.pt</td>\n",
       "      <td>Patricia Desrosiers</td>\n",
       "      <td>Patricia Desrosiers</td>\n",
       "      <td>Patricia</td>\n",
       "      <td></td>\n",
       "      <td>Ms.</td>\n",
       "      <td></td>\n",
       "      <td>Desrosiers</td>\n",
       "      <td></td>\n",
       "    </tr>\n",
       "    <tr>\n",
       "      <th>2</th>\n",
       "      <td>3</td>\n",
       "      <td>female</td>\n",
       "      <td>American</td>\n",
       "      <td>Ms.</td>\n",
       "      <td>Debra</td>\n",
       "      <td>O</td>\n",
       "      <td>Neal</td>\n",
       "      <td>1659 Hoog St</td>\n",
       "      <td>Brakpan</td>\n",
       "      <td>GA</td>\n",
       "      <td>...</td>\n",
       "      <td>Dahlkemper's</td>\n",
       "      <td>MediumTube.co.za</td>\n",
       "      <td>Debra Neal</td>\n",
       "      <td>Debra Neal</td>\n",
       "      <td>Debra</td>\n",
       "      <td></td>\n",
       "      <td>Ms.</td>\n",
       "      <td></td>\n",
       "      <td>Neal</td>\n",
       "      <td></td>\n",
       "    </tr>\n",
       "    <tr>\n",
       "      <th>3</th>\n",
       "      <td>4</td>\n",
       "      <td>male</td>\n",
       "      <td>French</td>\n",
       "      <td>Mr.</td>\n",
       "      <td>Peverell</td>\n",
       "      <td>C</td>\n",
       "      <td>Racine</td>\n",
       "      <td>183 Epimenidou Street</td>\n",
       "      <td>Limassol</td>\n",
       "      <td>LI</td>\n",
       "      <td>...</td>\n",
       "      <td>Quickbiz</td>\n",
       "      <td>ImproveLook.com.cy</td>\n",
       "      <td>Peverell Racine</td>\n",
       "      <td>Peverell Racine</td>\n",
       "      <td></td>\n",
       "      <td>Peverell</td>\n",
       "      <td></td>\n",
       "      <td>Mr.</td>\n",
       "      <td></td>\n",
       "      <td>Racine</td>\n",
       "    </tr>\n",
       "    <tr>\n",
       "      <th>4</th>\n",
       "      <td>5</td>\n",
       "      <td>female</td>\n",
       "      <td>Slovenian</td>\n",
       "      <td>Mrs.</td>\n",
       "      <td>Iolanda</td>\n",
       "      <td>S</td>\n",
       "      <td>Tratnik</td>\n",
       "      <td>Karu põik 61</td>\n",
       "      <td>Pärnu</td>\n",
       "      <td>PR</td>\n",
       "      <td>...</td>\n",
       "      <td>Dubrow's Cafeteria</td>\n",
       "      <td>PostTan.com.ee</td>\n",
       "      <td>Iolanda Tratnik</td>\n",
       "      <td>Iolanda Tratnik</td>\n",
       "      <td>Iolanda</td>\n",
       "      <td></td>\n",
       "      <td>Mrs.</td>\n",
       "      <td></td>\n",
       "      <td>Tratnik</td>\n",
       "      <td></td>\n",
       "    </tr>\n",
       "  </tbody>\n",
       "</table>\n",
       "<p>5 rows × 37 columns</p>\n",
       "</div>"
      ],
      "text/plain": [
       "   number  gender nationality prefix first_name middle_initial   last_name  \\\n",
       "0       1  female       Czech   Mrs.      Marie              J    Hamanová   \n",
       "1       2  female      French    Ms.   Patricia              G  Desrosiers   \n",
       "2       3  female    American    Ms.      Debra              O        Neal   \n",
       "3       4    male      French    Mr.   Peverell              C      Racine   \n",
       "4       5  female   Slovenian   Mrs.    Iolanda              S     Tratnik   \n",
       "\n",
       "             street_name           city state_abbr  ...             company  \\\n",
       "0           P.O. Box 255  Kangerlussuaq         QE  ...    Simple Solutions   \n",
       "1     Avenida Noruega 42      Vila Real         VR  ...        Formula Gray   \n",
       "2           1659 Hoog St        Brakpan         GA  ...        Dahlkemper's   \n",
       "3  183 Epimenidou Street       Limassol         LI  ...            Quickbiz   \n",
       "4           Karu põik 61          Pärnu         PR  ...  Dubrow's Cafeteria   \n",
       "\n",
       "           domain_name               person                 name  \\\n",
       "0   MarathonDancing.gl     Marie J Hamanová     Marie J Hamanová   \n",
       "1  LostMillions.com.pt  Patricia Desrosiers  Patricia Desrosiers   \n",
       "2     MediumTube.co.za           Debra Neal           Debra Neal   \n",
       "3   ImproveLook.com.cy      Peverell Racine      Peverell Racine   \n",
       "4       PostTan.com.ee      Iolanda Tratnik      Iolanda Tratnik   \n",
       "\n",
       "  first_name_female first_name_male prefix_female prefix_male  \\\n",
       "0             Marie                          Mrs.               \n",
       "1          Patricia                           Ms.               \n",
       "2             Debra                           Ms.               \n",
       "3                          Peverell                       Mr.   \n",
       "4           Iolanda                          Mrs.               \n",
       "\n",
       "   last_name_female last_name_male  \n",
       "0          Hamanová                 \n",
       "1        Desrosiers                 \n",
       "2              Neal                 \n",
       "3                           Racine  \n",
       "4           Tratnik                 \n",
       "\n",
       "[5 rows x 37 columns]"
      ]
     },
     "execution_count": 5,
     "metadata": {},
     "output_type": "execute_result"
    }
   ],
   "source": [
    "pd.DataFrame(sentence_faker._sentence_faker.records).head()"
   ]
  },
  {
   "cell_type": "markdown",
   "metadata": {},
   "source": [
    "`PresidioSentenceFaker` adds additional providers by default, which are not included in the Faker package.\n",
    "These can be found in `presidio_evaluator.data_generator.faker_extensions.providers`\n",
    "\n",
    "It is possible to create providers for additional entity types by extending Faker's `BaseProvider` class, \n",
    "and calling `add_provider` on the `PresidioSentenceFaker` instance.\n",
    "For example:"
   ]
  },
  {
   "cell_type": "code",
   "execution_count": 6,
   "metadata": {},
   "outputs": [],
   "source": [
    "import random\n",
    "from faker.providers import BaseProvider\n",
    "\n",
    "\n",
    "class MarsIdProvider(BaseProvider):\n",
    "    def mars_id(self):\n",
    "        # Generate a random row number between 1 and 50\n",
    "        row = random.randint(1, 50)\n",
    "        # Generate a random letter for the seat location from A-K\n",
    "        location = random.choice(\"ABCDEFGHIJK\")\n",
    "        # Return the seat in the format \"row-letter\" (e.g., \"25A\")\n",
    "        return f\"{row}{location}\"\n",
    "\n",
    "\n",
    "sentence_faker.add_provider(MarsIdProvider)\n",
    "# Now a new `mars_id` entity can be generated if a template has `mars_id` in it."
   ]
  },
  {
   "cell_type": "code",
   "execution_count": null,
   "metadata": {
    "is_executing": true
   },
   "outputs": [],
   "source": [
    "from presidio_evaluator.data_generator.faker_extensions.providers import *\n",
    "\n",
    "IpAddressProvider  # Both Ipv4 and IPv6 IP addresses\n",
    "NationalityProvider  # Read countries + nationalities from file\n",
    "OrganizationProvider  # Read organization names from file\n",
    "UsDriverLicenseProvider  # Read US driver license numbers from file\n",
    "AgeProvider  # Age values (unavailable on Faker\n",
    "AddressProviderNew  # Extend the default address formats\n",
    "PhoneNumberProviderNew  # Extend the default phone number formats\n",
    "ReligionProvider  # Read religions from file\n",
    "HospitalProvider  # Read hospital names from file\n",
    "MedicalProvider  # Read medical entities from file\n",
    "\n",
    "\n"
   ]
  },
  {
   "cell_type": "markdown",
   "metadata": {
    "pycharm": {
     "name": "#%% md\n"
    }
   },
   "source": [
    "`PresidioSentenceFaker.PROVIDER_ALIASES` can be extended to add additional provider aliases for when templates have\n",
    "a different entity name than what the providers emit."
   ]
  },
  {
   "cell_type": "code",
   "execution_count": 7,
   "metadata": {
    "is_executing": true,
    "pycharm": {
     "name": "#%%\n"
    }
   },
   "outputs": [
    {
     "data": {
      "text/plain": [
       "[('name', 'person'),\n",
       " ('credit_card_number', 'credit_card'),\n",
       " ('date_of_birth', 'birthday')]"
      ]
     },
     "execution_count": 7,
     "metadata": {},
     "output_type": "execute_result"
    }
   ],
   "source": [
    "# Create entity aliases (e.g. if your provider supports \"name\" but templates contain \"person\").\n",
    "provider_aliases = PresidioSentenceFaker.PROVIDER_ALIASES\n",
    "provider_aliases\n",
    "\n",
    "# To customize, call `PresidioSentenceFaker(locale=\"en_US\",...,provider_aliases=provider_aliases)`"
   ]
  },
  {
   "cell_type": "markdown",
   "metadata": {
    "pycharm": {
     "name": "#%% md\n"
    }
   },
   "source": [
    "Generate data"
   ]
  },
  {
   "cell_type": "code",
   "execution_count": 8,
   "metadata": {},
   "outputs": [
    {
     "name": "stderr",
     "output_type": "stream",
     "text": [
      "Sampling: 100%|██████████| 50/50 [00:00<00:00, 3414.33it/s]"
     ]
    },
    {
     "name": "stdout",
     "output_type": "stream",
     "text": [
      "Full text: The insurance claim for Csaba Szász was processed on 1985-02-02 08:13:29 using credit card ending in 4666752505713, with the total amount being charged to the account linked to bank number 14639958391, while the international payment of $1,500.00 was successfully transferred to IBAN NL968876K5 for the medical services rendered at our Susannefurt, MD, Antarctica (the territory South of 60 deg S) clinic.\n",
      "Spans: [Span(type: LOCATION, value: Susannefurt, MD, Antarctica (the territory South of 60 deg S), char_span: [336: 397]), Span(type: IBAN_CODE, value: NL968876K5, char_span: [284: 294]), Span(type: BANK_NUMBER, value: 14639958391, char_span: [189: 200]), Span(type: CREDIT_CARD, value: 4666752505713, char_span: [101: 114]), Span(type: DATE_TIME, value: 1985-02-02 08:13:29, char_span: [53: 72]), Span(type: PERSON, value: Csaba Szász, char_span: [24: 35])]\n",
      "\n"
     ]
    },
    {
     "name": "stderr",
     "output_type": "stream",
     "text": [
      "\n"
     ]
    }
   ],
   "source": [
    "import pprint\n",
    "fake_records = sentence_faker.generate_new_fake_sentences(num_samples=number_of_samples)\n",
    "pprint.pprint(fake_records[0])"
   ]
  },
  {
   "cell_type": "markdown",
   "metadata": {},
   "source": [
    "#### Verify randomness of dataset"
   ]
  },
  {
   "cell_type": "code",
   "execution_count": 9,
   "metadata": {
    "is_executing": true,
    "scrolled": true
   },
   "outputs": [
    {
     "name": "stdout",
     "output_type": "stream",
     "text": [
      "Total: 50\n",
      "Avg # of records per template: 4.166666666666667\n",
      "Median # of records per template: 4.0\n",
      "Std: 1.7716909687891083\n"
     ]
    }
   ],
   "source": [
    "from collections import Counter\n",
    "import numpy as np\n",
    "count_per_template_id = Counter([sample.template_id for sample in fake_records])\n",
    "\n",
    "print(f\"Total: {sum(count_per_template_id.values())}\")\n",
    "print(f\"Avg # of records per template: {np.mean(list(count_per_template_id.values()))}\")\n",
    "print(\n",
    "    f\"Median # of records per template: {np.median(list(count_per_template_id.values()))}\"\n",
    ")\n",
    "print(f\"Std: {np.std(list(count_per_template_id.values()))}\")"
   ]
  },
  {
   "cell_type": "code",
   "execution_count": 10,
   "metadata": {},
   "outputs": [
    {
     "name": "stdout",
     "output_type": "stream",
     "text": [
      "Encrypted: b4FykDOAK1bCpEobAlt5qbqKXZT7lOgfZ71Dj0IjQ6Orto6fSErhmb15UW/dWhevuwJnjV3wYNVJSKLc/9AWCXoRUn1EZ9tfZPgpt1ZQq+E=\n",
      "Decrypted: This is my new test string for testing decryption\n"
     ]
    }
   ],
   "source": [
    "# Encrypt / Decrypt Functions\n",
    "\n",
    "import os\n",
    "import base64\n",
    "from Crypto.Cipher import AES\n",
    "from Crypto.Util.Padding import pad, unpad\n",
    "from Crypto.Hash import SHA256\n",
    "\n",
    "# Generate a 32-byte key from a string\n",
    "def generate_key(key_string):\n",
    "    hash_object = SHA256.new(key_string.encode())\n",
    "    return hash_object.digest()\n",
    "\n",
    "# Encrypts the given plaintext using AES and returns the ciphertext\n",
    "def encrypt(plaintext, key):\n",
    "    cipher = AES.new(key, AES.MODE_CBC)\n",
    "    iv = cipher.iv\n",
    "    padded_plaintext = pad(plaintext.encode(), AES.block_size)  # Pad the plaintext\n",
    "    ciphertext = cipher.encrypt(padded_plaintext)\n",
    "    return base64.b64encode(iv + ciphertext).decode('utf-8')  # Prepend IV for decryption\n",
    "\n",
    "# Decrypts the given ciphertext using AES and returns the plaintext\n",
    "def decrypt(ciphertext, key):\n",
    "    ciphertext_bytes = base64.b64decode(ciphertext)\n",
    "    iv = ciphertext_bytes[:AES.block_size]\n",
    "    cipher = AES.new(key, AES.MODE_CBC, iv)\n",
    "    padded_plaintext = cipher.decrypt(ciphertext_bytes[AES.block_size:])\n",
    "    return unpad(padded_plaintext, AES.block_size).decode('utf-8')  # Unpad the plaintext\n",
    "\n",
    "# Example usage\n",
    "\n",
    "key_string = \"marveluniverse\"  # Use a secure key\n",
    "eKey = generate_key(key_string)\n",
    "\n",
    "# Example plaintext\n",
    "plaintext = \"This is my new test string for testing decryption\"\n",
    "\n",
    "# Encrypt\n",
    "encrypted = encrypt(plaintext, eKey)\n",
    "print(\"Encrypted:\", encrypted)\n",
    "\n",
    "# Decrypt\n",
    "decrypted = decrypt(encrypted, eKey)\n",
    "print(\"Decrypted:\", decrypted)\n",
    "\n"
   ]
  },
  {
   "cell_type": "code",
   "execution_count": null,
   "metadata": {},
   "outputs": [
    {
     "name": "stdout",
     "output_type": "stream",
     "text": [
      "Original records: 50\n",
      "Deduplicated records: 50\n"
     ]
    }
   ],
   "source": [
    "\n",
    "# Remove duplicates based on 'full_text'\n",
    "seen = set()\n",
    "deduped = []\n",
    "count = 1\n",
    "for record in fake_records:\n",
    "    key = record.full_text  # or use a tuple of fields if needed\n",
    "    record.full_text = encrypt(record.full_text, eKey)\n",
    "    record.template_id = count\n",
    "    count += 1\n",
    "    if key not in seen:\n",
    "        seen.add(key)\n",
    "        del record.masked\n",
    "        del record.metadata\n",
    "        for span in record.spans:\n",
    "            span.entity_value = encrypt(span.entity_value, eKey)\n",
    "            del span.normalized_tokens\n",
    "            del span.normalized_start_index\n",
    "            del span.normalized_end_index\n",
    "            del span.token_start\n",
    "            del span.token_end\n",
    "        deduped.append(record)\n",
    "\n",
    "print(f\"Original records: {len(fake_records)}\")\n",
    "print(f\"Deduplicated records: {len(deduped)}\")\n",
    "\n",
    "# Save the deduplicated data\n",
    "fake_records = deduped"
   ]
  },
  {
   "cell_type": "markdown",
   "metadata": {
    "pycharm": {
     "name": "#%% md\n"
    }
   },
   "source": [
    "#### Which entities did we generate?"
   ]
  },
  {
   "cell_type": "code",
   "execution_count": 12,
   "metadata": {
    "is_executing": true,
    "pycharm": {
     "name": "#%%\n"
    }
   },
   "outputs": [
    {
     "data": {
      "text/plain": [
       "Counter({'DATE_TIME': 50,\n",
       "         'PERSON': 46,\n",
       "         'LOCATION': 31,\n",
       "         'LAB_TEST': 28,\n",
       "         'DRUG_FREQUENCY': 26,\n",
       "         'DOSAGE': 26,\n",
       "         'DRUG': 26,\n",
       "         'MEDICAL_CONDITION': 24,\n",
       "         'AGE': 23,\n",
       "         'GENDER': 21,\n",
       "         'PROCEDURE': 21,\n",
       "         'CREDIT_CARD': 19,\n",
       "         'BANK_NUMBER': 17,\n",
       "         'PHONE_NUMBER': 17,\n",
       "         'EMAIL_ADDRESS': 16,\n",
       "         'IBAN_CODE': 10,\n",
       "         'US_SSN': 10,\n",
       "         'ORGANIZATION': 10,\n",
       "         'URL': 6,\n",
       "         'US_DRIVER_LICENSE': 6,\n",
       "         'US_PASSPORT': 6,\n",
       "         'SYMPTOM': 5})"
      ]
     },
     "execution_count": 12,
     "metadata": {},
     "output_type": "execute_result"
    }
   ],
   "source": [
    "count_per_entity = Counter()\n",
    "for record in fake_records:\n",
    "    count_per_entity.update(Counter([span.entity_type for span in record.spans]))\n",
    "\n",
    "count_per_entity"
   ]
  },
  {
   "cell_type": "code",
   "execution_count": 13,
   "metadata": {},
   "outputs": [
    {
     "name": "stdout",
     "output_type": "stream",
     "text": [
      "Full text: UEFXj39Ki8QjOgxbS2yAX0GwbOjfOLwDKyRfmMevocK6RdX9tpxjDwVoSVZkWEClOSx2hO3tXCRihcMjJKg7qb7XADfp6XdlcY8PpYPMGBQARe7iJ1YlMPdpUan8gPy1099y+zHWVMRkWwa6YsUgGI9CSIEC0KZ7O5CRUgKc+rfHjn7ti5Q5mTC8BV36HlRcNywJ7VChrvuzO4dxInfpUH7R+ish24A8EymG8b/uO+Z4QXU6B22E96uq/5NBF/J9NXa3j+LYlOSl43qwp1y18yjJU3v9zdaq9lyzwvF+7yIh5WLuPiF+hfspYMSc7s8dmCfmDfp8HbDoh7L3NuF1iPxGdQt/ygrZDLcsAqN7WewCCsUdQeywC+8nqQ7DqjBE6k1SaEbXiZC/3yAzo24GVsQsOnSdX2CFk5RuUv/ZRvk3yl5kKAodyU3c818mqi3UjXYjzEh0Yi7s7l2JTaHga/Yi6Y+baKbt3yEzvCvp0dtINwzF6Au/34cw3nKAspNGBxVoIx3ZTXliJoWuafJy6QJOX0wOGOezQyvW6iGQIkHGHGOBK2gu7z8Bbb/bja7H\n",
      "Spans: [Span(type: LOCATION, value: HyqHu/EphqM8Lhk+ca3keGnZlcvHHrtdMAGwaPdbOMxetEMO6Gm/tJxuswbssJNBjhvRdavuL8EjOWXuC8HPJciA05AaGO1FKLkIoZBISuY=, char_span: [336: 397]), Span(type: IBAN_CODE, value: 1omK9mtqDWOLpzURHbM31Ug6GpdqZA/3gbgNKOZAxU4=, char_span: [284: 294]), Span(type: BANK_NUMBER, value: Tsw2Hv5GVB+cR9t8QrqLxofXvvHdktFqM4yzFb+oprQ=, char_span: [189: 200]), Span(type: CREDIT_CARD, value: ooQlPRgUv7ySprbNX81pmTZI+fsEec9NvlGlpesPmVI=, char_span: [101: 114]), Span(type: DATE_TIME, value: OEkQuwQaPouNG8YbSno0OCdT8iMb9OMSMacW1rbi4ZH9MMwknTObxhIDEGL/P3Fr, char_span: [53: 72]), Span(type: PERSON, value: VjzQk/B9CC7dTVrvq0CNkrwLJs1lQBNclQDnqmfpvfk=, char_span: [24: 35])]\n",
      "\n",
      "Full text: nCe5faoAc0UmrJaTp6VHQUPGq9Z2bh8anD8xohyuAcUp8xERYgUAEwEXuSK6Wc2xYZOlRNFic1Zc5n6aXoPBHA9GWBb80bJXC3tAz9VZwmzs9A5W/jwaMJx6NC61Mqll9BCI1UGBVSd5Uexf31Mx+y+ovJpJD5dCuF/2fjGjcEH8o41pKEH1tQT4fdmR4p4C27RdbmrERAl/vNEE+bZmG8MMmP6Vifi9IQclhC+iKLdV1dXSr+oFGTsiruaYoiPbsPCLi3Qcgjd3e2eBSjRO4KWiB7TgrQtdd0PQdVKGcHJFg/ECfv+tocfmuJGru5ix6lIE3/0AkVXtUJAtNiHbdO/j5MQPhUphhsm85toLHm6UeUy4ARERQPDV8vOxWaF4MTt48VFmKvibD02ePIZH1qiHS+Wqi1IF53wYKFQqMclvIZPzm3IWsgZJEibUSHIJOvi0p9MuWja+Obcqvskp9g==\n",
      "Spans: [Span(type: URL, value: QKrcmWLGh5ycMIH55lyQ+6lahL+J8snMUp7G6Y81tUL84+rpr6uwg1ZyOX04ajKOWmpoctGgMqRg5ey1aZcNzA==, char_span: [223: 263]), Span(type: LOCATION, value: VeplJ/0R2058qL835uIPp/Aj4sxphDxchzKGjKfJ4i5DNlq8Pp0raUrNi6gD75By, char_span: [179: 203]), Span(type: EMAIL_ADDRESS, value: 1BmHGMnUtneE5yTCsDRAWqVPebRve9d+Lo7dkUwr9iSHE4czWXxXVD5wN/EvVQYT, char_span: [141: 160]), Span(type: US_SSN, value: kkNFqYhnmq7/WfuPXBnETLempeqN0P1hWD40IZP5eSs=, char_span: [107: 118]), Span(type: DATE_TIME, value: jb1DdPpYBD/Lec+ZT5JdbSg1OuvHb8Us3grAgzkU2gp0BSlpOcW3G50yJkGTvpuh, char_span: [44: 63]), Span(type: GENDER, value: XIlXp+0bi4bAJVevYpeXAL2U3CERWCWC3WY5nfn1Dcw=, char_span: [35: 39]), Span(type: AGE, value: 7uRouN/tq+vQF4w9Po/AOwAJs7QkL+o0Ftv7eKwuavg=, char_span: [31: 33]), Span(type: PERSON, value: 7ifm93MA4ChVYWb2yOnUtdt62B8cafo8EjFSN2lm/ZY=, char_span: [18: 29])]\n",
      "\n",
      "Full text: waRwG65I+wcMlmbYgZfWFH5ltwA0GW5XpkZZmX3tGDahnbtj5z19IzFmJBGzgA73ZJBlWDgECtADTe45VRD0mZXuzTHxRVyAnuXp6JnBHlpJQNfdZ+90jyEpCopR+yKkrnb2nUipDKfFYdOKAgGoKwoFO1Yxs8bEPv8K0auWdQp/34dP0rrXcJTqHGNJCLcOHWaY+dkvSdqvJa9ELZMqKzVMoEWXcWf6SzbGCLKq6o3A3TazZ10wRk46C8OPIaG0CwN698nwMbakZAvWqbuRGx63CYtkyyEbW+94RwnjA8q8aNjiveIIp2/wBBj1U4ddy2uCNrb/PPfwPAao2qrtrrqw/d5PYFBfpQ7eKG3iAHaojN0+scxQKUla3riOPT6U8g08HjKSt9S0dXKQ8HnYPL6aLadR+GoducPnpPHtFQs=\n",
      "Spans: [Span(type: URL, value: FRTsI9O5vqO2JyDF2BI5gtgZB+9egurXI4wzi65TLIPW4SW9qVdOrh6+9IW1Xjsyth15IjgYNRJX5uxH8on6nBlFNhtDZ82p/rMEO0gEiCo=, char_span: [247: 300]), Span(type: US_SSN, value: URp0kEo30p3+G1eD1jZV6cKm3UYVK6oWlCvVz6XyDfI=, char_span: [217: 228]), Span(type: LOCATION, value: YCXZGpTK52MszisF9JAZf1IoTYRqE774VzzGc4LtodRafcRMfd7J/L+WKqqMJ0Fe, char_span: [167: 182]), Span(type: CREDIT_CARD, value: R/RAUb4BIFc/RacJIr3B3W1nUuuSu7daOGMGjM9aHfnFo/idnkoimwNuTZgsIOpg, char_span: [132: 148]), Span(type: EMAIL_ADDRESS, value: 2qgKSzqMr7xztKbM9TuGTujpZMN38O+yH/N25uFsoCSxc/99tGDaej8WDC8PqBpf, char_span: [89: 112]), Span(type: DATE_TIME, value: cMXTEfwPq4eRq0aMuEb2S1URg+3BaJ+98U+J11dHvzrKfvkq2Dep2LHgxSoVrrPo, char_span: [42: 61]), Span(type: AGE, value: Utaag+mUr69bzyy5LL9j8T4kbFwZ8zXSpDhajC51ecY=, char_span: [29: 31]), Span(type: PERSON, value: aRHzLHM16zSWXfV207Y+jcJgKfphPbqkWUM3w+fLlyDee6hPTiyBIhBkRBgWuVwO, char_span: [10: 27])]\n",
      "\n",
      "Full text: oY9QRDPuc7C1syUt03SIFiPvzI+ekZ8CnU5cQGDnustolWX9pLZHj+ikTj+y4ITMC1C9zYe1sKzQv9CXURuqHYwrtQ+a+sVLNMQPcGWf9kV5T5I0SIgFj9rVg6a0EIcn3l/iEve9PaMfTsaiH+S5+rQ6/Buodp8OOBOvXYY3Dj7jEVKH4nmj2SxrEDIyXhWNz67AgRkg9HNb0zNc/xFUOCwq+jqY2N3ICcbGIXHRxQVgbRnJ2oKl0zuTyGmsDUNVyS+Oz+HLOZBJqzN96HShihNfRlNBxk49s9Jsg6OXIrN+FDZqvc5Bcxnv2HLVus3ROcMKIOt7xWHzERH99P3VGdB9Xm66sKs2I0bc04PqgqZDxYgnEkaufeN+FDuoZAhNA/SoplMJcRse5qRxUe1lyEmL8xyBt9/6ONzqFkweK98DYyKWc5OGQjkstk0m7aF605pvs/gUnRxWDRmomPlNrm0bU5VTSnA3vZTPKlI87wMIbTqhCwuEjpR6AGseDyB8efNaYkYsgyZRqlkAQZNlQId2Ums0Gh74IDySLxeHlDP+lTXkcdXl1hSD/ovRH4vfsJ49LCOoOT7iLMjr7j102lgEzpyQMp6bdULB+6RlJ3c=\n",
      "Spans: [Span(type: PHONE_NUMBER, value: u6rDRkJvBASC55rkNCF2KbzZhc0Atux4cLvytLsxEhU=, char_span: [363: 374]), Span(type: DRUG_FREQUENCY, value: rdrn0qZk7zaxU1Vk6oDDcH6cYtFUB9o0v9ctvos+6Fiqg1nGyh9qSkN02NGnN5x3, char_span: [278: 301]), Span(type: DOSAGE, value: w9OSmAIoxLhXNtKU9VRomTCy85a37Z3L3oqHsJgWTCk=, char_span: [254: 265]), Span(type: DRUG, value: Qcpo3EhF4bq90tmeNRetkFkI6HwYAs7NXCPBTaLZmwZEEWM7INGIlYSejpahH9jh, char_span: [231: 250]), Span(type: LAB_TEST, value: jlgTUf/LWB/dDU/O4BT0eE7l1oLMRggqB0GSIwpWthE=, char_span: [187: 195]), Span(type: MEDICAL_CONDITION, value: 84w+qaN5oL0777Hj7ZehxViNgnhvZfwk666CwgEYgLY=, char_span: [127: 139]), Span(type: GENDER, value: X3j78+Ri18l9t7yEbcbStsRQiaJEDbpcEBYQ/tCognA=, char_span: [81: 87]), Span(type: AGE, value: wefF7nKYEHhFTdkC51GMLy79DZRTE9yU1bW4zaff5Cg=, char_span: [69: 71]), Span(type: PERSON, value: iQG3xI7ayzecGY2fCDciq1v6Qw7py7/aT2Hns5sc1no=, char_span: [52: 65]), Span(type: DATE_TIME, value: aMwS3TITthbKygpsmHhumI9EqKqr1BSY6N0Fo3t8MDWIf7wk0Bvf17UnKM9R6SMt, char_span: [31: 50]), Span(type: ORGANIZATION, value: JVWrX8ALbbCZBsHwcZJjvhu3WvCPKEUliCI5EoF+ANo=, char_span: [18: 27])]\n",
      "\n",
      "Full text: cjeuq+1ttFwS1LmBTTG+H2oJkJE9AMOrWH4yM1kL43eNFpegdTsbKGxA9eU0DLNo7UTpMWj2zKQiQso5Jiv3nT7V/By5eBkneVgnbMTyX3aIKUZYCsXbvyE46zBkgKv+5iF4bAyx/G5obLLiB7v3bd4IcD+eez3SbOiGzoyfIJ8oAAw7p5ySOXJ7n9ZKpESIAkZ0EmzroMgUMjVxpCBpaoFNqOQUupxnw8sq9LQ/fZvteTxpRV3CLyIxOcQsjycUDWBosPAauTsfOAcmf6iWoWvB+oEeDCidhilAko20jJpBhzChkEmER5FjyyF8+EKwfUBL0Z6pPtAXrVp4BIyo+HrrFl7RrtQnU42cJz1CWqbebUaZnsiMM71m72Rh7GqM/vx2DZ9qzBiDdXyZOm0/tnbbbhIpZC61v4zHSM5TlcEhOxqRDvfUOhLpa0f/2+irW1d0GDiamWTlQCrkMHSTkX3FD9sRATQqq9m+EmdaoIH/F0sEJRw7vg+WS+iS/8DvFNkSUTHLsopnYe3QiYhpNw==\n",
      "Spans: [Span(type: PROCEDURE, value: Wal6capy3ofcHiyT2NxzsidiOu4Qoi6uGVQU8zxiJxCaBIOnp2zIflRUhFk8dZ1+, char_span: [357: 379]), Span(type: US_SSN, value: NbLsXzyBPSiEKiSWZt00zMJfVgD8Oc2FHxnIfeprNSk=, char_span: [239: 250]), Span(type: US_DRIVER_LICENSE, value: rlPNOq83KaTslDnB2Y+t2Bo6FuVBHNrNDNuzMNiiDI8=, char_span: [201: 210]), Span(type: US_PASSPORT, value: qbmZtJk1KKDL5vLxH37kYWo6tk74DgoEW9q3C9PxAuA=, char_span: [170: 176]), Span(type: PERSON, value: /0vLEzpf8Tp8L1/DLwp0EaT3ZgtB7mZ9PnjOgy5trhw=, char_span: [87: 98]), Span(type: DATE_TIME, value: 3rxXZV98s95Ec8vngmmE/ygWhNNI/766K4yemHLObV9xVNpm+isM4JQ0kzlDSuAp, char_span: [66: 85]), Span(type: ORGANIZATION, value: w+HS3BslomNesLiqOGL0nvNevMrlqD3/TR7iNq84Vo6Lz/YHkpqMvNm+vTDlZfe+, char_span: [35: 62])]\n",
      "\n",
      "Full text: bViwUuHY1LUHdFpeKIqeg6ddZwmx4oP9kWVn+GeH26k/2yYwOYmFBMHCVt7SXFRr6KKlOjMQw1KAO4ERRhsBZri/kcFuaBlYLyNZ/MgU5f0QiM31CFwrY9utyzXA/1xszbhHCXN6FmAQg09N/gHtRj7CYMNXi1Bo6p5E3EmjmVCLk5L4cKHmxL/T2mEg3tqYJl5XpqOCTIKmuzdAy2+vr54LSBv0Dd3c4STy//aSPbjX3ByC62Kgwptq2gM0vOEf3MzvSKOYYXJCeg5O89IXCrA+Am0o/aZhliYGqtVHYoPkteSx6bWwnRKwCDZRzxcoH+3weWuG48JoheFwB+OWcEbGCJosIDWoxXvVMmBgoUfqhks63297y5LbWsyvg+vNKATVNNWCXhaMxaCbThpnyDy0yutxLRQiq60Luk72N/w6gZ9hthIXL3U+SSDWJebUjQ6PFkdnUaGIo0r/Kou93oVYa4NfsGYkmgBKK+GFDhMwCx/iMPw8NBnVpS3fnVSA/JoC0bxeXbjODVcQROOZZw==\n",
      "Spans: [Span(type: LOCATION, value: d8WtMcrxD/Fr/kVzjr1LXz2naGxcmMnbrULo+LChj9MOudYOxKPS5GVzOR0smVG2, char_span: [341: 371]), Span(type: IBAN_CODE, value: 65rcGB4HxFGTt0+KAdSEjjSH3rhe5927OY96GzdWSt4=, char_span: [285: 299]), Span(type: BANK_NUMBER, value: LUICB7AeCX+pU9L0x2mcNNsegDu3xFzpKFp6IWJw3B4=, char_span: [191: 201]), Span(type: CREDIT_CARD, value: whpUUI4/UqPlWh8rJplXfj2dLNWfs38W/Gytn1BGh/o=, char_span: [101: 116]), Span(type: DATE_TIME, value: bH4B3iP697yJ+nrTtgdFD2l8jPhG/jBByefZp2FORign3Ox+P8UeGbByVTzfto9p, char_span: [53: 72]), Span(type: PERSON, value: bVUzzti61bwtn2g4AJ9Da/dZ7B+dFWolsAgM0Or8BqI=, char_span: [24: 35])]\n",
      "\n",
      "Full text: 3wRND1J3pzZalGSz7tUEcW4h4EQ2cMMiHgKOJKl4QTtfl8qi7WfLVCw+i8N9gYjLYt/F0CkfF/MqvdHhjwVceMqM06CfuRet3gestAl2sNkqLFm2aFEkFRICI2esLbHlxXYeUV13N1qE4JkaSnXCg4CqED4hhkAe/B+QKkGN2qTuS5FiOBWYk75BVE3lFBQsmxs41f49u03+moSEFLTcCneXfo3i3MW6WKgezMGlZbGexpe60psaiIh3yiPCWNtBNS73N87enNQVfadRbY/IjD1vmdJvkDN9kIMLCatTtSyObsECrK31Ip03++UfWF/HBjMTpSTdUDHcK0NBJvUtDmBYPGwZW19aOf+a0Tw2FD858V7O9eHkxyzpUGBWjtlN5YclcmkYbSyjqqdiSu6CZ2Ws4tGatz/vLNx7Tc/J5KZmvN5R/KK0Xw40/KbYl0CDDo6FSOOmez4ZRmjxBRbZPf0xw1n7Z77bRVNIGG32kac=\n",
      "Spans: [Span(type: URL, value: jN9OTBtPGBMXcekjoITA0ZUB0DMig0R5IR7BX9JjsoNYJXgXaq0xFxBO4M0uSf8vXSOW7gL0tpM1ywJMAV3ftSL6+37QOw6aP5vRfmCezJs=, char_span: [230: 281]), Span(type: LOCATION, value: DJxtqCksWTKkW3JYYxqZ7Xv++nY1WkqoeNLocBau0tr4OwwpmVc4cB9MBIcNfeFc, char_span: [190: 210]), Span(type: EMAIL_ADDRESS, value: PrSzqKENarlrbAJmYRz9YW/j8c9KWLBnfIHYxI+9eNJjYzOAHF90J360U1e7+EwI, char_span: [147: 171]), Span(type: US_SSN, value: CRYa+u4YhA5z3lXVYPPYIq/TakVyYLrgCnkwKjvl9CY=, char_span: [113: 124]), Span(type: DATE_TIME, value: DWr7QWE0B0NaIHh5cV6y7h16dHQB4lo8WkmHozVBQ4B8SNIBfLgVvvbfUhtP8sSo, char_span: [50: 69]), Span(type: GENDER, value: /CNM07eLj/Nq83iQ0LR6L+/WPr23IfnzmY+w8am+cNs=, char_span: [41: 45]), Span(type: AGE, value: v/qP2V3jasUbaB2cvZWLIdZR9BUYdkprjaVE8+qwRTw=, char_span: [37: 39]), Span(type: PERSON, value: DrPP3wtc3KmUNh2/1HKK2Jsl50+G135vb3Heun8O8go7QS8gNbK2zMLk2TXdF7hG, char_span: [18: 35])]\n",
      "\n",
      "Full text: 1gw/+4tbksOT3azrPibjO+tfr1VaFwOQJ5qJe2C40Vrau7G8xorQLGkCZlUp0Mb5pfZC/zjHulO/BGmxVOJODX9lUZEzyV6liy4E6c+s9SUyMULa/QMwODlgUROpC+VHPy/Cejbe9dgsci7RUuxTZKqo/GeRm19RLxvRsDR5jm7Ott9cgt196SIQiisUp0FqZ7SJSPQlGMZPrj61waPpTmgP2dFJgcDsLPLWIgPGU4MWPgCwO2fVPNqkH4wmzclMN2FwYNbWCTdWDW9vAjwOJY66gD0hyFlhaolwpzqyEMaK47RR7E9u5RgY0vEs12A6dBvUWqoL7ZlwS2zgjkXm4eidny4Zd3GWl9k4h7FnzKewjBJvM0NDu8Pmr3EwTOhM8orVCfKD+WesnsfS1JHxfQ+6mCqCXu1+mYwG7PbEoM2Evf6F4SWwkeCxhK9e58vVKPnew+pXjnqlEsqSDKDQnDvZBXtzgwtX7dRiLHrgX/XhXJv1L8A/z5hwK3wI8eZ/MiJO/6mwM1x1pVB4JBF0/VAxC5Cgoi9BB7Nx2MEF0F5nspsgCKgBrVHNpM8IDcXQTlCgl2JFcgWVSdVXErwYstjAcKLs5L2YeBiRUO8boXauT6aMGZ1PvoFngkABIBbN9BTqYjJZetIP/JpUDO8ig1hV5Qw3JGltGtn3ZBFMVtZp2UOMIlPPAkdhyxx0KTSuYcziy9R+W4NdMxJZ0gm0j3eNTVRULIUdqWSGlDDV0ZQ=\n",
      "Spans: [Span(type: BANK_NUMBER, value: 3aKcTOKfTcvXn/hK6CfqJGAVxhmZbAI3fVUejmbzVuA=, char_span: [472: 483]), Span(type: CREDIT_CARD, value: j3/aH+HxyVkcojkW6LLps+Oct+dhv2UzB5i1S1XnZPeHZvl0YeiocxS6FMYURiUq, char_span: [429: 445]), Span(type: LOCATION, value: QaIIbf0HBabT++y18yNZ6hVX81iryJIg0wXaEnaZGps=, char_span: [325: 337]), Span(type: PROCEDURE, value: 12E+ynwuYMPuSrx2/0i7Q7Z1rcKXbDBUFALU6y0A5Ng=, char_span: [292: 301]), Span(type: DRUG_FREQUENCY, value: rloEkjTv9kgkCbpFGoBnFI51bw+T9++IrU0jnsifihw3TIUxYd0kpeuyyAl9P+1H, char_span: [252: 275]), Span(type: DOSAGE, value: J+oXWRzVzxdqG/a3mfRoFz5pGY8THgD5owT2T3YNylY=, char_span: [226: 239]), Span(type: DRUG, value: 3rn0Dvp5drMr2Tpks0MKrVhzZ1BxU7qvmqeB7B266W8=, char_span: [212: 222]), Span(type: LAB_TEST, value: QYBrzN5FzkSV8Qdj6zW2qK4MmyhsF3+WoZTpRDSScY/Ne7SvtQp2epoVfJtJt3+M, char_span: [147: 178]), Span(type: MEDICAL_CONDITION, value: O8fFeGkvO6XqBGpycAb+CQGAmRJTGpQrb83N4Fmf0Xo=, char_span: [118: 130]), Span(type: DATE_TIME, value: zhWiWGvkNl7tjsCkI7sXSjsxOikY3bAQGr4fRvhQDYn55kbb07kR6jrhnF4uwbvr, char_span: [67: 86]), Span(type: PERSON, value: bVqblIK4tjh3YtLuA/gyXlbpMdCdP7uxVkDCLDhdK2A=, char_span: [51: 63])]\n",
      "\n",
      "Full text: uNNwpmjoteFcVhNiltd90CKVJFjshlFtfsSTKkjxJO/P7YjkTc+AJESS0NnASw2NhqP+MywMVek+uzYeawEA6XLyITpGeWkT33EIAzqtrlWhGqwNKYhT2ss1iIvS9Lw7KVR7TcZiN8jfSx6NaiaBaanLE9aeotp61umRFRxyZrHh4Xezr7tgQmkdjBrAx6Oo7NwRCZ+xaFd3UVFGou5aK+FXqEw7DIWfVMU2Yo2Eq1jMP2ZuKwDOYJp83QeOKhbUwyBkiFsvqz7rXs3cdgRbgAvU3OfOCnWxCWSlhIsKpUYjnOcNwf/DxWaYJ80WfEK+Q03YlzEhuoJIzYkDKDiltExGbza0PCfEOaaNggnz/7gNtTLtrMReODts/QHNRqJIjId3y+SXlidgty4dM8NW/YUpzQEo1ac5SmvkS52xR0cySZEEWigkXT3xUK5avPpCaxDYJ/M2T8HVq8D3xufAGeVlAhGs3TMnNR7oWHrUCPHVSQ1JjIf3eX6ZAVetJ2r/m+tVld9rNnm0YlWWVdTvxPTgdEsYfZzrRn33KL3IvOu7fs7LncfhgR7C/WxgudmrAT12W8qBKYMNbNdUHYmZRlq5DlYd3k6wqoY4vOzFFMrvm1rMXNrEXjfH2zxB1QNO\n",
      "Spans: [Span(type: LOCATION, value: END8zw+KwHy7RhG4TaBxgmMlPmcqEZQg4l3qy4+GZwNyFaa+4GdNiVLprKyZSJJ7, char_span: [417: 443]), Span(type: DATE_TIME, value: jTtMoXqY/w2dJW+dexX+B8rRTOuZX9HdiWV/8+ZqEw69WNdpwlqrN1F1u4L/v5Y5, char_span: [390: 409]), Span(type: EMAIL_ADDRESS, value: meG5Qk9F/pGUhaxK38qap/HKCWqTwZipnq9vfCfhDVyQpQiXFZBRHolj3+XNdcuG, char_span: [331: 349]), Span(type: PHONE_NUMBER, value: bt3KNX/ULAishh2C+FJ4bJQ+7TlrzR0yyBSCP9x4LM0=, char_span: [313: 326]), Span(type: DRUG_FREQUENCY, value: 5yZnw1/XbLjf3B8EcTohbg4a6OP+28mfuRTuyxx3/WTY764JncmnLqiHOsn+7rp/, char_span: [242: 265]), Span(type: DOSAGE, value: /rKLZVMGy4/H70yhEhcdwuc2A2N+ZXf+6HIfQNUnJmI=, char_span: [216: 228]), Span(type: DRUG, value: ShMJSRlGGI+4IcA4wPB4j75UUzxIRiCrtommn3/+Jo8=, char_span: [194: 204]), Span(type: LAB_TEST, value: OpTHPcoMWtuBOQotQnhEw/hrKka51Doyw+Kh+ei4xGUTO5cA+o2dwU/963CjnK9P, char_span: [112: 129]), Span(type: MEDICAL_CONDITION, value: mu7nf7ZfP1Eh6DnhXCgSfMWD2Ov1p4dD+W6porXgRwU=, char_span: [91: 99]), Span(type: GENDER, value: DfAyHwFGlEDKoL7KpvLA+CiLlfyUiu39g86szRzNoK0=, char_span: [60: 64]), Span(type: AGE, value: JTr6sGTM2uF6HJIO8HxPWhJlozYMlZ7BImY+RvoNMX8=, char_span: [48: 50]), Span(type: PERSON, value: G7BblB9ekXTDGMwLEDiBE0dlznKbpjso0seC0saET10=, char_span: [33: 44])]\n",
      "\n",
      "Full text: VtAmpZLs8y80U+wcznHzYOxnkq4hMWcRNXrhm8xH7L0BNuogw8crgKlg2ruTh8H4graDjlQoLUWWTT31pS1MiLO8r9efTUM86tjYkESi0plgHJBLsQ+mW8SCsBHyJnffK1arI3oXUBLagyz5WvJE73jWZCQl1M3pj0UkgwXxGqdlm6BitxVb/JEoLF3t1c3wy6RKxAR9m123qxqMkw9UwTH/QX4KERUUuK27q3fYOse76SQRM/E8iX2/VFM/TnXgiMKm8nA0yaFaS00FTWcuPugQkV2ST7/Pn9tvWoXIkwkVNGCQ+cHSoIbaDBdiYH/4Tf0A29rD8y7CP7nrDpoicPjQalMlII0kEWbtRS+R4setpxC7m1f8X8eL4TsfW5BIWt95HjNHVhnZXHFQ+OqPS0KTIK8m+949WmEk07KnBkmSeCcKASnvY21ihKeIgCkPRFp3KyRsl6RYOB9PnXc1yFXrpwvqGRKVUEiuMYYcnouIEYVxi4rudULVjVx5UCSuPtQB/T5CWhmtthpYAIDMBXB17IXA05q9tuiCH5UEQDjZ775hhuqxBr0KMo/tZFq5dhCoUWqVtJYEovJdfQcdwEH3b86K/9B5H0Lpx3GeHfY=\n",
      "Spans: [Span(type: LOCATION, value: pSw6u2aEmeJXYzukl9fhl9Jw+8YxOnX+jX8/8Plqv7Q=, char_span: [415: 425]), Span(type: DATE_TIME, value: +S6mRaoGvjvIxqFyjzxXeq15xuJl/wnQt8FMXFKgUwv6FCb4qoJtDq4DUFxbRr1F, char_span: [388: 407]), Span(type: EMAIL_ADDRESS, value: wvcXJE2/XKsx6XaH5YD3AjgqiedL/GUcBm+UqQiWcq7uMDoJ0uanAKZiHA4tyMOK, char_span: [323: 347]), Span(type: PHONE_NUMBER, value: SydT1ioPBM2jg7DTBJCRmt2PDBXS2BcJ56KcHzKcw3k=, char_span: [304: 318]), Span(type: DRUG_FREQUENCY, value: zTtQko0LOpTabLjeu2EdnsuKYg7JTcHRkXPJIg3xF00=, char_span: [245: 256]), Span(type: DOSAGE, value: Q+LkZpQ2jQDzeGwzjA8AqBTMBrqTayOWVMyXTgqnOTA=, char_span: [220: 231]), Span(type: DRUG, value: k82Kq6jOg/cGlFDK0KDAZVCBFNNeivmOXlOmWq6uR1Q=, char_span: [198: 208]), Span(type: LAB_TEST, value: P/wRwOvpBiqmJwWw6LRZqHj6a/lfBtA1QCXnyGJo1l0=, char_span: [121: 133]), Span(type: MEDICAL_CONDITION, value: qdpRXZCv0Vu8MiIf1S34fFlbDE/IC4XkZioPN7/I2Rk=, char_span: [99: 108]), Span(type: GENDER, value: KHtefKaYH47WoxDgS9faZNMSrzfOcuwDGwpr7yZmpyI=, char_span: [66: 72]), Span(type: AGE, value: 499ir9L/XIlHVbhjfL1o0/HN83rl7a+snPfyRvUS6V4=, char_span: [54: 56]), Span(type: PERSON, value: mBJVb9qAE9mOSLxp+3wNkjOLqJjq6dvIs6jslz2df5bWkwM91zjD37h1+Ig1LoAM, char_span: [33: 50])]\n",
      "\n"
     ]
    }
   ],
   "source": [
    "for record in fake_records[:10]:\n",
    "    print(record)"
   ]
  },
  {
   "cell_type": "markdown",
   "metadata": {
    "pycharm": {
     "name": "#%% md\n"
    }
   },
   "source": [
    "#### Save as json"
   ]
  },
  {
   "cell_type": "code",
   "execution_count": 14,
   "metadata": {
    "is_executing": true,
    "pycharm": {
     "name": "#%%\n"
    }
   },
   "outputs": [],
   "source": [
    "from presidio_evaluator import InputSample\n",
    "InputSample.to_json(dataset=fake_records, output_file=output_file)"
   ]
  },
  {
   "cell_type": "code",
   "execution_count": 15,
   "metadata": {},
   "outputs": [
    {
     "data": {
      "text/plain": [
       "'../data/generated_size_50_date_August_16_2025.json'"
      ]
     },
     "execution_count": 15,
     "metadata": {},
     "output_type": "execute_result"
    }
   ],
   "source": [
    "output_file"
   ]
  },
  {
   "cell_type": "markdown",
   "metadata": {
    "pycharm": {
     "name": "#%% md\n"
    }
   },
   "source": [
    "#### Create a CONLL like data frame"
   ]
  },
  {
   "cell_type": "code",
   "execution_count": null,
   "metadata": {
    "is_executing": true,
    "pycharm": {
     "name": "#%%\n"
    }
   },
   "outputs": [],
   "source": [
    "conll = InputSample.create_conll_dataset(dataset=fake_records)\n",
    "conll.head(10)"
   ]
  },
  {
   "cell_type": "code",
   "execution_count": null,
   "metadata": {
    "is_executing": true,
    "pycharm": {
     "name": "#%%\n"
    }
   },
   "outputs": [],
   "source": [
    "conll.to_csv(output_conll, sep=\"\\t\")\n",
    "print(f\"CoNLL2003 dataset structure output location: {output_conll}\")"
   ]
  },
  {
   "cell_type": "markdown",
   "metadata": {},
   "source": [
    "### Next steps\n",
    "\n",
    "- Evaluate Presidio using fake data: [Sample](4_Evaluate_Presidio_Analyzer.ipynb)\n",
    "- Split to train/test/validation while ensuring sentences originiating from the same template are all on the same subset: [Sample](3_Split_by_pattern_#.ipynb)\n",
    "- Conduct a small exploratory data analysis on the generated data: [Sample](2_PII_EDA.ipynb)"
   ]
  },
  {
   "cell_type": "markdown",
   "metadata": {},
   "source": [
    "#### Copyright notice:\n",
    "\n",
    "\n",
    "Data generated for evaluation was created using Fake Name Generator.\n",
    "\n",
    "Fake Name Generator identities by the [Fake Name Generator](https://www.fakenamegenerator.com/) \n",
    "are licensed under a [Creative Commons Attribution-Share Alike 3.0 United States License](http://creativecommons.org/licenses/by-sa/3.0/us/). Fake Name Generator and the Fake Name Generator logo are trademarks of Corban Works, LLC."
   ]
  }
 ],
 "metadata": {
  "kernelspec": {
   "display_name": ".venv",
   "language": "python",
   "name": "python3"
  },
  "language_info": {
   "codemirror_mode": {
    "name": "ipython",
    "version": 3
   },
   "file_extension": ".py",
   "mimetype": "text/x-python",
   "name": "python",
   "nbconvert_exporter": "python",
   "pygments_lexer": "ipython3",
   "version": "3.12.9"
  }
 },
 "nbformat": 4,
 "nbformat_minor": 4
}
