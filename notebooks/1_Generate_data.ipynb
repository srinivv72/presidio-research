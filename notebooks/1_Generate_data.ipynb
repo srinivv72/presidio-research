{
 "cells": [
  {
   "cell_type": "code",
   "execution_count": 1,
   "metadata": {
    "is_executing": true
   },
   "outputs": [],
   "source": [
    "# install presidio via pip if not yet installed\n",
    "\n",
    "#!pip install presidio-analyzer\n",
    "#!pip install presidio-evaluator"
   ]
  },
  {
   "cell_type": "code",
   "execution_count": 2,
   "metadata": {
    "is_executing": true,
    "scrolled": true
   },
   "outputs": [],
   "source": [
    "import datetime\n",
    "import pprint\n",
    "from collections import Counter\n",
    "from pathlib import Path\n",
    "from typing import Dict, List\n",
    "\n",
    "import pandas as pd\n",
    "import numpy as np\n",
    "\n",
    "from presidio_evaluator import InputSample\n",
    "from presidio_evaluator.data_generator import PresidioSentenceFaker\n",
    "\n"
   ]
  },
  {
   "cell_type": "markdown",
   "metadata": {},
   "source": [
    "# Generate fake PII data using the Presidio Sentence Faker"
   ]
  },
  {
   "cell_type": "markdown",
   "metadata": {},
   "source": [
    "The Presidio Sentence Faker enables you to generate a synthetic dataset from sentence templates.\n",
    "Example templates:\n",
    "\n",
    "> I live at {{address}}\n",
    "\n",
    "> You can email me at {{email}}. Thanks, {{first_name}}\n",
    "\n",
    "> What's your last name? It's {{last_name}}\n",
    "\n",
    "> Every time I see you falling I get down on my knees and pray"
   ]
  },
  {
   "cell_type": "markdown",
   "metadata": {},
   "source": [
    "### Simple example\n",
    "This uses the default generator to create 10 samples based on three templates"
   ]
  },
  {
   "cell_type": "code",
   "execution_count": 3,
   "metadata": {
    "is_executing": true
   },
   "outputs": [
    {
     "name": "stdout",
     "output_type": "stream",
     "text": [
      "Using default entity providers\n",
      "Using default entity mapping between the entities in the templates and the ones in the output dataset\n",
      "Using default provider aliases\n"
     ]
    },
    {
     "name": "stderr",
     "output_type": "stream",
     "text": [
      "Sampling: 100%|██████████| 25/25 [00:00<00:00, 839.20it/s]"
     ]
    },
    {
     "name": "stdout",
     "output_type": "stream",
     "text": [
      "Offer extended to {{PERSON}} ({{AGE}}, {{GENDER}}) on {{DATE_TIME}}. Employment verification completed via SSN {{US_SSN}}. Offer letter sent to {{EMAIL_ADDRESS}}. Office location: {{LOCATION}}. Sign documents at {{URL}}. Direct deposit form requires bank details and last 4 of SSN.\n",
      "[Span(type: URL, value: https://www.zgqyuxoephf.org/download?id=8906, char_span: [220: 264]), Span(type: LOCATION, value: Simpsonmouth, IA, char_span: [184: 200]), Span(type: EMAIL_ADDRESS, value: amandacastro@example.org, char_span: [141: 165]), Span(type: US_SSN, value: 073-45-1795, char_span: [107: 118]), Span(type: DATE_TIME, value: 1985-06-24 18:27:40, char_span: [44: 63]), Span(type: GENDER, value: female, char_span: [33: 39]), Span(type: AGE, value: 9, char_span: [30: 31]), Span(type: PERSON, value: Holly Long, char_span: [18: 28])]\n",
      "Upon admission to {{ORGANIZATION}} on {{DATE_TIME}}, {{PERSON}}, a {{AGE}}-year-old {{GENDER}} with a medical history significant for {{MEDICAL_CONDITION}}, underwent an initial evaluation that included {{MEDICAL_PROCEDURE}}, followed by the administration of {{DRUG}} at {{DOSAGE}} to be taken {{DRUG_FREQUENCY}}, while the patient's emergency contact information including phone {{PHONE_NUMBER}} was verified by the nursing staff during the admission process.\n",
      "[Span(type: PHONE_NUMBER, value: (858)078-7952x6607, char_span: [366: 384]), Span(type: DRUG_FREQUENCY, value: every 12 hours, char_span: [284: 298]), Span(type: DOSAGE, value: 100mcg/h patch, char_span: [257: 271]), Span(type: DRUG, value: Levothyroxine, char_span: [240: 253]), Span(type: MEDICAL_PROCEDURE, value: Vitamin B12 Level, char_span: [187: 204]), Span(type: MEDICAL_CONDITION, value: Tuberculosis, char_span: [127: 139]), Span(type: GENDER, value: male, char_span: [83: 87]), Span(type: AGE, value: 0.7, char_span: [70: 73]), Span(type: PERSON, value: Justin Walton, char_span: [53: 66]), Span(type: DATE_TIME, value: 2011-10-06 15:03:15, char_span: [32: 51]), Span(type: ORGANIZATION, value: Olin Corp., char_span: [18: 28])]\n"
     ]
    },
    {
     "name": "stderr",
     "output_type": "stream",
     "text": [
      "\n"
     ]
    }
   ],
   "source": [
    "from presidio_evaluator.data_generator.faker_extensions.providers import *\n",
    "\n",
    "IpAddressProvider  # Both Ipv4 and IPv6 IP addresses\n",
    "NationalityProvider  # Read countries + nationalities from file\n",
    "OrganizationProvider  # Read organization names from file\n",
    "UsDriverLicenseProvider  # Read US driver license numbers from file\n",
    "AgeProvider  # Age values (unavailable on Faker\n",
    "AddressProviderNew  # Extend the default address formats\n",
    "PhoneNumberProviderNew  # Extend the default phone number formats\n",
    "ReligionProvider  # Read religions from file\n",
    "HospitalProvider  # Read hospital names from file\n",
    "MedicalProvider  # Read medical entities from file\n",
    "UsPassportProvider\n",
    "\n",
    "from presidio_evaluator.data_generator.presidio_sentence_faker import PresidioSentenceFaker\n",
    "\n",
    "\"\"\" sentence_templates = [\n",
    "    \"Patient {{PERSON}} ({{AGE}} years old, {{GENDER}}) completed their registration on {{DATE_TIME}}. Contact: {{EMAIL_ADDRESS}}. SSN: {{US_SSN}}. Billing on file ends with {{CREDIT_CARD}}.\",\n",
    "    \"Order confirmed for {{PERSON}} ({{AGE}}) on {{DATE_TIME}}. Receipt sent to {{EMAIL_ADDRESS}}. Shipping to {{LOCATION}}. Payment processed with card {{CREDIT_CARD}}. Order details at {{URL}}.\",\n",
    "    \"New account opened for {{PERSON}} ({{AGE}}, {{GENDER}}) on {{DATE_TIME}}. SSN {{US_SSN}}. Primary contact: {{EMAIL_ADDRESS}}. Initial deposit from card {{CREDIT_CARD}}. Nearest branch: {{LOCATION}}.\"\n",
    "    \"{{PERSON}} ({{AGE}}, {{GENDER}}) had an appointment on {{DATE_TIME}}. Patient portal login sent to {{EMAIL_ADDRESS}}. Insurance verified with SSN {{US_SSN}}. Next visit scheduled at our {{LOCATION}} location. Secure message sent via {{URL}}.\",\n",
    "    \"Booking confirmed for {{PERSON}} ({{AGE}}) on {{DATE_TIME}}. E-ticket sent to {{EMAIL_ADDRESS}}. Payment processed with card {{CREDIT_CARD}}. Pickup at {{LOCATION}}. View itinerary at {{URL}}.\",\n",
    "    \"Application received from {{PERSON}} ({{AGE}}, {{GENDER}}) on {{DATE_TIME}}. Contact: {{EMAIL_ADDRESS}}. SSN provided for background check: {{US_SSN}}. Current location: {{LOCATION}}. Resume available at {{URL}}.\",\n",
    "    \"New {{AGE}}-year-old {{GENDER}} member {{PERSON}} joined on {{DATE_TIME}}. Welcome email sent to {{EMAIL_ADDRESS}}. Membership card will be mailed to {{LOCATION}}. Payment method: {{CREDIT_CARD}}. Access member portal at {{URL}}.\",\n",
    "    \"Claim submitted by {{PERSON}} ({{AGE}}, {{GENDER}}) on {{DATE_TIME}}. Policyholder SSN: {{US_SSN}}. Correspondence sent to {{EMAIL_ADDRESS}}. Incident location: {{LOCATION}}. Payment processed to card {{CREDIT_CARD}}.\",\n",
    "    \"Subscription activated for {{PERSON}} ({{AGE}}) on {{DATE_TIME}}. Account email: {{EMAIL_ADDRESS}}. Billing: {{CREDIT_CARD}}. Location: {{LOCATION}}. Access your account at {{URL}}. For security, SSN required: {{US_SSN}}.\",\n",
    "    \"Application for {{PERSON}} ({{AGE}}, {{GENDER}}) received on {{DATE_TIME}}. SSN verified: {{US_SSN}}. Notifications will be sent to {{EMAIL_ADDRESS}}. Service center: {{LOCATION}}. Check status at {{URL}}.\",\n",
    "    \"Alert: Suspicious transaction on {{DATE_TIME}} for card {{CREDIT_CARD}}. Cardholder {{PERSON}} ({{AGE}}) was in {{LOCATION}}. If unauthorized, contact us at {{URL}} or verify at {{EMAIL_ADDRESS}}.\",\n",
    "    \"{{PERSON}} ({{AGE}} years, {{GENDER}}), SSN {{US_SSN}}, seen on {{DATE_TIME}}. Records updated and notification sent to {{EMAIL_ADDRESS}}. Next appointment at our {{LOCATION}} office. Secure portal: {{URL}}.\",\n",
    "    \"{{PERSON}} ({{AGE}}, {{GENDER}}) registered on {{DATE_TIME}}. Confirmation sent to {{EMAIL_ADDRESS}}. Event location: {{LOCATION}}. Payment method: {{CREDIT_CARD}}. Event details at {{URL}}. Emergency contact SSN: {{US_SSN}}.\",\n",
    "    \"Ticket: {{PERSON}} ({{AGE}}) contacted support on {{DATE_TIME}}. Verified email: {{EMAIL_ADDRESS}}. Account verified with SSN: {{US_SSN}}. Billing address: {{LOCATION}}. Reference URL: {{URL}}.\",\n",
    "    \"Background check initiated for {{PERSON}} ({{AGE}}, {{GENDER}}) on {{DATE_TIME}}. SSN: {{US_SSN}}. Results will be sent to {{EMAIL_ADDRESS}}. Current residence: {{LOCATION}}. Payment processed with {{CREDIT_CARD}}. Access report at {{URL}}.\",\n",
    "    \"Reservation confirmed for {{PERSON}} ({{AGE}}) at {{LOCATION}} on {{DATE_TIME}}. Confirmation sent to {{EMAIL_ADDRESS}}. Guaranteed by card {{CREDIT_CARD}}. Check-in requires ID and SSN: {{US_SSN}}. View booking at {{URL}}.\",\n",
    "    \"{{PERSON}} ({{AGE}}, {{GENDER}}) enrolled on {{DATE_TIME}}. Student ID created using SSN {{US_SSN}}. Campus email: {{EMAIL_ADDRESS}}. Campus location: {{LOCATION}}. Tuition payment method: {{CREDIT_CARD}}. Portal: {{URL}}.\",\n",
    "    \"Rental agreement for {{PERSON}} ({{AGE}}) on {{DATE_TIME}}. Driver's license verified with SSN {{US_SSN}}. Pickup: {{LOCATION}}. Confirmation sent to {{EMAIL_ADDRESS}}. Secured with card {{CREDIT_CARD}}. Details at {{URL}}.\"\n",
    "    \"Offer extended to {{PERSON}} ({{AGE}}, {{GENDER}}) on {{DATE_TIME}}. Employment verification completed via SSN {{US_SSN}}. Offer letter sent to {{EMAIL_ADDRESS}}. Office location: {{LOCATION}}. Sign documents at {{URL}}. Direct deposit form requires bank details and last 4 of SSN.\",\n",
    "    \"New payee {{PERSON}} ({{AGE}}) added on {{DATE_TIME}}. Verification code sent to {{EMAIL_ADDRESS}}. Account linked to {{CREDIT_CARD}}. Mailing address: {{LOCATION}}. For security, please verify SSN: {{US_SSN}}. Manage payees at {{URL}}.\",\n",
    "] \"\"\"\n",
    "\n",
    "sentence_templates = [\n",
    "    \"During the comprehensive health assessment conducted on {{DATE_TIME}}, {{PERSON}}, a {{AGE}}-year-old {{GENDER}} with a history of {{MEDICAL_CONDITION}}, reported experiencing persistent {{SYMPTOM}} that required further investigation through {{MEDICAL_PROCEDURE}}, while the attending physician reviewed the patient's contact information including phone {{PHONE_NUMBER}} and {{EMAIL_ADDRESS}} for follow-up communications.\",\n",
    "    \"Following the diagnostic evaluation, the medical team prescribed {{DRUG}} at a dosage of {{DOSAGE}} to be taken {{DRUG_FREQUENCY}}, along with scheduling a follow-up {{MEDICAL_PROCEDURE}} at our {{LOCATION}} facility on {{DATE_TIME}} to monitor the patient's response to the treatment plan.\",\n",
    "    \"The insurance claim for {{PERSON}} was processed on {{DATE_TIME}} using credit card ending in {{CREDIT_CARD}}, with the total amount being charged to the account linked to bank number {{BANK_NUMBER}}, while the international payment of $1,500.00 was successfully transferred to IBAN {{IBAN_CODE}} for the medical services rendered at our {{LOCATION}} clinic.\",\n",
    "    \"During the registration process at {{ORGANIZATION}} on {{DATE_TIME}}, {{PERSON}} provided multiple forms of identification including US passport number {{US_PASSPORT}}, state driver's license {{US_DRIVER_LICENSE}}, and social security number {{US_SSN}}, all of which were verified through our secure authentication system before proceeding with the scheduled {{MEDICAL_PROCEDURE}}.\",\n",
    "    \"The electronic health record for {{PERSON}}, a {{AGE}}-year-old {{GENDER}}, indicates a diagnosis of {{MEDICAL_CONDITION}} with recent {{MEDICAL_PROCEDURE}} results showing significant improvement since the initiation of {{DRUG}} therapy at {{DOSAGE}} administered {{DRUG_FREQUENCY}}, while the patient's contact details including phone {{PHONE_NUMBER}} and {{EMAIL_ADDRESS}} were confirmed during the last visit on {{DATE_TIME}} at our {{LOCATION}} medical center.\",\n",
    "    \"The detailed invoice generated on {{DATE_TIME}} for services rendered to {{PERSON}} includes charges for the recent {{MEDICAL_PROCEDURE}} and {{MEDICAL_PROCEDURE}}, with payment authorized through credit card {{CREDIT_CARD}} and a portion of the amount being directly billed to the patient's bank account {{BANK_NUMBER}}, while the remaining balance was covered by an international wire transfer to IBAN {{IBAN_CODE}}.\",\n",
    "    \"Upon admission to {{ORGANIZATION}} on {{DATE_TIME}}, {{PERSON}}, a {{AGE}}-year-old {{GENDER}} with a medical history significant for {{MEDICAL_CONDITION}}, underwent an initial evaluation that included {{MEDICAL_PROCEDURE}}, followed by the administration of {{DRUG}} at {{DOSAGE}} to be taken {{DRUG_FREQUENCY}}, while the patient's emergency contact information including phone {{PHONE_NUMBER}} was verified by the nursing staff during the admission process.\",\n",
    "    \"The medical report dated {{DATE_TIME}} for {{PERSON}} outlines the successful completion of {{MEDICAL_PROCEDURE}} performed at our {{LOCATION}} facility, with prescribed medication including {{DRUG}} at {{DOSAGE}} to be taken {{DRUG_FREQUENCY}}, while the patient's identification documents including US passport {{US_PASSPORT}} and driver's license {{US_DRIVER_LICENSE}} were verified prior to the procedure to ensure accurate medical record-keeping and billing processes.\",\n",
    "    \"During the follow-up consultation on {{DATE_TIME}}, {{PERSON}}, a {{AGE}}-year-old {{GENDER}} being treated for {{MEDICAL_CONDITION}}, reported improved {{SYMPTOM}} following the prescribed regimen of {{DRUG}} at {{DOSAGE}} taken {{DRUG_FREQUENCY}}, while the most recent {{MEDICAL_PROCEDURE}} results showed positive response to treatment, and the patient's contact information including phone {{PHONE_NUMBER}} was updated in our system for future communications.\",\n",
    "    \"The multidisciplinary treatment plan developed for {{PERSON}} on {{DATE_TIME}} includes ongoing management of {{MEDICAL_CONDITION}} through regular {{MEDICAL_PROCEDURE}} monitoring and administration of {{DRUG}} at {{DOSAGE}} to be taken {{DRUG_FREQUENCY}}, with scheduled {{MEDICAL_PROCEDURE}} to be performed at our {{LOCATION}} facility, while all financial transactions are processed through the patient's credit card {{CREDIT_CARD}} and verified bank account {{BANK_NUMBER}} for seamless billing and record-keeping purposes.\",\n",
    "    \"Offer extended to {{PERSON}} ({{AGE}}, {{GENDER}}) on {{DATE_TIME}}. Employment verification completed via SSN {{US_SSN}}. Offer letter sent to {{EMAIL_ADDRESS}}. Office location: {{LOCATION}}. Sign documents at {{URL}}. Direct deposit form requires bank details and last 4 of SSN.\",\n",
    "    \"New payee {{PERSON}} ({{AGE}}) added on {{DATE_TIME}}. Verification code sent to {{EMAIL_ADDRESS}}. Account linked to {{CREDIT_CARD}}. Mailing address: {{LOCATION}}. For security, please verify SSN: {{US_SSN}}. Manage payees at {{URL}}.\",\n",
    "]\n",
    "\n",
    "sentence_faker = PresidioSentenceFaker(\n",
    "    \"en_US\", lower_case_ratio=0.05, sentence_templates=sentence_templates, #base_records=records\n",
    ")\n",
    "fake_sentence_results = sentence_faker.generate_new_fake_sentences(25)\n",
    "\n",
    "# Print the spans of the first sample\n",
    "print(fake_sentence_results[0].masked)\n",
    "print(fake_sentence_results[0].spans)\n",
    "print(fake_sentence_results[1].masked)\n",
    "print(fake_sentence_results[1].spans)"
   ]
  },
  {
   "cell_type": "markdown",
   "metadata": {},
   "source": [
    "## Generate a full dataset\n",
    "\n",
    "In this example we generate a large dataset with multiple entity types and save it in in JSON and CONLL03 formats.\n",
    "This uses the default sentence templates included in this package."
   ]
  },
  {
   "cell_type": "code",
   "execution_count": 4,
   "metadata": {
    "is_executing": true,
    "scrolled": true
   },
   "outputs": [],
   "source": [
    "import datetime\n",
    "\n",
    "number_of_samples = 50\n",
    "lower_case_ratio = 0.05\n",
    "locale = \"en\"\n",
    "cur_time = datetime.date.today().strftime(\"%B_%d_%Y\")\n",
    "\n",
    "output_file = f\"../data/generated_size_{number_of_samples}_date_{cur_time}.json\"\n",
    "output_conll = f\"../data/generated_size_{number_of_samples}_date_{cur_time}.tsv\""
   ]
  },
  {
   "cell_type": "markdown",
   "metadata": {
    "pycharm": {
     "name": "#%% md\n"
    }
   },
   "source": [
    "The `PresidioSentenceFaker` is based on the Faker library. It loads [FakeNameGenerator](https://www.fakenamegenerator.com/) data by default\n",
    "to extend the set of fake values and creates a `SentenceFaker` \n",
    "which returns a fake person record (with multiple values) instead of one value,\n",
    "allowing dependencies between values belonging to the same fake person\n",
    "(e.g. name = Michael Smith with the email michael.smith@gmail.com).\n",
    "\n",
    "`FakeNameGenerator.com_3000.csv` is included in this package and can be sourced from https://www.fakenamegenerator.com/order.php"
   ]
  },
  {
   "cell_type": "code",
   "execution_count": 5,
   "metadata": {},
   "outputs": [
    {
     "name": "stdout",
     "output_type": "stream",
     "text": [
      "Using default entity providers\n",
      "Using default entity mapping between the entities in the templates and the ones in the output dataset\n",
      "Using default provider aliases\n"
     ]
    }
   ],
   "source": [
    "sentence_faker = PresidioSentenceFaker(\"en_US\", lower_case_ratio=0.05, sentence_templates=sentence_templates)"
   ]
  },
  {
   "cell_type": "code",
   "execution_count": 6,
   "metadata": {},
   "outputs": [
    {
     "data": {
      "text/html": [
       "<div>\n",
       "<style scoped>\n",
       "    .dataframe tbody tr th:only-of-type {\n",
       "        vertical-align: middle;\n",
       "    }\n",
       "\n",
       "    .dataframe tbody tr th {\n",
       "        vertical-align: top;\n",
       "    }\n",
       "\n",
       "    .dataframe thead th {\n",
       "        text-align: right;\n",
       "    }\n",
       "</style>\n",
       "<table border=\"1\" class=\"dataframe\">\n",
       "  <thead>\n",
       "    <tr style=\"text-align: right;\">\n",
       "      <th></th>\n",
       "      <th>first_name</th>\n",
       "      <th>last_name</th>\n",
       "      <th>gender</th>\n",
       "      <th>name</th>\n",
       "      <th>person</th>\n",
       "      <th>first_name_male</th>\n",
       "      <th>first_name_female</th>\n",
       "      <th>last_name_male</th>\n",
       "      <th>last_name_female</th>\n",
       "      <th>prefix</th>\n",
       "      <th>prefix_male</th>\n",
       "      <th>prefix_female</th>\n",
       "    </tr>\n",
       "  </thead>\n",
       "  <tbody>\n",
       "    <tr>\n",
       "      <th>0</th>\n",
       "      <td>Andrew</td>\n",
       "      <td>Lara</td>\n",
       "      <td>male</td>\n",
       "      <td>Andrew Lara</td>\n",
       "      <td>Andrew Lara</td>\n",
       "      <td>Andrew</td>\n",
       "      <td></td>\n",
       "      <td>Lara</td>\n",
       "      <td></td>\n",
       "      <td>Mr.</td>\n",
       "      <td>Mr.</td>\n",
       "      <td></td>\n",
       "    </tr>\n",
       "    <tr>\n",
       "      <th>1</th>\n",
       "      <td>Donna</td>\n",
       "      <td>Barnes</td>\n",
       "      <td>female</td>\n",
       "      <td>Donna Barnes</td>\n",
       "      <td>Donna Barnes</td>\n",
       "      <td></td>\n",
       "      <td>Donna</td>\n",
       "      <td></td>\n",
       "      <td>Barnes</td>\n",
       "      <td>Ms.</td>\n",
       "      <td></td>\n",
       "      <td>Mrs.</td>\n",
       "    </tr>\n",
       "    <tr>\n",
       "      <th>2</th>\n",
       "      <td>Theodore</td>\n",
       "      <td>Hernandez</td>\n",
       "      <td>male</td>\n",
       "      <td>Theodore Hernandez</td>\n",
       "      <td>Theodore Hernandez</td>\n",
       "      <td>Theodore</td>\n",
       "      <td></td>\n",
       "      <td>Hernandez</td>\n",
       "      <td></td>\n",
       "      <td>Mr.</td>\n",
       "      <td>Mr.</td>\n",
       "      <td></td>\n",
       "    </tr>\n",
       "    <tr>\n",
       "      <th>3</th>\n",
       "      <td>Andrew</td>\n",
       "      <td>Salinas</td>\n",
       "      <td>male</td>\n",
       "      <td>Andrew Salinas</td>\n",
       "      <td>Andrew Salinas</td>\n",
       "      <td>Andrew</td>\n",
       "      <td></td>\n",
       "      <td>Salinas</td>\n",
       "      <td></td>\n",
       "      <td>Mr.</td>\n",
       "      <td>Mr.</td>\n",
       "      <td></td>\n",
       "    </tr>\n",
       "    <tr>\n",
       "      <th>4</th>\n",
       "      <td>Marc</td>\n",
       "      <td>White</td>\n",
       "      <td>male</td>\n",
       "      <td>Marc White</td>\n",
       "      <td>Marc White</td>\n",
       "      <td>Marc</td>\n",
       "      <td></td>\n",
       "      <td>White</td>\n",
       "      <td></td>\n",
       "      <td>Mr.</td>\n",
       "      <td>Mr.</td>\n",
       "      <td></td>\n",
       "    </tr>\n",
       "  </tbody>\n",
       "</table>\n",
       "</div>"
      ],
      "text/plain": [
       "  first_name  last_name  gender                name              person  \\\n",
       "0     Andrew       Lara    male         Andrew Lara         Andrew Lara   \n",
       "1      Donna     Barnes  female        Donna Barnes        Donna Barnes   \n",
       "2   Theodore  Hernandez    male  Theodore Hernandez  Theodore Hernandez   \n",
       "3     Andrew    Salinas    male      Andrew Salinas      Andrew Salinas   \n",
       "4       Marc      White    male          Marc White          Marc White   \n",
       "\n",
       "  first_name_male first_name_female last_name_male last_name_female prefix  \\\n",
       "0          Andrew                             Lara                     Mr.   \n",
       "1                             Donna                          Barnes    Ms.   \n",
       "2        Theodore                        Hernandez                     Mr.   \n",
       "3          Andrew                          Salinas                     Mr.   \n",
       "4            Marc                            White                     Mr.   \n",
       "\n",
       "  prefix_male prefix_female  \n",
       "0         Mr.                \n",
       "1                      Mrs.  \n",
       "2         Mr.                \n",
       "3         Mr.                \n",
       "4         Mr.                "
      ]
     },
     "execution_count": 6,
     "metadata": {},
     "output_type": "execute_result"
    }
   ],
   "source": [
    "pd.DataFrame(sentence_faker._sentence_faker.records).head()"
   ]
  },
  {
   "cell_type": "markdown",
   "metadata": {},
   "source": [
    "`PresidioSentenceFaker` adds additional providers by default, which are not included in the Faker package.\n",
    "These can be found in `presidio_evaluator.data_generator.faker_extensions.providers`\n",
    "\n",
    "It is possible to create providers for additional entity types by extending Faker's `BaseProvider` class, \n",
    "and calling `add_provider` on the `PresidioSentenceFaker` instance.\n",
    "For example:"
   ]
  },
  {
   "cell_type": "code",
   "execution_count": 7,
   "metadata": {},
   "outputs": [],
   "source": [
    "import random\n",
    "from faker.providers import BaseProvider\n",
    "\n",
    "\n",
    "class MarsIdProvider(BaseProvider):\n",
    "    def mars_id(self):\n",
    "        # Generate a random row number between 1 and 50\n",
    "        row = random.randint(1, 50)\n",
    "        # Generate a random letter for the seat location from A-K\n",
    "        location = random.choice(\"ABCDEFGHIJK\")\n",
    "        # Return the seat in the format \"row-letter\" (e.g., \"25A\")\n",
    "        return f\"{row}{location}\"\n",
    "\n",
    "\n",
    "sentence_faker.add_provider(MarsIdProvider)\n",
    "# Now a new `mars_id` entity can be generated if a template has `mars_id` in it."
   ]
  },
  {
   "cell_type": "code",
   "execution_count": 8,
   "metadata": {
    "is_executing": true
   },
   "outputs": [
    {
     "data": {
      "text/plain": [
       "presidio_evaluator.data_generator.faker_extensions.providers.MedicalProvider"
      ]
     },
     "execution_count": 8,
     "metadata": {},
     "output_type": "execute_result"
    }
   ],
   "source": [
    "from presidio_evaluator.data_generator.faker_extensions.providers import *\n",
    "\n",
    "IpAddressProvider  # Both Ipv4 and IPv6 IP addresses\n",
    "NationalityProvider  # Read countries + nationalities from file\n",
    "OrganizationProvider  # Read organization names from file\n",
    "UsDriverLicenseProvider  # Read US driver license numbers from file\n",
    "AgeProvider  # Age values (unavailable on Faker\n",
    "AddressProviderNew  # Extend the default address formats\n",
    "PhoneNumberProviderNew  # Extend the default phone number formats\n",
    "ReligionProvider  # Read religions from file\n",
    "HospitalProvider  # Read hospital names from file\n",
    "MedicalProvider  # Read medical entities from file\n",
    "\n",
    "\n"
   ]
  },
  {
   "cell_type": "markdown",
   "metadata": {
    "pycharm": {
     "name": "#%% md\n"
    }
   },
   "source": [
    "`PresidioSentenceFaker.PROVIDER_ALIASES` can be extended to add additional provider aliases for when templates have\n",
    "a different entity name than what the providers emit."
   ]
  },
  {
   "cell_type": "code",
   "execution_count": 9,
   "metadata": {
    "is_executing": true,
    "pycharm": {
     "name": "#%%\n"
    }
   },
   "outputs": [
    {
     "data": {
      "text/plain": [
       "[('name', 'person'),\n",
       " ('credit_card_number', 'credit_card'),\n",
       " ('date_of_birth', 'birthday')]"
      ]
     },
     "execution_count": 9,
     "metadata": {},
     "output_type": "execute_result"
    }
   ],
   "source": [
    "# Create entity aliases (e.g. if your provider supports \"name\" but templates contain \"person\").\n",
    "provider_aliases = PresidioSentenceFaker.PROVIDER_ALIASES\n",
    "provider_aliases\n",
    "\n",
    "# To customize, call `PresidioSentenceFaker(locale=\"en_US\",...,provider_aliases=provider_aliases)`"
   ]
  },
  {
   "cell_type": "markdown",
   "metadata": {
    "pycharm": {
     "name": "#%% md\n"
    }
   },
   "source": [
    "Generate data"
   ]
  },
  {
   "cell_type": "code",
   "execution_count": 10,
   "metadata": {},
   "outputs": [
    {
     "name": "stderr",
     "output_type": "stream",
     "text": [
      "Sampling: 100%|██████████| 50/50 [00:00<00:00, 1514.70it/s]"
     ]
    },
    {
     "name": "stdout",
     "output_type": "stream",
     "text": [
      "Full text: During the follow-up consultation on 1988-08-14 12:18:08, Heather Lyons, a 36-year-old female being treated for Tuberculosis, reported improved Vomiting following the prescribed regimen of Albuterol at 0.9% drops taken twice daily, while the most recent Physical Therapy results showed positive response to treatment, and the patient's contact information including phone +41 42 068 07 30 was updated in our system for future communications.\n",
      "Spans: [Span(type: PHONE_NUMBER, value: +41 42 068 07 30, char_span: [372: 388]), Span(type: MEDICAL_PROCEDURE, value: Physical Therapy, char_span: [254: 270]), Span(type: DRUG_FREQUENCY, value: twice daily, char_span: [219: 230]), Span(type: DOSAGE, value: 0.9% drops, char_span: [202: 212]), Span(type: DRUG, value: Albuterol, char_span: [189: 198]), Span(type: SYMPTOM, value: Vomiting, char_span: [144: 152]), Span(type: MEDICAL_CONDITION, value: Tuberculosis, char_span: [112: 124]), Span(type: GENDER, value: female, char_span: [87: 93]), Span(type: AGE, value: 36, char_span: [75: 77]), Span(type: PERSON, value: Heather Lyons, char_span: [58: 71]), Span(type: DATE_TIME, value: 1988-08-14 12:18:08, char_span: [37: 56])]\n",
      "\n"
     ]
    },
    {
     "name": "stderr",
     "output_type": "stream",
     "text": [
      "\n"
     ]
    }
   ],
   "source": [
    "import pprint\n",
    "fake_records = sentence_faker.generate_new_fake_sentences(num_samples=number_of_samples)\n",
    "pprint.pprint(fake_records[0])"
   ]
  },
  {
   "cell_type": "markdown",
   "metadata": {},
   "source": [
    "#### Verify randomness of dataset"
   ]
  },
  {
   "cell_type": "code",
   "execution_count": 11,
   "metadata": {
    "is_executing": true,
    "scrolled": true
   },
   "outputs": [
    {
     "name": "stdout",
     "output_type": "stream",
     "text": [
      "Total: 50\n",
      "Avg # of records per template: 4.166666666666667\n",
      "Median # of records per template: 5.0\n",
      "Std: 1.674979270186815\n"
     ]
    }
   ],
   "source": [
    "from collections import Counter\n",
    "import numpy as np\n",
    "count_per_template_id = Counter([sample.template_id for sample in fake_records])\n",
    "\n",
    "print(f\"Total: {sum(count_per_template_id.values())}\")\n",
    "print(f\"Avg # of records per template: {np.mean(list(count_per_template_id.values()))}\")\n",
    "print(\n",
    "    f\"Median # of records per template: {np.median(list(count_per_template_id.values()))}\"\n",
    ")\n",
    "print(f\"Std: {np.std(list(count_per_template_id.values()))}\")"
   ]
  },
  {
   "cell_type": "code",
   "execution_count": 12,
   "metadata": {},
   "outputs": [
    {
     "name": "stdout",
     "output_type": "stream",
     "text": [
      "Encrypted: 3FOxJYRX3sXHUbUZa1QBeg1scwU0CaVjkm2dXjbvgtlP9sKFChjnD6lRMSJ7dlf4jLYPjkeYvTVTaeOZhOX6N/px+M7xsi+UPYn5GP8QdYE=\n",
      "Decrypted: This is my new test string for testing decryption\n"
     ]
    }
   ],
   "source": [
    "# Encrypt / Decrypt Functions\n",
    "\n",
    "import os\n",
    "import base64\n",
    "from Crypto.Cipher import AES\n",
    "from Crypto.Util.Padding import pad, unpad\n",
    "from Crypto.Hash import SHA256\n",
    "\n",
    "# Generate a 32-byte key from a string\n",
    "def generate_key(key_string):\n",
    "    hash_object = SHA256.new(key_string.encode())\n",
    "    return hash_object.digest()\n",
    "\n",
    "# Encrypts the given plaintext using AES and returns the ciphertext\n",
    "def encrypt(plaintext, key):\n",
    "    cipher = AES.new(key, AES.MODE_CBC)\n",
    "    iv = cipher.iv\n",
    "    padded_plaintext = pad(plaintext.encode(), AES.block_size)  # Pad the plaintext\n",
    "    ciphertext = cipher.encrypt(padded_plaintext)\n",
    "    return base64.b64encode(iv + ciphertext).decode('utf-8')  # Prepend IV for decryption\n",
    "\n",
    "# Decrypts the given ciphertext using AES and returns the plaintext\n",
    "def decrypt(ciphertext, key):\n",
    "    ciphertext_bytes = base64.b64decode(ciphertext)\n",
    "    iv = ciphertext_bytes[:AES.block_size]\n",
    "    cipher = AES.new(key, AES.MODE_CBC, iv)\n",
    "    padded_plaintext = cipher.decrypt(ciphertext_bytes[AES.block_size:])\n",
    "    return unpad(padded_plaintext, AES.block_size).decode('utf-8')  # Unpad the plaintext\n",
    "\n",
    "# Example usage\n",
    "\n",
    "key_string = \"marveluniverse\"  # Use a secure key\n",
    "eKey = generate_key(key_string)\n",
    "\n",
    "# Example plaintext\n",
    "plaintext = \"This is my new test string for testing decryption\"\n",
    "\n",
    "# Encrypt\n",
    "encrypted = encrypt(plaintext, eKey)\n",
    "print(\"Encrypted:\", encrypted)\n",
    "\n",
    "# Decrypt\n",
    "decrypted = decrypt(encrypted, eKey)\n",
    "print(\"Decrypted:\", decrypted)\n",
    "\n"
   ]
  },
  {
   "cell_type": "code",
   "execution_count": 13,
   "metadata": {},
   "outputs": [
    {
     "name": "stdout",
     "output_type": "stream",
     "text": [
      "Original records: 50\n",
      "Deduplicated records: 50\n"
     ]
    }
   ],
   "source": [
    "\n",
    "# Remove duplicates based on 'full_text'\n",
    "seen = set()\n",
    "deduped = []\n",
    "count = 1\n",
    "for record in fake_records:\n",
    "    key = record.full_text  # or use a tuple of fields if needed\n",
    "    record.full_text = encrypt(record.full_text, eKey)\n",
    "    record.template_id = count\n",
    "    count += 1\n",
    "    if key not in seen:\n",
    "        seen.add(key)\n",
    "        del record.masked\n",
    "        del record.metadata\n",
    "        for span in record.spans:\n",
    "            span.entity_value = encrypt(span.entity_value, eKey)\n",
    "            del span.normalized_tokens\n",
    "            del span.normalized_start_index\n",
    "            del span.normalized_end_index\n",
    "            del span.token_start\n",
    "            del span.token_end\n",
    "        deduped.append(record)\n",
    "\n",
    "print(f\"Original records: {len(fake_records)}\")\n",
    "print(f\"Deduplicated records: {len(deduped)}\")\n",
    "\n",
    "# Save the deduplicated data\n",
    "fake_records = deduped"
   ]
  },
  {
   "cell_type": "markdown",
   "metadata": {
    "pycharm": {
     "name": "#%% md\n"
    }
   },
   "source": [
    "#### Which entities did we generate?"
   ]
  },
  {
   "cell_type": "code",
   "execution_count": 14,
   "metadata": {
    "is_executing": true,
    "pycharm": {
     "name": "#%%\n"
    }
   },
   "outputs": [
    {
     "data": {
      "text/plain": [
       "Counter({'MEDICAL_PROCEDURE': 53,\n",
       "         'DATE_TIME': 50,\n",
       "         'PERSON': 44,\n",
       "         'LOCATION': 31,\n",
       "         'DRUG_FREQUENCY': 28,\n",
       "         'DOSAGE': 28,\n",
       "         'DRUG': 28,\n",
       "         'MEDICAL_CONDITION': 19,\n",
       "         'AGE': 19,\n",
       "         'GENDER': 17,\n",
       "         'CREDIT_CARD': 17,\n",
       "         'BANK_NUMBER': 15,\n",
       "         'PHONE_NUMBER': 13,\n",
       "         'EMAIL_ADDRESS': 13,\n",
       "         'US_SSN': 11,\n",
       "         'US_DRIVER_LICENSE': 10,\n",
       "         'US_PASSPORT': 10,\n",
       "         'IBAN_CODE': 9,\n",
       "         'SYMPTOM': 7,\n",
       "         'URL': 6,\n",
       "         'ORGANIZATION': 6})"
      ]
     },
     "execution_count": 14,
     "metadata": {},
     "output_type": "execute_result"
    }
   ],
   "source": [
    "count_per_entity = Counter()\n",
    "for record in fake_records:\n",
    "    count_per_entity.update(Counter([span.entity_type for span in record.spans]))\n",
    "\n",
    "count_per_entity"
   ]
  },
  {
   "cell_type": "code",
   "execution_count": 15,
   "metadata": {},
   "outputs": [
    {
     "name": "stdout",
     "output_type": "stream",
     "text": [
      "Full text: 2V2RV00PzeAoijKMrqjJyqGtx7pa9pAaaEdNFkRX1KE3ZDZopPfKokmwdWeYuQ20wqkTGT46xjd8rxc30LuwveOBXUz+xUjmioYdkTLITTic5/ufGmDRK4DDlRF382scW731sgfCieu6sDMr9MekGxqLUcGSFT/Wwe88Rtsiaq1zvU9+0NZ8uEMUXYQhsbrTFCbI1G1xqzzX7xk2VKnfqNrOKZTPDzLS8bEAsCqGF+HOwOyUZBifFzm5M/4t7YM0n9hlxQXkzYhMKlGolQl1ULUlPouOW9zCYCNmVEce2fsYJebPQz5YJD2pkKtxth+gP3oCpO4aCMOTHEA05cJKOPQN6XguchHj+pXz5C0dRksY0aUu/CvzwpbH8fOBky/NlL3w3qRiJ8jNQ/lOehDW7i8iY69Y+8p2InT0kVEFAiEGfEZnU3EFrIQ4BXwy9qVjQh/esMwlNyTNNVpbdjlrzMHEiBt+9NWOLhOC98AhTlPqoXale9tzVLO1stxO/lQDsM7hYtxxRmOg7yF52MLAdmdT7ZtR2Te19ft8OP09U94B0UPH9i6ikj6kMWHeTQxWv0iGRsQC6Yk9Qo89+3Y3X7hZFeCg9+0N6ehf4tRjaek=\n",
      "Spans: [Span(type: PHONE_NUMBER, value: daU46hXUvwBxMbhYCjnyuy9BqRaeLZDG9ZTa8jcP+BnNR8L/yQtGN73qhHfO1K0v, char_span: [372: 388]), Span(type: MEDICAL_PROCEDURE, value: 9K0zlpLKsN7C0+zXmWb1Ma1aG+PXTHWzZUJF4pLsM/iWbh15jYGzG+4Pl9mIIeCC, char_span: [254: 270]), Span(type: DRUG_FREQUENCY, value: MH74U8aOxBnTNkBdideuprMdweADBqqaMSpaT22q7Ak=, char_span: [219: 230]), Span(type: DOSAGE, value: GCLK88fmcVTXEotYWGaWW7B7MNisI1PDtXoq2bGgG8k=, char_span: [202: 212]), Span(type: DRUG, value: KSWMP7MVje+QuCFcNFx3VhM2TaHH8f2AFCkId+28cus=, char_span: [189: 198]), Span(type: SYMPTOM, value: 75xqKCJkUPE3oUB+08uFlrB50ob5Dh1ukK22Rysv5mw=, char_span: [144: 152]), Span(type: MEDICAL_CONDITION, value: DcysOkvj0KgaaTLNp2iWOJwfFnjPpbeM6xz+3JZvbUg=, char_span: [112: 124]), Span(type: GENDER, value: E0G90ixlxE8n4QklT/FV3/Eb5b6VZuB7aiiW0ZM3jgo=, char_span: [87: 93]), Span(type: AGE, value: 7xmWvnLhTP61c60yJ7sDffjGbIi9etbqSDD4Wtx078o=, char_span: [75: 77]), Span(type: PERSON, value: Ce/4X91siqC4KKwWows/hLEVlzRCKmeqopjViUjmBnI=, char_span: [58: 71]), Span(type: DATE_TIME, value: Di252bfNVLWPc5LwtNT+ml3E31+hdtAaVYtfrrHS0BIHkkOMboUVbObBShqCCebk, char_span: [37: 56])]\n",
      "\n",
      "Full text: FBSF6PVwVH4XTq6ZqJtw+zJQcCtRfOZJ6jJpOiUotanR3FHeOEHGNYjO6nhlBGJfsw0alO2BucgDc/7XiNwtfLbaKsJyO2X6zxjwCI5ZsBaBSyVgNi3HEOZrsqcKjra07IqAOhufsiP+joHFLzbSLEes7ywuzygBzASlkABCtgyZn1z0bkIkVdKqI9+rVo3CEbeVwYcqyN6e0vXyWCENbwBrN4IndKysp3DREAyJQ9d9j+jEiNUkylAA0dG8FoF7OoKMbfjg26LKP7h/lc5i+KalvGb0rKgDbM47HfhLEr7sNSccSbtpStihDWmHn5y4NbtjoblddgN/FDUGV4fmqJYTR7vAYhZ7z2h2Q8BOMLsQWQ02Cs/pMwQTjF+kNGnH2Bkv5YaNlSvIR5RjfyQuCQ==\n",
      "Spans: [Span(type: URL, value: hVRroZL471iKKXTRlqYhnOUeUXYOjpAdMu/K0g/LMJE6gZw68Ik/xpneJ+Tdcg+4/yySIfKv807Rp3lZEIB2/w==, char_span: [239: 282]), Span(type: US_SSN, value: kINVAbF5TQNwT9vEF9YXR7KD6zda4i68WGfOKs3ipP8=, char_span: [209: 220]), Span(type: LOCATION, value: xSTfRMUFApNe72u+8X3acap0/WNP4mUlHu5628SV2whOY+9uCyw4OUIH4dweaWdB, char_span: [151: 174]), Span(type: CREDIT_CARD, value: G1ZVCp1wycVDZBGUAtaZE2i3N6N7XF6rlSGJ4PQmXoE=, char_span: [119: 132]), Span(type: EMAIL_ADDRESS, value: 8X3pTLeILGR/S86iNoT8iXkCYivIm7gHunTa3+EEfAGDbW+RFLc6T/LV16ceRGXa, char_span: [82: 99]), Span(type: DATE_TIME, value: uPNrMO9jfTEhNKcIWsnSj7Vc6YlPhusPfB5zOMTMWdilgjel4oqxTXMWFgursRWx, char_span: [35: 54]), Span(type: AGE, value: +bfebmN/0XXC9Z2d+xIECDpIFviU8ZVR2TWwwj8mNRM=, char_span: [22: 24]), Span(type: PERSON, value: cc5WVzpj5206s/jgawAQFOQlEYtsl5RlMO7JkNPLMkw=, char_span: [10: 20])]\n",
      "\n",
      "Full text: aZvG/Rfsm2obk0yyKUh8/AFLEeCk5EJyuaPbKvvOSRDvcVZo9HeiryEWr56pi+JLuM3tej1TAjOigalzO/zAYnJFXzxXBFR5kli4CslRvbVCAjgkGlCIJblN8LGw4XqaHzZAPAknsJ0ilXKijlwQ6WAzJPWBO4a21oqx6o4xEV44VQukzgyyxlp2c7CZa08k2KXxl6/UlL+zZuhT7jjqlL1x7V9wXtKAFyfzdTLsjKGoGeCORyKwSaIIIa/XajJfawsbw/PJ8nzd0Ps7q46WioRvkzVDM/pcwaRDWZHFz/4iu2KusfENh2mx55naXyuj989VRZrrEBSKXJa1m/UsWO3n9Y2QM18dwJZucFTv+sd0czzOg/XqjwRnPoB0cwcRDXLyp79XFNbcS2yW1n2Ce4VGx3J2m64G1a7GmWpunDTwVsolrZdYJkWTtc95DwwJGqjCNSq7/kMFO/KZ0VWXT/r7h19VCIN/zvg97pTkf/gG6UfigyjAPZvPQ9rlE4ls70sfzB9hSgBSO4+MIalejoAPs0NGZo4Owou8cNjj17sBrQUgsDMLyDQfT54mEfmrRtM0+SZRD4gRHMLDJ4rQBe51GleZb13sLkEnzbGcV4KX/IBAPNdPzFo/S4HvnowL4D7NxyaEBBvNAiqgv+qekQ2TZIigzPPo+knHtXovx6U=\n",
      "Spans: [Span(type: LOCATION, value: Ov3NAO3VTu6hbEd5g9WoYA9grfHR37B6Al2/DqAyvRkmeHmkiejoNnLAw4SPC2/c9wfiV8ly161mt2e6OzAwLlKQgJGcimiIxQQ43mjedNg=, char_span: [428: 478]), Span(type: DATE_TIME, value: HAbR5pnOpXY57m6bJ3sUBsyt8mUSoZxsXmiaR5wJ1to90o6S92f49Urk6djsrfY0, char_span: [401: 420]), Span(type: EMAIL_ADDRESS, value: FGXMaCwSSgBBZYdMHsXSPjh0fYg/PZBNmhQzJ6RhkTf1tn6mbOxjqZ8De+7a1vxR, char_span: [342: 360]), Span(type: PHONE_NUMBER, value: OGCtwIvCsecOVv2BL5PKuQ8AsZay4x2zmEZ3HPU1lc4=, char_span: [323: 337]), Span(type: DRUG_FREQUENCY, value: 79ic9/fTQ9H3cNnmMpL6LtvrSe2lB8J4J9lQlBQH5fmGaWu9XvOqrGmqq9urcuxo, char_span: [252: 269]), Span(type: DOSAGE, value: t+gwmK50F2QksKbiCS/43928Z7F4qyHT3EHez7m8WVQ=, char_span: [227: 238]), Span(type: DRUG, value: Qzc8ZbV8FznsN6UIoXiqty9/7ZnIroBewFWuJDZp3mA=, char_span: [206: 215]), Span(type: MEDICAL_PROCEDURE, value: 0G85NBh+jIkbtQmHiTFpoiGZ9CbrvrfEnujW6Hg0HL4=, char_span: [127: 141]), Span(type: MEDICAL_CONDITION, value: Y6+4GvDGAWJC3NnrYkedlu3OUrtu8Gvn57qyNlT4CNd1VkIoLbRai/ZKevKLKNM4, char_span: [94: 114]), Span(type: GENDER, value: +5mMa+BT6wUHICYOv3GO9akfwZgD/K34/3YNzEbA6Vg=, char_span: [63: 67]), Span(type: AGE, value: NmWJNOrdn3h/ELE2sThK2zV4020zXtN8+o6sbhtBzDQ=, char_span: [51: 53]), Span(type: PERSON, value: JKS3OwbBwDFFrg3AtuDFl2bb4Lhm3ZBSkbyEpheQ6ok=, char_span: [33: 47])]\n",
      "\n",
      "Full text: i4ZhJ0QJqYBQnAsuWgXop06hRfedWQhYIzFIwhl9spq4cwV+R9HfbpkpxfsVqJXa+MmfrWtw/OphN+JICudfFIoFmx/My6QvP8PGgzobCRx3m/7bUt4UgfM5oO6eSKrY7em/YCzMz63rDbsEiqOl4JaEJ8ZiRivJwKGRkaXr1nH9WoI7Qb4o5ThZ02EUUXuNwJaI2jWfFLDaWwSTwWsrV4y77wpjOTcrNToptYuWkl+iJF4NySer7i7aVUx5ULEHXAYJyCAsKJa4IUvOiUPEqw47vHcO62xqHcO/kUm7ztNnDblAfIBI0TQehmta/BQ3noj3OcpvKqZIolvrHNtnbm/JzN8UkoyTsy9DEOI5nNfT+QBnF34M3s59JoOdPZCg3v7x0hxEgmRhFbbRctDCvLI0IT893mBAIQR6zcFA2RQgnOKMGNF3iwMade/76BQjdA+jSjxOcVIj1HEDmFcILPIs6n1xQCwjM5svflGzAcslhm3Uw1PY7WCJqhhrxNPw7w++a12ctzyGUwf7gi7v0Vp9VnbzurKZBA5wGbnuzJY=\n",
      "Spans: [Span(type: IBAN_CODE, value: 7RH97+UKexgplArgymQoK0yLABe6QWsdtI63UmgBPOM=, char_span: [384: 394]), Span(type: BANK_NUMBER, value: QZU2W2KbRRavLjBMjtFhEfPqAmPLFSc7IQ8epwaaihQ=, char_span: [288: 300]), Span(type: CREDIT_CARD, value: VTNFe8GnUat5iqlzZzS/nv6Hawt+TKU2RraEnrgfJInEJI0diKVHoplqxgY7wGBB, char_span: [191: 207]), Span(type: MEDICAL_PROCEDURE, value: dVtBDX5ZX3S86FlhwRuE8kEKeqIrtup9lX09dqI8FQY=, char_span: [139: 145]), Span(type: MEDICAL_PROCEDURE, value: l4mMy+YrGhHye8HxJes38vTGPM5wWHeYnCc3gR0l07w=, char_span: [126: 134]), Span(type: PERSON, value: JELZVdJWjww3Nk4I63jkEBMqzyEdQV/TKMkq6/10cpE=, char_span: [79: 93]), Span(type: DATE_TIME, value: RTSMOjntFFWwcRNonzmQ6TV9yR9z3ELH3kTlhsvYsyiP6q3NoRxqPJTz+wHcCpD9, char_span: [34: 53])]\n",
      "\n",
      "Full text: 1vExTPqQw4txwkQgjcJxDV4gzWA3ZyVummTljGgQsBRKeQvZvY/ysXOiz9iZIaJVdu7PJ6NnvUKtpWLJha6+45zpTShkU/6GXsbJdpQhGJdMdtzQZJkq3zKdzVLi6+yX5Nj0FH1692QetY07obDxcOO0SthBKIEf+i6YhESohgi8SiiEVtcbHIqI4tLK5XSz23V4qtMLE57e9T+6bAkngayzjIC8zr8lxTksjCUP5PsvowuKpu28+46RLY5nNHkAKbmXvMvjv3zX4oWmCrhBAOE/nTZ29oSc6Bhh3KCpQETfsHMHv6jDlpUEA6W4sK1jLRd7qqvR0vMoRO5IgxwWOMHnli7U9Q3ryX6qou41u7IPaB3EqPS3P/Xo9yv0G0oEtmEcw8GHzSo2l++2wQmO+QHWlxIIZ5z+UjUEWWnTEHF+K/CLEcE1zBTQk0yjWyfHnI+5DvvKi9mKfEzk4RQ4T7D2xss7Uuu9cbq7Gz6rzrhatdkhSm80EfDlEYY4GxFkiSgP3vpZf4z8jWR3OoFroLGCoaDwePHH4fojrj9LGtdjQpjeH4gphy6JrNeOc6eYA5sB75HIE+aAEuBO/TKByQ==\n",
      "Spans: [Span(type: PHONE_NUMBER, value: tfguLaH28OkJzYxqj1wGv1ZTvsnaqWJerSjuJaIJcdmE5eTeH7JNE5Zdrp60iQp5, char_span: [358: 374]), Span(type: MEDICAL_PROCEDURE, value: wqdtN86VG/UPEJjqneehZVML+xCfWKZrgboYT1rfBrI=, char_span: [245: 256]), Span(type: DRUG_FREQUENCY, value: LrMoIknIGKaBGVO4hPPBxuZGwy+9jFBfnuqv8phjqwM=, char_span: [215: 221]), Span(type: DOSAGE, value: TTufwUHNZUJ+IOxJb2CAkr5+WUIys2GeaxkIuimszj0=, char_span: [197: 208]), Span(type: DRUG, value: lSaO6ZNtJTiZGmz3DcrsF506DS8qQ4ShC0Xoq1+OJKg=, char_span: [183: 193]), Span(type: SYMPTOM, value: EBVIYpWtVP5WIKZGEYYG6oR1g5mKUq1hwXVTVbOyIsM=, char_span: [134: 146]), Span(type: MEDICAL_CONDITION, value: NLbo/hmjqhNWlEsJau569TyWbC9dSLOcPztRA3d1XR4=, char_span: [106: 114]), Span(type: GENDER, value: 469IRs3vCwGS74JlKrV2ZYzbrZVMq0INp4SQAxkMd4Y=, char_span: [83: 87]), Span(type: AGE, value: zDg5/RdDGdfqHdLapvAuOw2nwI/8M1Hzbe1vO4LQpYY=, char_span: [72: 73]), Span(type: PERSON, value: j6EAiKH2Z2GyYEReqtNK4F0ihcT0VV8N8QS9xhXX3T0=, char_span: [58: 68]), Span(type: DATE_TIME, value: CRlbdQz/XwvRdNw+yIkLi8B+lrIEowK7XX1FmyGcGZJNz+I62INsmAvXcEgU5CNd, char_span: [37: 56])]\n",
      "\n",
      "Full text: DVZpDLcrE30cIIcWFnkKBcbzpYImE45OQR8uvbqZKAakGdXbrIuyLdu0MmbH0xqSC0RFSZqZx3oCtdHEJeyCJIbn2hdYdkt0uuIyXiDWnsHzjwr6LL5xt97z1cfmb1rm+W7A0vTlzUa7BZ1/tKB34X7ZlH1A62YS7+/i5tbsxUvFBUbf9oxI7nA8BkjKDISvreBBp8FOuCpeNTqj16erEjGkj0qP2PFaSqgiKEkegTgOJ28zaeJXJnZEFZ1rjxjn85bVT240J8uHuRQ4DnMyiemwHW2zVJZjUcbwTmyT7GGmiUWdckMygDD/o1adK2MWx0aCYcTIoz3Ff7J5/uRvsEhLSZeLyVSeIQIVGa9n7ErCMRJcZZwSrByOYeeKVEIGWXCXXtzSCX2nZ6iRQrmEj+gli6sQwFjggV+2CA/PlkBvwM6bqK+GLRggTsnCjkeMmOUZEVKEigBGwJFIHzX+AA==\n",
      "Spans: [Span(type: URL, value: wBgDCgWm5BZbMf9pjwZcc7qFrV5GnZBu81j7MoTD+ZjrCYLTCKMC2aJmuCb+4YcFA1tLqxc0ZcxrkBm4O9a6rg==, char_span: [225: 271]), Span(type: LOCATION, value: IAW95qaddnrefNOGq/eQomDSou5vRZAl7f15ZqLHJ1k=, char_span: [194: 205]), Span(type: EMAIL_ADDRESS, value: vsD9a3UVHA8my/sC4BMvlbs6DZhv8KFiqTXmhm13o5Wxmr5WzuPh20SKrm6oGOSc, char_span: [146: 175]), Span(type: US_SSN, value: tcNgrsdaPmQkF15xbz/OENIsZwl1XAdo2RuUGZJ16lA=, char_span: [112: 123]), Span(type: DATE_TIME, value: D0OiNhnbZe4L4i+uhIPLs3yLKayJV3Ndo0py3Sbwl0mMGH+UkvpQC32VFdJ4/Sse, char_span: [49: 68]), Span(type: GENDER, value: yTPBwvY735QfhZ55cjy3YBKFsVGDmDnVnPcSuCpAXRg=, char_span: [38: 44]), Span(type: AGE, value: nFKgmvp/X93gRySpdYNLcdWhcwIuSsCqGkNCGHADif4=, char_span: [34: 36]), Span(type: PERSON, value: zhh8QcAVLIAAi+R+DG8Toe0S1hytA9L75uxfhPhtel8=, char_span: [18: 32])]\n",
      "\n",
      "Full text: PDTxx40AK+Ld+8qH/pnvzKTVDuAee0DpKSJ9ib9d2rTiP8d3Df3cDvyPAXu8CmDFzulPXE4cEAu4Cpjnc2Pr6HRYjBeQNQg3jhugVadkfbl79zF/Ww3xbDz5MuxyDi47HNMIF8yIjAl+3PZkKGBx58hmBF8AlAoO3k9X2hpIzeElNZblS3wo8c6vzNny+E9X3PkpqX3z/BXFNSVDbOEdArTuv9QrkD09E6wsql5PpqATw7R2tX63jkt8PnCxPOShkacLNhxJoV+rVWrLZXdwHJKX5K+GKlb704O20EIQq9u+z5Mpy/4YXBerovDKfh1wTdWY+lYqG30dhnWpkHsiUF5aT6TzULekn9VcuNemJ3gEbscjT9vGlSQAhjgLWD8pmjqzG7XcGOg3CaG+Pi7C5YoofWXfL9aI6DLgiAzkH+rsWv54xfcS5lWBQ22cHY5toSy8LgizLK1VFnRRBVINKPkzpLdMPFtKMRKeyJ5flmsprDYR7Z+vOOpkawRXcG9zxYSO4q4bmLyzZ+UNKtLwqyMbFCPK1CnpzLcuGtruS4PDsgn28bEfWIaIzBgwHn37\n",
      "Spans: [Span(type: IBAN_CODE, value: nhWoP6pPk6ba597lnnd1KCq494sgoPER/VU2b57mYSc=, char_span: [394: 405]), Span(type: BANK_NUMBER, value: GS9gbC4wQQGJYUda6M9lR5hqrbyQul+XlTLJlLtRY3A=, char_span: [300: 310]), Span(type: CREDIT_CARD, value: hqQeNQ9AJPvbOutFqbRTABjSJWYZe38cNQ7VhsFcNZfY8MbJ3epV8DknTIi3xQ46, char_span: [203: 219]), Span(type: MEDICAL_PROCEDURE, value: OgJx8kEOVdOu+ZjgpI/dGHeAlDs4NJ7LF4IvKK0NKYA=, char_span: [145: 157]), Span(type: MEDICAL_PROCEDURE, value: jl3TcnZOT0G6ghPfQyjZFPL7zj/y4tipPRn7fjNx9/M=, char_span: [128: 140]), Span(type: PERSON, value: VfJFKXZEeIIzDPduWEu/Wv44cHSsni4Kd9BgQSGSjMcRB5LYQFSPtCvY8WHy0fJm, char_span: [79: 95]), Span(type: DATE_TIME, value: JrlFXCvyy/tCQlWmsqIbzjWlMl0v8gWjoZsvk7RSd443ULVMG23M1wcpEh1a1nDm, char_span: [34: 53])]\n",
      "\n",
      "Full text: ZfZiOb2DTJCyGyoCZKNe8oiJmJ+yP6j6EHiBll/MBUXaU1SHlr5E6u8r1q3bFqhKy57S80mM+af9u8LzVoiLyFEXxSxIxKg2xqzLoPYslagxgeEA5uVC6beIJlpCPwP4NXEclmXn/rehkOnSdXlRDOSGRwazXV2vg3Dqz6t95/CvaddNEDr4TDIwaeLuIIBRpJfIWxdegSY8pClo7zkZd4iYosRV6mw2dKI2OFIaopurkT+dktHDmA0ceSBuLT+ccFyqTarMOLNccQRzROFSTpG1jLzsvDivhGe47fFG43A1vZckAr/Svjcm0vMEh2nRUeSfaCl15INXiZ2FmRDzEhGZlExQC/znDvnBCImHrm33wheF7gmrgt+Mo04dWTxsIsdhb9XBwBJv1JSeeBzQgcbPGoUvq2AD5YhObpzADoLtVPHD46YDzWBUJVvU4QHh+rifVhwvzPeVjfOIOpvkFp+5E08cj4q6qkOstvb1AebSKnNVINXt8Jnw+2igS/LaNJ2TfxnFSxbJsTvqhIgF8r9oaRLMBOJroVTFghmBUpnYDB9h8f7bf7MQtuWeEy41zkeQqEJ4ADBS2HqHAZAsAeYKLdzXeK8Z4F3IPr/iv1DXLnidKfgGrmt6yuan2ZdI\n",
      "Spans: [Span(type: PHONE_NUMBER, value: 3jYZY1ukAmXWiwTbOGIGPsvgpk6BKFn97qH73DiHFbc=, char_span: [388: 401]), Span(type: MEDICAL_PROCEDURE, value: hxUvfKP3bWcEHsFWPCTjqtqYMYw5w8mj+AatEqvpPqg=, char_span: [277: 286]), Span(type: DRUG_FREQUENCY, value: dN3wKg4poyiJF05zpMmu2eIGVP5g13E8UbYO8CvqGnYzOk7NI+O2ZDlGlL0zZ0FC, char_span: [236: 253]), Span(type: DOSAGE, value: pV+0qpDFrW2q88/0jLdyyecNP5p93Decef2aque+QRI=, char_span: [217: 229]), Span(type: DRUG, value: tQhLKeqVjJ6oKm9hE4PC8pi/X+MUqwIcIdrGSCTDLJs=, char_span: [204: 213]), Span(type: SYMPTOM, value: zvvH4GOHzHCv9Dyc8pr0gDZ2J4rWMPb3jKvJXK0tQ1/lfEfD+z+c1tkiXrsd5Kdc, char_span: [151: 167]), Span(type: MEDICAL_CONDITION, value: pWoj/WvNJYQF3VM5lHXEx9y9l5Emmxod0JG51y6Rsq2j4Lmsi/Fr2FbjBnAyXMp+, char_span: [112: 131]), Span(type: GENDER, value: HBOv+ADnpJBhaZ7kNoqcnzDTPcYe398D8eCjWnqwhBY=, char_span: [87: 93]), Span(type: AGE, value: 3AUPIuWXHUN29PqX/6rQ7UP++f+/JUfuMWYQlJIFc5s=, char_span: [75: 77]), Span(type: PERSON, value: epTQJKrrusAp/t/u0kj7TuZm5JzoT/65f3LHuwgBH6M=, char_span: [58: 71]), Span(type: DATE_TIME, value: hPo+Ba9ibxrIJ07Zjt47MvIEe2dZBjPwDmOzrRLSfOS6tQqk3Cg01wk8CRVIuvN1, char_span: [37: 56])]\n",
      "\n",
      "Full text: s4kC3FGj4fuYMXnXu4Ly1cKI0C8Q7bIx6gLtniqXGzy2SDWawWw7oYbZYyBzLaPRWZdlw7DwU6aVgxwDmVvAqnEyg23ia55mFZgBzzN7rQhM8x5VqlrTjPWny1fxWBFoYrSCtxexi4ECJnAhYv7H10vckTEg/n/M+0ybcz8BH951zFV7PGUtZRXsQ9+23NRYouPXpKJggWcs29Su5ngcdE9O0dc2X2Ly75phP2x1xDFn9RsYkOXJTja4/YPW9eYy8PvVA6dAfbHCL1tIi29g7td8X35S9y5y+SzuhRwH8lgDUdW768h41NhfRNyXPz34TO9YhOjVu95YfbZU1ZEJEP7BjscjYiV5y8eYEz6sqvsyn+s6hsFpX+c52JX/Y58e/z7HkKwDJGpoMQbrV++XRvEJW4gAdxTu/5vS8qlo5dRltjTCFFb1l9rdt7UN2y21fjYN1RpdUABvRhWehclD83sp61wKp6si379r5OPj6zc5fqQTrdZDBFW3hAcTrL0YOPp0YWkOn/5fVKZ0H16FaPOGyhgscRJwOhoZjVblhvsd8jmKH+vGrqfWF3GQP3VIO53qFTAJz5HIcZ84wt4Ip+6WwWNgWgnB9lPVq2xxB4Al931wwfGlieA5chGcKjYuIxpCrlMVd3301aPXkS1a8SNT5rnuGSueUfulWcTjt1nOn/PluEvtckRs9qN7h6t3dAZBmAPJixeADHlQQK3i2w==\n",
      "Spans: [Span(type: BANK_NUMBER, value: xGxlqDbU9fIkRbqQ8g1yssDLOEWis9e5oWfz2GDRhWA=, char_span: [457: 469]), Span(type: CREDIT_CARD, value: 1DKC0ksgLjW+HvvjLz86MyHO383nvxnl13VsW8rvDtKez0PuOWqqvohvj0hPm8wy, char_span: [414: 430]), Span(type: LOCATION, value: 7E9h5HLN/b8ckZbQ7GnkkrhycK4OS+crdWEkQhFLI+0JMFoQ6JAHmw1a3+MlgWz7, char_span: [302: 322]), Span(type: MEDICAL_PROCEDURE, value: i2tG0vvpdZIXTGxJVwmSQrVLIODHEmxIuh6uY7YiwqM=, char_span: [267: 278]), Span(type: DRUG_FREQUENCY, value: sf3vRZn2lMJMqkOkSNwi6ajf7z1PlEXsShz31hJgj/LzGUX2dPdiLdQnb10tBNPK, char_span: [233: 250]), Span(type: DOSAGE, value: TFsoNIOHJAefbgNpnhcMmtjBlB8Gh1B83gkcezJnb1cXedAlIpFzzcVHZu5YTfgS, char_span: [203: 220]), Span(type: DRUG, value: fQWSjEoAgGFlnHk8UPqNdu3CKD0BQ6RtAwJ8YvUwPsg=, char_span: [189: 199]), Span(type: MEDICAL_PROCEDURE, value: TjjXr1wBywZzFDgBmgMi7oKyFrCME+uogG8NEnlBfzI=, char_span: [149: 155]), Span(type: MEDICAL_CONDITION, value: znWj5fZUzjoJtuefZY8ulDp9KaJqH2JjwWcS7T9trmg=, char_span: [121: 132]), Span(type: DATE_TIME, value: 7IuX+KtS3o8Q6NlyVbQE37XizRQ6ulOvRMta+BZlr1zNaR8pzHCArmZZ2fHxJiU+, char_span: [70: 89]), Span(type: PERSON, value: bGJyrpyyqR2KxzcUyr0+85GFhTiRD47f7QAiqrbhYag=, char_span: [51: 66])]\n",
      "\n",
      "Full text: BhCkBz1bCgTKGY6MyzIrqp9BbkEEgNd5aDgcoV/ILGCh/ybOlnDkkFVLQ0cTQ2xruybhClNxKIOpE60oaIK42MHD8zXaGQwAeYvq4IbDQuJdLKKRmQZiNRjlbgcvYOoYTSpnFtYpjiQZw+nP9IENsI/Skwj6/jN6tP6mCjIW2iR1pt3Jr4Rdo/KFiLIoWYsPHwFriL8KyKUIO7JK1zTs/W6x75QvvMh5sij3bCAQrY76aEbocwCEDy3Bm4xzHDCa44KP5Cs7y3jfsXEpH9mXVhjmiY0MjUHgXAmWm1KRkpYvFy/beP+/kTmypDQkm4lcbPZkGZRI+ZwuQ2Sda37HF/fbYicEFVtVbHvnhf7cLR4NIf2tmqOahgmC8pW5P7DwrrDCY5DUVaUZs06XSV0sjpFj2130fESeHwJWq2q/UzKQYYC8JlOGWQ3U0keuqD6NFF26DThs/TSt7y6aKN0GgCjPUDUVCU/ziScjJOVg3+cEKGuOWfE7k5Pywa56hHaIJxJdwyKa1JaywzAa3JhqyA==\n",
      "Spans: [Span(type: MEDICAL_PROCEDURE, value: 6fwjw0vnN0FTXbHGhfmlxLpjabbR8X/nCaHZIc0cFZMFx4vZpaPJtwNatvOGZubg, char_span: [354: 375]), Span(type: US_SSN, value: 25UFKpVWwkIRGCepJOE/Sjwb9Oj5hp/xrSlZJfvqDXk=, char_span: [236: 247]), Span(type: US_DRIVER_LICENSE, value: q1y8DNkOrlNPmIhuqWjbjS9fWzUUeAKsl3Qfmu8l15M=, char_span: [198: 207]), Span(type: US_PASSPORT, value: 1i+8lOgXtWdfIH8iSD7GxH82zPfuODj0GqJKKFS/oUo=, char_span: [165: 173]), Span(type: PERSON, value: aCMfqEqzFBcxRaD9OadgYAZT56V87cat7Qfe4EQzOSAuO3QUNAYMnM5CEGviGaIg, char_span: [77: 93]), Span(type: DATE_TIME, value: sHxVzFTkkbofh7fs7ZuRGXreq38QIyLpTxvjk0y/1yMbKwe2FtkSR6FKvHIDRU+q, char_span: [56: 75]), Span(type: ORGANIZATION, value: Z0C2o5mCTrgDrl4uwv82GxPyS26oyaBqdf4nRN3P/pprZVEF3WsdcTrbal6c3GXD, char_span: [35: 52])]\n",
      "\n"
     ]
    }
   ],
   "source": [
    "for record in fake_records[:10]:\n",
    "    print(record)"
   ]
  },
  {
   "cell_type": "markdown",
   "metadata": {
    "pycharm": {
     "name": "#%% md\n"
    }
   },
   "source": [
    "#### Save as json"
   ]
  },
  {
   "cell_type": "code",
   "execution_count": 16,
   "metadata": {
    "is_executing": true,
    "pycharm": {
     "name": "#%%\n"
    }
   },
   "outputs": [],
   "source": [
    "from presidio_evaluator import InputSample\n",
    "InputSample.to_json(dataset=fake_records, output_file=output_file)"
   ]
  },
  {
   "cell_type": "code",
   "execution_count": 17,
   "metadata": {},
   "outputs": [
    {
     "data": {
      "text/plain": [
       "'../data/generated_size_50_date_August_17_2025.json'"
      ]
     },
     "execution_count": 17,
     "metadata": {},
     "output_type": "execute_result"
    }
   ],
   "source": [
    "output_file"
   ]
  },
  {
   "cell_type": "markdown",
   "metadata": {
    "pycharm": {
     "name": "#%% md\n"
    }
   },
   "source": [
    "#### Create a CONLL like data frame"
   ]
  },
  {
   "cell_type": "code",
   "execution_count": 18,
   "metadata": {
    "is_executing": true,
    "pycharm": {
     "name": "#%%\n"
    }
   },
   "outputs": [],
   "source": [
    "#conll = InputSample.create_conll_dataset(dataset=fake_records)\n",
    "#conll.head(10)"
   ]
  },
  {
   "cell_type": "code",
   "execution_count": 19,
   "metadata": {
    "is_executing": true,
    "pycharm": {
     "name": "#%%\n"
    }
   },
   "outputs": [],
   "source": [
    "#conll.to_csv(output_conll, sep=\"\\t\")\n",
    "#print(f\"CoNLL2003 dataset structure output location: {output_conll}\")"
   ]
  },
  {
   "cell_type": "markdown",
   "metadata": {},
   "source": [
    "### Next steps\n",
    "\n",
    "- Evaluate Presidio using fake data: [Sample](4_Evaluate_Presidio_Analyzer.ipynb)\n",
    "- Split to train/test/validation while ensuring sentences originiating from the same template are all on the same subset: [Sample](3_Split_by_pattern_#.ipynb)\n",
    "- Conduct a small exploratory data analysis on the generated data: [Sample](2_PII_EDA.ipynb)"
   ]
  },
  {
   "cell_type": "markdown",
   "metadata": {},
   "source": [
    "#### Copyright notice:\n",
    "\n",
    "\n",
    "Data generated for evaluation was created using Fake Name Generator.\n",
    "\n",
    "Fake Name Generator identities by the [Fake Name Generator](https://www.fakenamegenerator.com/) \n",
    "are licensed under a [Creative Commons Attribution-Share Alike 3.0 United States License](http://creativecommons.org/licenses/by-sa/3.0/us/). Fake Name Generator and the Fake Name Generator logo are trademarks of Corban Works, LLC."
   ]
  }
 ],
 "metadata": {
  "kernelspec": {
   "display_name": ".venv",
   "language": "python",
   "name": "python3"
  },
  "language_info": {
   "codemirror_mode": {
    "name": "ipython",
    "version": 3
   },
   "file_extension": ".py",
   "mimetype": "text/x-python",
   "name": "python",
   "nbconvert_exporter": "python",
   "pygments_lexer": "ipython3",
   "version": "3.12.9"
  }
 },
 "nbformat": 4,
 "nbformat_minor": 4
}
