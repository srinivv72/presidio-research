{
 "cells": [
  {
   "cell_type": "code",
   "execution_count": 1,
   "metadata": {
    "is_executing": true
   },
   "outputs": [],
   "source": [
    "# install presidio via pip if not yet installed\n",
    "\n",
    "#!pip install presidio-analyzer\n",
    "#!pip install presidio-evaluator"
   ]
  },
  {
   "cell_type": "code",
   "execution_count": 2,
   "metadata": {
    "is_executing": true,
    "scrolled": true
   },
   "outputs": [],
   "source": [
    "import datetime\n",
    "import pprint\n",
    "from collections import Counter\n",
    "from pathlib import Path\n",
    "from typing import Dict, List\n",
    "\n",
    "import pandas as pd\n",
    "import numpy as np\n",
    "\n",
    "from presidio_evaluator import InputSample\n",
    "from presidio_evaluator.data_generator import PresidioSentenceFaker\n",
    "\n"
   ]
  },
  {
   "cell_type": "markdown",
   "metadata": {},
   "source": [
    "# Generate fake PII data using the Presidio Sentence Faker"
   ]
  },
  {
   "cell_type": "markdown",
   "metadata": {},
   "source": [
    "The Presidio Sentence Faker enables you to generate a synthetic dataset from sentence templates.\n",
    "Example templates:\n",
    "\n",
    "> I live at {{address}}\n",
    "\n",
    "> You can email me at {{email}}. Thanks, {{first_name}}\n",
    "\n",
    "> What's your last name? It's {{last_name}}\n",
    "\n",
    "> Every time I see you falling I get down on my knees and pray"
   ]
  },
  {
   "cell_type": "markdown",
   "metadata": {},
   "source": [
    "### Simple example\n",
    "This uses the default generator to create 10 samples based on three templates"
   ]
  },
  {
   "cell_type": "code",
   "execution_count": 3,
   "metadata": {
    "is_executing": true
   },
   "outputs": [
    {
     "name": "stdout",
     "output_type": "stream",
     "text": [
      "Using default entity providers\n",
      "Using default entity mapping between the entities in the templates and the ones in the output dataset\n",
      "Using default provider aliases\n"
     ]
    },
    {
     "name": "stderr",
     "output_type": "stream",
     "text": [
      "Sampling: 100%|██████████| 25/25 [00:00<00:00, 4206.76it/s]"
     ]
    },
    {
     "name": "stdout",
     "output_type": "stream",
     "text": [
      "The insurance claim for {{PERSON}} was processed on {{DATE_TIME}} using credit card ending in {{CREDIT_CARD}}, with the total amount being charged to the account linked to bank number {{BANK_NUMBER}}, while the international payment of $1,500.00 was successfully transferred to IBAN {{IBAN_CODE}} for the medical services rendered at our {{LOCATION}} clinic.\n",
      "[Span(type: LOCATION, value: Joshuashire, char_span: [347: 358]), Span(type: IBAN_CODE, value: FR59590046747, char_span: [292: 305]), Span(type: BANK_NUMBER, value: 87085584515, char_span: [197: 208]), Span(type: CREDIT_CARD, value: 4827093614773992217, char_span: [103: 122]), Span(type: DATE_TIME, value: 2008-06-28 11:16:14, char_span: [55: 74]), Span(type: PERSON, value: Matthew Davis, char_span: [24: 37])]\n",
      "The multidisciplinary treatment plan developed for {{PERSON}} on {{DATE_TIME}} includes ongoing management of {{MEDICAL_CONDITION}} through regular {{LAB_TEST}} monitoring and administration of {{DRUG}} at {{DOSAGE}} to be taken {{DRUG_FREQUENCY}}, with scheduled {{PROCEDURE}} to be performed at our {{LOCATION}} facility, while all financial transactions are processed through the patient's credit card {{CREDIT_CARD}} and verified bank account {{BANK_NUMBER}} for seamless billing and record-keeping purposes.\n",
      "[Span(type: BANK_NUMBER, value: 31647984088, char_span: [456: 467]), Span(type: CREDIT_CARD, value: 5135857095395026, char_span: [413: 429]), Span(type: LOCATION, value: Port Joshua, MT, char_span: [306: 321]), Span(type: PROCEDURE, value: MRI, char_span: [279: 282]), Span(type: DRUG_FREQUENCY, value: every other day, char_span: [247: 262]), Span(type: DOSAGE, value: 5mg/mL drops, char_span: [222: 234]), Span(type: DRUG, value: Simvastatin, char_span: [207: 218]), Span(type: LAB_TEST, value: Urine Drug Screen, char_span: [156: 173]), Span(type: MEDICAL_CONDITION, value: Coronary Artery Disease, char_span: [116: 139]), Span(type: DATE_TIME, value: 1985-11-29 23:21:18, char_span: [65: 84]), Span(type: PERSON, value: Tina Payne, char_span: [51: 61])]\n"
     ]
    },
    {
     "name": "stderr",
     "output_type": "stream",
     "text": [
      "\n"
     ]
    }
   ],
   "source": [
    "from presidio_evaluator.data_generator.faker_extensions.providers import *\n",
    "\n",
    "IpAddressProvider  # Both Ipv4 and IPv6 IP addresses\n",
    "NationalityProvider  # Read countries + nationalities from file\n",
    "OrganizationProvider  # Read organization names from file\n",
    "UsDriverLicenseProvider  # Read US driver license numbers from file\n",
    "AgeProvider  # Age values (unavailable on Faker\n",
    "AddressProviderNew  # Extend the default address formats\n",
    "PhoneNumberProviderNew  # Extend the default phone number formats\n",
    "ReligionProvider  # Read religions from file\n",
    "HospitalProvider  # Read hospital names from file\n",
    "MedicalProvider  # Read medical entities from file\n",
    "UsPassportProvider\n",
    "\n",
    "from presidio_evaluator.data_generator.presidio_sentence_faker import PresidioSentenceFaker\n",
    "\n",
    "\"\"\" sentence_templates = [\n",
    "    \"Patient {{PERSON}} ({{AGE}} years old, {{GENDER}}) completed their registration on {{DATE_TIME}}. Contact: {{EMAIL_ADDRESS}}. SSN: {{US_SSN}}. Billing on file ends with {{CREDIT_CARD}}.\",\n",
    "    \"Order confirmed for {{PERSON}} ({{AGE}}) on {{DATE_TIME}}. Receipt sent to {{EMAIL_ADDRESS}}. Shipping to {{LOCATION}}. Payment processed with card {{CREDIT_CARD}}. Order details at {{URL}}.\",\n",
    "    \"New account opened for {{PERSON}} ({{AGE}}, {{GENDER}}) on {{DATE_TIME}}. SSN {{US_SSN}}. Primary contact: {{EMAIL_ADDRESS}}. Initial deposit from card {{CREDIT_CARD}}. Nearest branch: {{LOCATION}}.\"\n",
    "    \"{{PERSON}} ({{AGE}}, {{GENDER}}) had an appointment on {{DATE_TIME}}. Patient portal login sent to {{EMAIL_ADDRESS}}. Insurance verified with SSN {{US_SSN}}. Next visit scheduled at our {{LOCATION}} location. Secure message sent via {{URL}}.\",\n",
    "    \"Booking confirmed for {{PERSON}} ({{AGE}}) on {{DATE_TIME}}. E-ticket sent to {{EMAIL_ADDRESS}}. Payment processed with card {{CREDIT_CARD}}. Pickup at {{LOCATION}}. View itinerary at {{URL}}.\",\n",
    "    \"Application received from {{PERSON}} ({{AGE}}, {{GENDER}}) on {{DATE_TIME}}. Contact: {{EMAIL_ADDRESS}}. SSN provided for background check: {{US_SSN}}. Current location: {{LOCATION}}. Resume available at {{URL}}.\",\n",
    "    \"New {{AGE}}-year-old {{GENDER}} member {{PERSON}} joined on {{DATE_TIME}}. Welcome email sent to {{EMAIL_ADDRESS}}. Membership card will be mailed to {{LOCATION}}. Payment method: {{CREDIT_CARD}}. Access member portal at {{URL}}.\",\n",
    "    \"Claim submitted by {{PERSON}} ({{AGE}}, {{GENDER}}) on {{DATE_TIME}}. Policyholder SSN: {{US_SSN}}. Correspondence sent to {{EMAIL_ADDRESS}}. Incident location: {{LOCATION}}. Payment processed to card {{CREDIT_CARD}}.\",\n",
    "    \"Subscription activated for {{PERSON}} ({{AGE}}) on {{DATE_TIME}}. Account email: {{EMAIL_ADDRESS}}. Billing: {{CREDIT_CARD}}. Location: {{LOCATION}}. Access your account at {{URL}}. For security, SSN required: {{US_SSN}}.\",\n",
    "    \"Application for {{PERSON}} ({{AGE}}, {{GENDER}}) received on {{DATE_TIME}}. SSN verified: {{US_SSN}}. Notifications will be sent to {{EMAIL_ADDRESS}}. Service center: {{LOCATION}}. Check status at {{URL}}.\",\n",
    "    \"Alert: Suspicious transaction on {{DATE_TIME}} for card {{CREDIT_CARD}}. Cardholder {{PERSON}} ({{AGE}}) was in {{LOCATION}}. If unauthorized, contact us at {{URL}} or verify at {{EMAIL_ADDRESS}}.\",\n",
    "    \"{{PERSON}} ({{AGE}} years, {{GENDER}}), SSN {{US_SSN}}, seen on {{DATE_TIME}}. Records updated and notification sent to {{EMAIL_ADDRESS}}. Next appointment at our {{LOCATION}} office. Secure portal: {{URL}}.\",\n",
    "    \"{{PERSON}} ({{AGE}}, {{GENDER}}) registered on {{DATE_TIME}}. Confirmation sent to {{EMAIL_ADDRESS}}. Event location: {{LOCATION}}. Payment method: {{CREDIT_CARD}}. Event details at {{URL}}. Emergency contact SSN: {{US_SSN}}.\",\n",
    "    \"Ticket: {{PERSON}} ({{AGE}}) contacted support on {{DATE_TIME}}. Verified email: {{EMAIL_ADDRESS}}. Account verified with SSN: {{US_SSN}}. Billing address: {{LOCATION}}. Reference URL: {{URL}}.\",\n",
    "    \"Background check initiated for {{PERSON}} ({{AGE}}, {{GENDER}}) on {{DATE_TIME}}. SSN: {{US_SSN}}. Results will be sent to {{EMAIL_ADDRESS}}. Current residence: {{LOCATION}}. Payment processed with {{CREDIT_CARD}}. Access report at {{URL}}.\",\n",
    "    \"Reservation confirmed for {{PERSON}} ({{AGE}}) at {{LOCATION}} on {{DATE_TIME}}. Confirmation sent to {{EMAIL_ADDRESS}}. Guaranteed by card {{CREDIT_CARD}}. Check-in requires ID and SSN: {{US_SSN}}. View booking at {{URL}}.\",\n",
    "    \"{{PERSON}} ({{AGE}}, {{GENDER}}) enrolled on {{DATE_TIME}}. Student ID created using SSN {{US_SSN}}. Campus email: {{EMAIL_ADDRESS}}. Campus location: {{LOCATION}}. Tuition payment method: {{CREDIT_CARD}}. Portal: {{URL}}.\",\n",
    "    \"Rental agreement for {{PERSON}} ({{AGE}}) on {{DATE_TIME}}. Driver's license verified with SSN {{US_SSN}}. Pickup: {{LOCATION}}. Confirmation sent to {{EMAIL_ADDRESS}}. Secured with card {{CREDIT_CARD}}. Details at {{URL}}.\"\n",
    "    \"Offer extended to {{PERSON}} ({{AGE}}, {{GENDER}}) on {{DATE_TIME}}. Employment verification completed via SSN {{US_SSN}}. Offer letter sent to {{EMAIL_ADDRESS}}. Office location: {{LOCATION}}. Sign documents at {{URL}}. Direct deposit form requires bank details and last 4 of SSN.\",\n",
    "    \"New payee {{PERSON}} ({{AGE}}) added on {{DATE_TIME}}. Verification code sent to {{EMAIL_ADDRESS}}. Account linked to {{CREDIT_CARD}}. Mailing address: {{LOCATION}}. For security, please verify SSN: {{US_SSN}}. Manage payees at {{URL}}.\",\n",
    "] \"\"\"\n",
    "\n",
    "sentence_templates = [\n",
    "    \"During the comprehensive health assessment conducted on {{DATE_TIME}}, {{PERSON}}, a {{AGE}}-year-old {{GENDER}} with a history of {{MEDICAL_CONDITION}}, reported experiencing persistent {{SYMPTOM}} that required further investigation through {{LAB_TEST}}, while the attending physician reviewed the patient's contact information including phone {{PHONE_NUMBER}} and {{EMAIL_ADDRESS}} for follow-up communications.\",\n",
    "    \"Following the diagnostic evaluation, the medical team prescribed {{DRUG}} at a dosage of {{DOSAGE}} to be taken {{DRUG_FREQUENCY}}, along with scheduling a follow-up {{PROCEDURE}} at our {{LOCATION}} facility on {{DATE_TIME}} to monitor the patient's response to the treatment plan.\",\n",
    "    \"The insurance claim for {{PERSON}} was processed on {{DATE_TIME}} using credit card ending in {{CREDIT_CARD}}, with the total amount being charged to the account linked to bank number {{BANK_NUMBER}}, while the international payment of $1,500.00 was successfully transferred to IBAN {{IBAN_CODE}} for the medical services rendered at our {{LOCATION}} clinic.\",\n",
    "    \"During the registration process at {{ORGANIZATION}} on {{DATE_TIME}}, {{PERSON}} provided multiple forms of identification including US passport number {{US_PASSPORT}}, state driver's license {{US_DRIVER_LICENSE}}, and social security number {{US_SSN}}, all of which were verified through our secure authentication system before proceeding with the scheduled {{PROCEDURE}}.\",\n",
    "    \"The electronic health record for {{PERSON}}, a {{AGE}}-year-old {{GENDER}}, indicates a diagnosis of {{MEDICAL_CONDITION}} with recent {{LAB_TEST}} results showing significant improvement since the initiation of {{DRUG}} therapy at {{DOSAGE}} administered {{DRUG_FREQUENCY}}, while the patient's contact details including phone {{PHONE_NUMBER}} and {{EMAIL_ADDRESS}} were confirmed during the last visit on {{DATE_TIME}} at our {{LOCATION}} medical center.\",\n",
    "    \"The detailed invoice generated on {{DATE_TIME}} for services rendered to {{PERSON}} includes charges for the recent {{PROCEDURE}} and {{LAB_TEST}}, with payment authorized through credit card {{CREDIT_CARD}} and a portion of the amount being directly billed to the patient's bank account {{BANK_NUMBER}}, while the remaining balance was covered by an international wire transfer to IBAN {{IBAN_CODE}}.\",\n",
    "    \"Upon admission to {{ORGANIZATION}} on {{DATE_TIME}}, {{PERSON}}, a {{AGE}}-year-old {{GENDER}} with a medical history significant for {{MEDICAL_CONDITION}}, underwent an initial evaluation that included {{LAB_TEST}}, followed by the administration of {{DRUG}} at {{DOSAGE}} to be taken {{DRUG_FREQUENCY}}, while the patient's emergency contact information including phone {{PHONE_NUMBER}} was verified by the nursing staff during the admission process.\",\n",
    "    \"The medical report dated {{DATE_TIME}} for {{PERSON}} outlines the successful completion of {{PROCEDURE}} performed at our {{LOCATION}} facility, with prescribed medication including {{DRUG}} at {{DOSAGE}} to be taken {{DRUG_FREQUENCY}}, while the patient's identification documents including US passport {{US_PASSPORT}} and driver's license {{US_DRIVER_LICENSE}} were verified prior to the procedure to ensure accurate medical record-keeping and billing processes.\",\n",
    "    \"During the follow-up consultation on {{DATE_TIME}}, {{PERSON}}, a {{AGE}}-year-old {{GENDER}} being treated for {{MEDICAL_CONDITION}}, reported improved {{SYMPTOM}} following the prescribed regimen of {{DRUG}} at {{DOSAGE}} taken {{DRUG_FREQUENCY}}, while the most recent {{LAB_TEST}} results showed positive response to treatment, and the patient's contact information including phone {{PHONE_NUMBER}} was updated in our system for future communications.\",\n",
    "    \"The multidisciplinary treatment plan developed for {{PERSON}} on {{DATE_TIME}} includes ongoing management of {{MEDICAL_CONDITION}} through regular {{LAB_TEST}} monitoring and administration of {{DRUG}} at {{DOSAGE}} to be taken {{DRUG_FREQUENCY}}, with scheduled {{PROCEDURE}} to be performed at our {{LOCATION}} facility, while all financial transactions are processed through the patient's credit card {{CREDIT_CARD}} and verified bank account {{BANK_NUMBER}} for seamless billing and record-keeping purposes.\",\n",
    "    \"Offer extended to {{PERSON}} ({{AGE}}, {{GENDER}}) on {{DATE_TIME}}. Employment verification completed via SSN {{US_SSN}}. Offer letter sent to {{EMAIL_ADDRESS}}. Office location: {{LOCATION}}. Sign documents at {{URL}}. Direct deposit form requires bank details and last 4 of SSN.\",\n",
    "    \"New payee {{PERSON}} ({{AGE}}) added on {{DATE_TIME}}. Verification code sent to {{EMAIL_ADDRESS}}. Account linked to {{CREDIT_CARD}}. Mailing address: {{LOCATION}}. For security, please verify SSN: {{US_SSN}}. Manage payees at {{URL}}.\",\n",
    "]\n",
    "\n",
    "sentence_faker = PresidioSentenceFaker(\n",
    "    \"en_US\", lower_case_ratio=0.05, sentence_templates=sentence_templates, #base_records=records\n",
    ")\n",
    "fake_sentence_results = sentence_faker.generate_new_fake_sentences(25)\n",
    "\n",
    "# Print the spans of the first sample\n",
    "print(fake_sentence_results[0].masked)\n",
    "print(fake_sentence_results[0].spans)\n",
    "print(fake_sentence_results[1].masked)\n",
    "print(fake_sentence_results[1].spans)"
   ]
  },
  {
   "cell_type": "markdown",
   "metadata": {},
   "source": [
    "## Generate a full dataset\n",
    "\n",
    "In this example we generate a large dataset with multiple entity types and save it in in JSON and CONLL03 formats.\n",
    "This uses the default sentence templates included in this package."
   ]
  },
  {
   "cell_type": "code",
   "execution_count": 4,
   "metadata": {
    "is_executing": true,
    "scrolled": true
   },
   "outputs": [],
   "source": [
    "import datetime\n",
    "\n",
    "number_of_samples = 50\n",
    "lower_case_ratio = 0.05\n",
    "locale = \"en\"\n",
    "cur_time = datetime.date.today().strftime(\"%B_%d_%Y\")\n",
    "\n",
    "output_file = f\"../data/generated_size_{number_of_samples}_date_{cur_time}.json\"\n",
    "output_conll = f\"../data/generated_size_{number_of_samples}_date_{cur_time}.tsv\""
   ]
  },
  {
   "cell_type": "markdown",
   "metadata": {
    "pycharm": {
     "name": "#%% md\n"
    }
   },
   "source": [
    "The `PresidioSentenceFaker` is based on the Faker library. It loads [FakeNameGenerator](https://www.fakenamegenerator.com/) data by default\n",
    "to extend the set of fake values and creates a `SentenceFaker` \n",
    "which returns a fake person record (with multiple values) instead of one value,\n",
    "allowing dependencies between values belonging to the same fake person\n",
    "(e.g. name = Michael Smith with the email michael.smith@gmail.com).\n",
    "\n",
    "`FakeNameGenerator.com_3000.csv` is included in this package and can be sourced from https://www.fakenamegenerator.com/order.php"
   ]
  },
  {
   "cell_type": "code",
   "execution_count": 5,
   "metadata": {},
   "outputs": [
    {
     "name": "stdout",
     "output_type": "stream",
     "text": [
      "Using default entity providers\n",
      "Using default entity mapping between the entities in the templates and the ones in the output dataset\n",
      "Using default provider aliases\n"
     ]
    }
   ],
   "source": [
    "sentence_faker = PresidioSentenceFaker(\"en_US\", lower_case_ratio=0.05, sentence_templates=sentence_templates)"
   ]
  },
  {
   "cell_type": "code",
   "execution_count": 6,
   "metadata": {},
   "outputs": [
    {
     "data": {
      "text/html": [
       "<div>\n",
       "<style scoped>\n",
       "    .dataframe tbody tr th:only-of-type {\n",
       "        vertical-align: middle;\n",
       "    }\n",
       "\n",
       "    .dataframe tbody tr th {\n",
       "        vertical-align: top;\n",
       "    }\n",
       "\n",
       "    .dataframe thead th {\n",
       "        text-align: right;\n",
       "    }\n",
       "</style>\n",
       "<table border=\"1\" class=\"dataframe\">\n",
       "  <thead>\n",
       "    <tr style=\"text-align: right;\">\n",
       "      <th></th>\n",
       "      <th>first_name</th>\n",
       "      <th>last_name</th>\n",
       "      <th>gender</th>\n",
       "      <th>name</th>\n",
       "      <th>person</th>\n",
       "      <th>first_name_male</th>\n",
       "      <th>first_name_female</th>\n",
       "      <th>last_name_male</th>\n",
       "      <th>last_name_female</th>\n",
       "      <th>prefix</th>\n",
       "      <th>prefix_male</th>\n",
       "      <th>prefix_female</th>\n",
       "    </tr>\n",
       "  </thead>\n",
       "  <tbody>\n",
       "    <tr>\n",
       "      <th>0</th>\n",
       "      <td>Taylor</td>\n",
       "      <td>Castillo</td>\n",
       "      <td>female</td>\n",
       "      <td>Taylor Castillo</td>\n",
       "      <td>Taylor Castillo</td>\n",
       "      <td></td>\n",
       "      <td>Taylor</td>\n",
       "      <td></td>\n",
       "      <td>Castillo</td>\n",
       "      <td>Mrs.</td>\n",
       "      <td></td>\n",
       "      <td>Mrs.</td>\n",
       "    </tr>\n",
       "    <tr>\n",
       "      <th>1</th>\n",
       "      <td>Erik</td>\n",
       "      <td>Miranda</td>\n",
       "      <td>male</td>\n",
       "      <td>Erik Miranda</td>\n",
       "      <td>Erik Miranda</td>\n",
       "      <td>Erik</td>\n",
       "      <td></td>\n",
       "      <td>Miranda</td>\n",
       "      <td></td>\n",
       "      <td>Mr.</td>\n",
       "      <td>Mr.</td>\n",
       "      <td></td>\n",
       "    </tr>\n",
       "    <tr>\n",
       "      <th>2</th>\n",
       "      <td>James</td>\n",
       "      <td>Davis</td>\n",
       "      <td>male</td>\n",
       "      <td>James Davis</td>\n",
       "      <td>James Davis</td>\n",
       "      <td>James</td>\n",
       "      <td></td>\n",
       "      <td>Davis</td>\n",
       "      <td></td>\n",
       "      <td>Mr.</td>\n",
       "      <td>Mr.</td>\n",
       "      <td></td>\n",
       "    </tr>\n",
       "    <tr>\n",
       "      <th>3</th>\n",
       "      <td>Collin</td>\n",
       "      <td>Underwood</td>\n",
       "      <td>male</td>\n",
       "      <td>Collin Underwood</td>\n",
       "      <td>Collin Underwood</td>\n",
       "      <td>Collin</td>\n",
       "      <td></td>\n",
       "      <td>Underwood</td>\n",
       "      <td></td>\n",
       "      <td>Mr.</td>\n",
       "      <td>Mr.</td>\n",
       "      <td></td>\n",
       "    </tr>\n",
       "    <tr>\n",
       "      <th>4</th>\n",
       "      <td>Stephanie</td>\n",
       "      <td>Lynch</td>\n",
       "      <td>female</td>\n",
       "      <td>Stephanie Lynch</td>\n",
       "      <td>Stephanie Lynch</td>\n",
       "      <td></td>\n",
       "      <td>Stephanie</td>\n",
       "      <td></td>\n",
       "      <td>Lynch</td>\n",
       "      <td>Mrs.</td>\n",
       "      <td></td>\n",
       "      <td>Ms.</td>\n",
       "    </tr>\n",
       "  </tbody>\n",
       "</table>\n",
       "</div>"
      ],
      "text/plain": [
       "  first_name  last_name  gender              name            person  \\\n",
       "0     Taylor   Castillo  female   Taylor Castillo   Taylor Castillo   \n",
       "1       Erik    Miranda    male      Erik Miranda      Erik Miranda   \n",
       "2      James      Davis    male       James Davis       James Davis   \n",
       "3     Collin  Underwood    male  Collin Underwood  Collin Underwood   \n",
       "4  Stephanie      Lynch  female   Stephanie Lynch   Stephanie Lynch   \n",
       "\n",
       "  first_name_male first_name_female last_name_male last_name_female prefix  \\\n",
       "0                            Taylor                        Castillo   Mrs.   \n",
       "1            Erik                          Miranda                     Mr.   \n",
       "2           James                            Davis                     Mr.   \n",
       "3          Collin                        Underwood                     Mr.   \n",
       "4                         Stephanie                           Lynch   Mrs.   \n",
       "\n",
       "  prefix_male prefix_female  \n",
       "0                      Mrs.  \n",
       "1         Mr.                \n",
       "2         Mr.                \n",
       "3         Mr.                \n",
       "4                       Ms.  "
      ]
     },
     "execution_count": 6,
     "metadata": {},
     "output_type": "execute_result"
    }
   ],
   "source": [
    "pd.DataFrame(sentence_faker._sentence_faker.records).head()"
   ]
  },
  {
   "cell_type": "markdown",
   "metadata": {},
   "source": [
    "`PresidioSentenceFaker` adds additional providers by default, which are not included in the Faker package.\n",
    "These can be found in `presidio_evaluator.data_generator.faker_extensions.providers`\n",
    "\n",
    "It is possible to create providers for additional entity types by extending Faker's `BaseProvider` class, \n",
    "and calling `add_provider` on the `PresidioSentenceFaker` instance.\n",
    "For example:"
   ]
  },
  {
   "cell_type": "code",
   "execution_count": 7,
   "metadata": {},
   "outputs": [],
   "source": [
    "import random\n",
    "from faker.providers import BaseProvider\n",
    "\n",
    "\n",
    "class MarsIdProvider(BaseProvider):\n",
    "    def mars_id(self):\n",
    "        # Generate a random row number between 1 and 50\n",
    "        row = random.randint(1, 50)\n",
    "        # Generate a random letter for the seat location from A-K\n",
    "        location = random.choice(\"ABCDEFGHIJK\")\n",
    "        # Return the seat in the format \"row-letter\" (e.g., \"25A\")\n",
    "        return f\"{row}{location}\"\n",
    "\n",
    "\n",
    "sentence_faker.add_provider(MarsIdProvider)\n",
    "# Now a new `mars_id` entity can be generated if a template has `mars_id` in it."
   ]
  },
  {
   "cell_type": "code",
   "execution_count": 8,
   "metadata": {
    "is_executing": true
   },
   "outputs": [
    {
     "data": {
      "text/plain": [
       "presidio_evaluator.data_generator.faker_extensions.providers.MedicalProvider"
      ]
     },
     "execution_count": 8,
     "metadata": {},
     "output_type": "execute_result"
    }
   ],
   "source": [
    "from presidio_evaluator.data_generator.faker_extensions.providers import *\n",
    "\n",
    "IpAddressProvider  # Both Ipv4 and IPv6 IP addresses\n",
    "NationalityProvider  # Read countries + nationalities from file\n",
    "OrganizationProvider  # Read organization names from file\n",
    "UsDriverLicenseProvider  # Read US driver license numbers from file\n",
    "AgeProvider  # Age values (unavailable on Faker\n",
    "AddressProviderNew  # Extend the default address formats\n",
    "PhoneNumberProviderNew  # Extend the default phone number formats\n",
    "ReligionProvider  # Read religions from file\n",
    "HospitalProvider  # Read hospital names from file\n",
    "MedicalProvider  # Read medical entities from file\n",
    "\n",
    "\n"
   ]
  },
  {
   "cell_type": "markdown",
   "metadata": {
    "pycharm": {
     "name": "#%% md\n"
    }
   },
   "source": [
    "`PresidioSentenceFaker.PROVIDER_ALIASES` can be extended to add additional provider aliases for when templates have\n",
    "a different entity name than what the providers emit."
   ]
  },
  {
   "cell_type": "code",
   "execution_count": 9,
   "metadata": {
    "is_executing": true,
    "pycharm": {
     "name": "#%%\n"
    }
   },
   "outputs": [
    {
     "data": {
      "text/plain": [
       "[('name', 'person'),\n",
       " ('credit_card_number', 'credit_card'),\n",
       " ('date_of_birth', 'birthday')]"
      ]
     },
     "execution_count": 9,
     "metadata": {},
     "output_type": "execute_result"
    }
   ],
   "source": [
    "# Create entity aliases (e.g. if your provider supports \"name\" but templates contain \"person\").\n",
    "provider_aliases = PresidioSentenceFaker.PROVIDER_ALIASES\n",
    "provider_aliases\n",
    "\n",
    "# To customize, call `PresidioSentenceFaker(locale=\"en_US\",...,provider_aliases=provider_aliases)`"
   ]
  },
  {
   "cell_type": "markdown",
   "metadata": {
    "pycharm": {
     "name": "#%% md\n"
    }
   },
   "source": [
    "Generate data"
   ]
  },
  {
   "cell_type": "code",
   "execution_count": 10,
   "metadata": {},
   "outputs": [
    {
     "name": "stderr",
     "output_type": "stream",
     "text": [
      "Sampling: 100%|██████████| 50/50 [00:00<00:00, 2444.80it/s]"
     ]
    },
    {
     "name": "stdout",
     "output_type": "stream",
     "text": [
      "Full text: The multidisciplinary treatment plan developed for Marvin Smith on 1982-05-07 21:50:31 includes ongoing management of Hepatitis B through regular Vitamin B12 Level monitoring and administration of Ciprofloxacin at 0.7% solution to be taken once daily, with scheduled Coronary Angioplasty to be performed at our Martinborough, FL facility, while all financial transactions are processed through the patient's credit card 4939358834096 and verified bank account 7222371804 for seamless billing and record-keeping purposes.\n",
      "Spans: [Span(type: BANK_NUMBER, value: 7222371804, char_span: [460: 470]), Span(type: CREDIT_CARD, value: 4939358834096, char_span: [420: 433]), Span(type: LOCATION, value: Martinborough, FL, char_span: [311: 328]), Span(type: PROCEDURE, value: Coronary Angioplasty, char_span: [267: 287]), Span(type: DRUG_FREQUENCY, value: once daily, char_span: [240: 250]), Span(type: DOSAGE, value: 0.7% solution, char_span: [214: 227]), Span(type: DRUG, value: Ciprofloxacin, char_span: [197: 210]), Span(type: LAB_TEST, value: Vitamin B12 Level, char_span: [146: 163]), Span(type: MEDICAL_CONDITION, value: Hepatitis B, char_span: [118: 129]), Span(type: DATE_TIME, value: 1982-05-07 21:50:31, char_span: [67: 86]), Span(type: PERSON, value: Marvin Smith, char_span: [51: 63])]\n",
      "\n"
     ]
    },
    {
     "name": "stderr",
     "output_type": "stream",
     "text": [
      "\n"
     ]
    }
   ],
   "source": [
    "import pprint\n",
    "fake_records = sentence_faker.generate_new_fake_sentences(num_samples=number_of_samples)\n",
    "pprint.pprint(fake_records[0])"
   ]
  },
  {
   "cell_type": "markdown",
   "metadata": {},
   "source": [
    "#### Verify randomness of dataset"
   ]
  },
  {
   "cell_type": "code",
   "execution_count": 11,
   "metadata": {
    "is_executing": true,
    "scrolled": true
   },
   "outputs": [
    {
     "name": "stdout",
     "output_type": "stream",
     "text": [
      "Total: 50\n",
      "Avg # of records per template: 4.166666666666667\n",
      "Median # of records per template: 4.0\n",
      "Std: 1.674979270186815\n"
     ]
    }
   ],
   "source": [
    "from collections import Counter\n",
    "import numpy as np\n",
    "count_per_template_id = Counter([sample.template_id for sample in fake_records])\n",
    "\n",
    "print(f\"Total: {sum(count_per_template_id.values())}\")\n",
    "print(f\"Avg # of records per template: {np.mean(list(count_per_template_id.values()))}\")\n",
    "print(\n",
    "    f\"Median # of records per template: {np.median(list(count_per_template_id.values()))}\"\n",
    ")\n",
    "print(f\"Std: {np.std(list(count_per_template_id.values()))}\")"
   ]
  },
  {
   "cell_type": "code",
   "execution_count": 12,
   "metadata": {},
   "outputs": [
    {
     "name": "stdout",
     "output_type": "stream",
     "text": [
      "Encrypted: g9njXwM3D83yk6k0lzFBRtLL5Ri5wdg/MkJnEYUZE15qy5fxlsvRNmre+kfh0xG9jPYROCOet6FbHzXlXeA+s+MJpBU/Rx1s0mzktFq3RtU=\n",
      "Decrypted: This is my new test string for testing decryption\n"
     ]
    }
   ],
   "source": [
    "# Encrypt / Decrypt Functions\n",
    "\n",
    "import os\n",
    "import base64\n",
    "from Crypto.Cipher import AES\n",
    "from Crypto.Util.Padding import pad, unpad\n",
    "from Crypto.Hash import SHA256\n",
    "\n",
    "# Generate a 32-byte key from a string\n",
    "def generate_key(key_string):\n",
    "    hash_object = SHA256.new(key_string.encode())\n",
    "    return hash_object.digest()\n",
    "\n",
    "# Encrypts the given plaintext using AES and returns the ciphertext\n",
    "def encrypt(plaintext, key):\n",
    "    cipher = AES.new(key, AES.MODE_CBC)\n",
    "    iv = cipher.iv\n",
    "    padded_plaintext = pad(plaintext.encode(), AES.block_size)  # Pad the plaintext\n",
    "    ciphertext = cipher.encrypt(padded_plaintext)\n",
    "    return base64.b64encode(iv + ciphertext).decode('utf-8')  # Prepend IV for decryption\n",
    "\n",
    "# Decrypts the given ciphertext using AES and returns the plaintext\n",
    "def decrypt(ciphertext, key):\n",
    "    ciphertext_bytes = base64.b64decode(ciphertext)\n",
    "    iv = ciphertext_bytes[:AES.block_size]\n",
    "    cipher = AES.new(key, AES.MODE_CBC, iv)\n",
    "    padded_plaintext = cipher.decrypt(ciphertext_bytes[AES.block_size:])\n",
    "    return unpad(padded_plaintext, AES.block_size).decode('utf-8')  # Unpad the plaintext\n",
    "\n",
    "# Example usage\n",
    "\n",
    "key_string = \"marveluniverse\"  # Use a secure key\n",
    "eKey = generate_key(key_string)\n",
    "\n",
    "# Example plaintext\n",
    "plaintext = \"This is my new test string for testing decryption\"\n",
    "\n",
    "# Encrypt\n",
    "encrypted = encrypt(plaintext, eKey)\n",
    "print(\"Encrypted:\", encrypted)\n",
    "\n",
    "# Decrypt\n",
    "decrypted = decrypt(encrypted, eKey)\n",
    "print(\"Decrypted:\", decrypted)\n",
    "\n"
   ]
  },
  {
   "cell_type": "code",
   "execution_count": 13,
   "metadata": {},
   "outputs": [
    {
     "name": "stdout",
     "output_type": "stream",
     "text": [
      "Original records: 50\n",
      "Deduplicated records: 50\n"
     ]
    }
   ],
   "source": [
    "\n",
    "# Remove duplicates based on 'full_text'\n",
    "seen = set()\n",
    "deduped = []\n",
    "count = 1\n",
    "for record in fake_records:\n",
    "    key = record.full_text  # or use a tuple of fields if needed\n",
    "    record.full_text = encrypt(record.full_text, eKey)\n",
    "    record.template_id = count\n",
    "    count += 1\n",
    "    if key not in seen:\n",
    "        seen.add(key)\n",
    "        del record.masked\n",
    "        del record.metadata\n",
    "        for span in record.spans:\n",
    "            span.entity_value = encrypt(span.entity_value, eKey)\n",
    "            del span.normalized_tokens\n",
    "            del span.normalized_start_index\n",
    "            del span.normalized_end_index\n",
    "            del span.token_start\n",
    "            del span.token_end\n",
    "        deduped.append(record)\n",
    "\n",
    "print(f\"Original records: {len(fake_records)}\")\n",
    "print(f\"Deduplicated records: {len(deduped)}\")\n",
    "\n",
    "# Save the deduplicated data\n",
    "fake_records = deduped"
   ]
  },
  {
   "cell_type": "markdown",
   "metadata": {
    "pycharm": {
     "name": "#%% md\n"
    }
   },
   "source": [
    "#### Which entities did we generate?"
   ]
  },
  {
   "cell_type": "code",
   "execution_count": 14,
   "metadata": {
    "is_executing": true,
    "pycharm": {
     "name": "#%%\n"
    }
   },
   "outputs": [
    {
     "data": {
      "text/plain": [
       "Counter({'DATE_TIME': 50,\n",
       "         'PERSON': 47,\n",
       "         'AGE': 28,\n",
       "         'LOCATION': 26,\n",
       "         'LAB_TEST': 25,\n",
       "         'GENDER': 24,\n",
       "         'DRUG_FREQUENCY': 23,\n",
       "         'DOSAGE': 23,\n",
       "         'DRUG': 23,\n",
       "         'MEDICAL_CONDITION': 19,\n",
       "         'PROCEDURE': 18,\n",
       "         'PHONE_NUMBER': 17,\n",
       "         'CREDIT_CARD': 16,\n",
       "         'EMAIL_ADDRESS': 16,\n",
       "         'US_SSN': 14,\n",
       "         'BANK_NUMBER': 12,\n",
       "         'URL': 11,\n",
       "         'IBAN_CODE': 10,\n",
       "         'ORGANIZATION': 10,\n",
       "         'SYMPTOM': 8,\n",
       "         'US_DRIVER_LICENSE': 7,\n",
       "         'US_PASSPORT': 7})"
      ]
     },
     "execution_count": 14,
     "metadata": {},
     "output_type": "execute_result"
    }
   ],
   "source": [
    "count_per_entity = Counter()\n",
    "for record in fake_records:\n",
    "    count_per_entity.update(Counter([span.entity_type for span in record.spans]))\n",
    "\n",
    "count_per_entity"
   ]
  },
  {
   "cell_type": "code",
   "execution_count": 15,
   "metadata": {},
   "outputs": [
    {
     "name": "stdout",
     "output_type": "stream",
     "text": [
      "Full text: YvGnXoptMbf/AoJt6jNjl0TFNMaEvPzkPxqDvvMo0RSCqf0DB8+9ORXxeWmIIpTAcTAIkFyc75XP+HzWGBaUmQbLj1dSRo7EF4GvgjJffORkri2iihLxtc2iDoOugokM072zQAwqb7A8l3s9OIUpjX38ooxLUZUx6BqZ8EMh8c3F+VDFt9NRbykZNkO+mUas2Q0ziH0QuYZq1EyNNJLhK5l2Mmrrzv5AA/ikZGRx/btRcxBEy8O5/SdPkc10cgLjXbcXwImWM+HVbUPYCjyHe2Jfb4/TnxOfd8qcu0IMXU566dkQw1fVCub7QhZ/bQX98HlRWub1qkKMwps8Y3Rt9VVQGZ3FPcPzQQIc7s4FZ+6xy5W5H78dFAHp6U5NiT7mnsJOzi2W3xrmDnFY/pWkv/7izOWsSxCnCzn13UlOD25pUM+H77bQ81L4Ca2y44lHIWSsIhIfR/YXa3dWgB1SV+aC4UjlhfclIXPCOQodYExAKzqJCf/qrF50PVUstD66xC/WFog9sCL38H/Dhvr9jMMB03og1r9aya//JHpzIZTrIKmjhCfgccdUtgJBwQwe0mn1ZOVod8sUgEaCEJhJ7G1VhWFKmZ5D5YtF2xBfUvqzyZiw62UvSmUHVGQMHzJp9nzeA16oUFBBSzcjha6Pdx7xNT0c2R9+2avl8Nsg1dIQ5sLCH0Y0rAIPSQvJ3hi5DzWW6U03Dekg+GK/93LLIA==\n",
      "Spans: [Span(type: BANK_NUMBER, value: +oydbbosbT1Ta3QL8NKDvx6UwKNAFRpIHKBgu9FODqQ=, char_span: [460: 470]), Span(type: CREDIT_CARD, value: NhTrijmS9FqUzJlZOsRJfRyugLz8Zj/aY+wsi/Vjr4s=, char_span: [420: 433]), Span(type: LOCATION, value: T5YUTiQZya9Wv91rVoH/bVgSL+GCFniVE156HK7xGddVoz308QoFjvUvv9bjJTyb, char_span: [311: 328]), Span(type: PROCEDURE, value: n+qDBqVhR8l1mWeSNitWdKCeoI0OEwEYL/aJV4SY8/YFqinLifoUMK4CmATjkyAI, char_span: [267: 287]), Span(type: DRUG_FREQUENCY, value: ls84IbK95TC/DJHCCpjURZL4ryjVoPcihz2ZHewApxI=, char_span: [240: 250]), Span(type: DOSAGE, value: umXGdo+99qgnOeWJ4TKFXHocQMaHL7DbapHNRp9xS/E=, char_span: [214: 227]), Span(type: DRUG, value: A2jZu7U/DbTbwRGVEdbDpexwE23pTPZNR0hCbGcdBTI=, char_span: [197: 210]), Span(type: LAB_TEST, value: nObjMAx4YpGI9TslUXTyh+bPTzoj31vwhcLsqkctplPbBF48y0UGHSBsre7drcYL, char_span: [146: 163]), Span(type: MEDICAL_CONDITION, value: q9Irs023Lfp0JdSL/taSFgOBwxvCcB+cQfvnLGHQYnQ=, char_span: [118: 129]), Span(type: DATE_TIME, value: 6rXxfzah901SzW2pi48dJN7HotzcM9S7HvVYwLNkL7UNJYch+p0vBUJqifmQGQXT, char_span: [67: 86]), Span(type: PERSON, value: 8YttWSc+X2wT8obSQIc1f9I/7dRIXlbUgyEubqEA780=, char_span: [51: 63])]\n",
      "\n",
      "Full text: jsGJmaon8oTYUcqtbO2ihfgfNA4AT1D6/u0X3C9H7kCKvuGdpqqWuKWOKOnfoyW5tgt2e4yagie6t9vUR6wc03vRFasYOa/nNKyw1kb+mzbSUOaFCdDiRZ0Q08jfqwV1221dzROmZkA7irYPUaFpylG35qrQVz5MeurEeUxzv4tVZZeEuhD5qPaFwcQLl1Bflg84kKlwQoYthHT9fkkQ0aTKj7JIoYVNeFpuZEfReW1OXdF8G9s70fjqADPuD1WDarO7fIBYxIDsHBs9jmGOAYsvO41rB1SwCfaIjQBKb69R73d8ASJEgcrh0lvqHvyYp99pn0lrjKffAM75TjjTUaWiYmlbpnhAtekXh/hneVh9s5RNBKnuA8qqWVVCxl5S9ErG27TQgmu0gL4absQA2rZPHdfyG4E1A1mAA3f7FMpl7IqTVaJn0hx7xOiZ9VSKR+yqTuICuAx36NscOVWLauymcApq7Out1pK7V7qLnCCegDnWSWlqRUqUMGjqTyTffKbNKdBiX5km0T80dMBLmjL0I/UhQh6xIbVaqIPcKR6cPsFaGTmu/KtbW3T13ajMkQz4zIMXyWM6HgftxhvfgoI5Gid7vdH2JL5khT7zv1AQAvS5vDzcodB3GgUeG3kAyBJWxMKaycr3p/CkdDOXpA==\n",
      "Spans: [Span(type: PHONE_NUMBER, value: x3VgTOG89LtuMOUOCv2yGowmapC54kzedjEXYXPR0mKndU9n/yoaZ8D50QVj/0z8, char_span: [393: 412]), Span(type: LAB_TEST, value: FDDa8itbkD3M++X/lt4q/w6CSZQM0SWdkaXdLBQlJLx1tL13CvvJK1bXXbLZeg4A, char_span: [274: 291]), Span(type: DRUG_FREQUENCY, value: zHaQQ2JfGgsjT2K9uBwtyQ6/jrD7PdIlehmIn9mMhyg=, char_span: [237: 250]), Span(type: DOSAGE, value: RL5PMFrHwv76YpRgm6x8tk/N33YB2y11ltnwnneR2s829L1PsWKEaaESn2tr7gE2, char_span: [209: 230]), Span(type: DRUG, value: 7defAWsQ33aWAzPVXtRkAiosfyIkCKCrWMQv0cLgpu0=, char_span: [194: 205]), Span(type: SYMPTOM, value: dOi0sQMpcNCvMa+PeQvdTFl4ijdCSIeUo1LHT3MuNkg=, char_span: [145: 157]), Span(type: MEDICAL_CONDITION, value: 3yQgnQnvgNbtMNrecRG77PWIOCo4ndTUGNvgsDQjrUQ=, char_span: [111: 125]), Span(type: GENDER, value: bQf4r47C3yCLJ0/Q2HXMKegONFZx0n6Hd8dGWvg6RPY=, char_span: [88: 92]), Span(type: AGE, value: CYPhHT1eBZtHiaOfauuYZIC/AWSRvHupiYVjPVCLAS8=, char_span: [75: 78]), Span(type: PERSON, value: fJSo5qfyniy7QZ4/bMza3G9OtxpS6VrEABhSk2C294A=, char_span: [58: 71]), Span(type: DATE_TIME, value: tbyE03V93jUEJjW9cZjIBAorgFodLkxPHDflPPeyn7Q6T2GEgXfWvDvnr7UmDL6f, char_span: [37: 56])]\n",
      "\n",
      "Full text: 2Qxkh9KBe+up+Ig7lKiK5fG7CbCy08zel6cVOQHW62TNn9rQNro06pV2OLrh73wF3PKQbC1k885sqzCX3h7kiLmkegHad5XftD2wQMJjQQjS3Gmzd5Q6puw8iaa1nIOFGa3XDW1TK/iPejsYORPWRjXsD8hSu6ou8iCkxB0HirWSu3m/PacDifMr27ZY3tNp30V8bJ6oSOKx0k1w9yAYkTlUew+2UcqFNYkLi19+G/hPNJGPDyoNunCcop1oj/Oip8clFFCpTG1Y6AFRiXUAGvndfjdWMmGnKUK4gRySCmK8mUbX6RT4GhwZ03eQn2bzmIk512BHStCFIJ8Od8jE95yx7TkzDuZ7Fdm3BIYZZ7P7KQ334VZLGHo958VTEaqmK6FMpY7i3+8pYgOejdrHm3LtMj+3+6Lc3WmlUXA5G79ElHKbHASNVETMJzNEIP8eEOy39ayNoK7Oaeyl6gtrwXcQwYkldLo7cfzypZ5IBKRlVaObXnA8xDAAGSvv6ctlYB3LJF/YerK8R1LrHSIRBg==\n",
      "Spans: [Span(type: URL, value: JAbx+pRITjbhnCl8ocNyBFN2lfxMe6yeKQEs8Re8kmD7YeBEHJ+xHJz8TRPVD/BY0n6l8Mpm0eRA94Q8gP7dhPt12Dr7zIc4pA0aDctkQEA=, char_span: [259: 309]), Span(type: LOCATION, value: wCxw215h5PdKvQggNYaIYNt0gelec6chnB/KszFNRyiL9cBga6mtDchfnw7mx2dfUoftvCDggRluyIYrcv0RpA==, char_span: [192: 239]), Span(type: EMAIL_ADDRESS, value: HIh7ULzq7AXqmiWQvF5COdwN2B3ws2xdtefcdFS9RVrBsfFln77pErtdFKPbuTI+, char_span: [148: 173]), Span(type: US_SSN, value: xKORoWP74jMauEZnh65SLLBhHa3TZZ3eA9jS4+tayhs=, char_span: [114: 125]), Span(type: DATE_TIME, value: CK4GuFiF64cPdtys2Ye+FhYdGyi/4GPFnPamBI3B9S90eON6nh/rup4k4Yu6kPLl, char_span: [51: 70]), Span(type: GENDER, value: 4BThCmudnxfFe8wkmA2yW1MkOX3+ZKDV5nrxsl5qc1U=, char_span: [40: 46]), Span(type: AGE, value: RfiX+cCCfY5ZVH0Jk8S6MaRsXrPvsV8PSZE/lNUjYl0=, char_span: [36: 38]), Span(type: PERSON, value: zbjSix+a7g5STXvM5LLBMD8sZdwos2Gs4EM+3SErGSMkmXR5e9GoZwCsT1lQ2uIT, char_span: [18: 34])]\n",
      "\n",
      "Full text: 3MILRDFNPfmfZLXyIcrxIynxPYxfuPvymmVNXxLbhZgoHa1weMZmSlDTF0MbmO/Fzl61dH4KZwYSKxZ3fil+19VTPSWqc79qHfAK+pB2Eq1a1AaOczFPbol/K6Z7E37b/Qm6fPCrJyjUbt0XP9qp43CkhS9Rja5sznKvDTzAQhISoTmmcIctk6EsGTjg9vMc4MopRQYMpfl6zKtKnT2SSIzsYJEgodiILcUNVAM9euayMmhxQOGMDLFARnYLe+WAwi8noTXhQwXjWNt6FC7QOa933z3VSsXIL8p3CpL5ATVQdwRqQR04DBybvcuA0FAUaR/B8BA9Y9i3F4JB9m039LqDqxK973615L2N0KnTpDpB3LWMIrRyhYBZg/8KPu0DmQrH684pbh3PEpX9MjkIyg==\n",
      "Spans: [Span(type: URL, value: SGWLbyVRXCq2cPqIRJw8clq84en+F/apjVfI+uo/41AC+3zyuBcqGk/FMeqoqqPq, char_span: [247: 276]), Span(type: US_SSN, value: Ou5ZszckWZpO7/jwXg+T6Lpk4stFeNdMPd9qveeXeig=, char_span: [217: 228]), Span(type: LOCATION, value: k3oxmf/yZSQMTGGu/zfxFyRT9BZRlCvABsQ2M4/0ofwSDU9EEuhchO0geoIS98pY, char_span: [157: 182]), Span(type: CREDIT_CARD, value: 2L2vTP0nsC+O2Eu3UyU/1OHmLy2mr7Hika78wM070I8=, char_span: [126: 138]), Span(type: EMAIL_ADDRESS, value: NpbjpLYlNE31mj3BadAFJ+uP7jwEui5s9tEAT4FVPvSMyOtRgTf8AJcs3LT/g0eq, char_span: [81: 106]), Span(type: DATE_TIME, value: 9sb40nl5BFQ0MYhqoJUUVZGb6gc7bqj4jXwgfAMwd53PYuzvYGiMjJcNrJv60iOg, char_span: [34: 53]), Span(type: AGE, value: vO4z+rtQEpvjg88VVYOUh7ibzsGy+yeKacLJgeYDYiA=, char_span: [22: 23]), Span(type: PERSON, value: eDROmAdB9gIvk9mSt73IPirffHmPRCGvk4EYxGekaYE=, char_span: [10: 20])]\n",
      "\n",
      "Full text: tHIItoFC+cpry7PKdSGGomhYoaIS+DSq4AnfB/tL38Bt/auo4nwCWQsbVAVt+WBXKfNQ0FwQpQAPbAxEh0hviVnRQA4xtTjLGhoCTJnRNqKrP5RV9Oox5CCfCWy0jybN8DQ/7NdAkiB7ORQWGROPZ2OO2SL8xXbPsDOTvfl6SxcFUhGbCT4AfZ+wAFtDfa8t8FIeSn2HXvaCyS9xibyZLhhSJVJZFGgecSgxwiipY+DMaOu6I4AemXvdukOn0gdzjDwniONXIDFxzril0m8DOGUhoVq/ve+VtwDO0VeSeIMDYrYpQfzfuQq1ws6ZMcoUxD+sg6gjBHVqiaSP8rEf/BQeNe2dzhc03Uy5nQAQbtWildsut0r3tFCXkMMc6S31rvQKewtNqfz0JX/UBNThVKmIIdvCYLUfYQfBO2V0DZUP838NhYbBKNITXD9FUXeSP9XHkbuYxYjmaBMdSgwdfPFF+7iMeSb3XrVxL9vbc8XkQQvh+i+AR8hm9cVeclgOQ9BLMiRT0o79u+e4KHtVUnnHOhySVYB/BeXmVVYWt/Q5i0jtE8UAXXRNC+cuMHpCpEyshRypEPk9vMLZ8tjRKY7Kfvu8L61UnPltgqEuZmg=\n",
      "Spans: [Span(type: PHONE_NUMBER, value: 3miTNJiHYtqUg6lwMEUo7MDgoCejnvFfKzpR98glu7RQ2GnlFj1mK2T+DBpEzwoQ, char_span: [376: 392]), Span(type: LAB_TEST, value: AV9w1b2v5iJtOBPOOk58EiBQ/t92/FPK6IhKqYskcKs=, char_span: [259: 274]), Span(type: DRUG_FREQUENCY, value: Xc4UI0+TgmIfVZ0A9gBoPlVaps+pSbvP/SD2tgjJoR0=, char_span: [222: 235]), Span(type: DOSAGE, value: 1m2f1PbUS/QluqEOI8tPyyZo+/jpZXQj0mL6C/8/fqM=, char_span: [201: 215]), Span(type: DRUG, value: B9XoDtXe3x/YgaRXRFUANFoOo0PkDV5rAeLb7I+ZymU=, char_span: [186: 197]), Span(type: SYMPTOM, value: IwxsjmcJMbab5FTiqv3ebk9DrozAFG21owx9G5UNKDk=, char_span: [139: 149]), Span(type: MEDICAL_CONDITION, value: 6i3lVyRdDA4EEizuk/ZFeZZSj/KWQTkZ1ChSqnU6i6U=, char_span: [111: 119]), Span(type: GENDER, value: 1DcI/hU79ayNfEFbL+YysRlWk71aEvnVdiiWLh/5yqw=, char_span: [88: 92]), Span(type: AGE, value: sLoNpecAB9XaaP/CyxA38Y4vIS5Iv7siB2l76W/wph4=, char_span: [76: 78]), Span(type: PERSON, value: nD8Lf/ChnnKDb7SmfyF9cw7aOtYCqeIytJwktkYV6fQ=, char_span: [58: 72]), Span(type: DATE_TIME, value: gFkSCAX3nJZXROa2+ycYstvClZDA0qeaxQbAt7DUH6w0naOQpOWC8eokNWsMgzPE, char_span: [37: 56])]\n",
      "\n",
      "Full text: C3tNiTAvZDSKfyH9Sl1mXBT03t6o3OZT4PpA3lezlmiHIVFYbM2qHuLRW8BuWh3jB9rVvTjyEFhsMpeRPe+mE8zlSy8eZI1MNWK5X0xJTsDzaWR8ZwYTEydyNJMCRxA3YPKgi83KkuytDydmT3SNlykzeewA6l3rbxX7xVn7GA1T9ZmXnF5GpOptrCbZQjtmY0udUuGDnqJC6vZxDZliVqZ45h9a0k/+0nKI9zlxNJhb8KkewHtfyxNCmI9N4/i2J0PGep75GhNArDnp5GPabhcrjeexdrRul94uoOmoaioEKC44DvCQK9VtlD0XidGvi/TSxJOdH3bj7drMucG3DPTo+FaH/zT05cxJLyU8hieIBzJAZwdE+nMnxZkYUTEJ/K2I70pqtv1SJ3tWkwAl2K3IdyfFcAWsLqqZbfCGlJlXkEzTrwOyTLY6+30h447mcuDCKkPv4P+4hSLF4SzdKQCk5ndEXT03SGoWAm/u1+Rud8XLf+99voCylG2Bxh+Zz/GtO0OIgVF5rWfZrKP4tvgUAwH9PU/38T8n8uyHZLeKrhbmffzT7jehNk52aLgu\n",
      "Spans: [Span(type: IBAN_CODE, value: RtiMuMU74vDOIC5XKSW/WXlzpjF0wT2J6uTGzQS6UjI=, char_span: [392: 405]), Span(type: BANK_NUMBER, value: dW5xn6WgI655XCTX1X5xlUdasRPNl6HIWUJKprE+fpw=, char_span: [296: 308]), Span(type: CREDIT_CARD, value: wxN+NHg0UM19c1Z19f7z96EsdO86oGc2ZPMPSkAPY88rlIt95ni4/ExqshoJ4LeX, char_span: [199: 215]), Span(type: LAB_TEST, value: +h8a53moxwn0RPBH9wPCv9K/pdSzjb1kDjCtbDOpWHA=, char_span: [140: 153]), Span(type: PROCEDURE, value: PwfyvFmstYmoLvXvGvOn/biXjZYa8CVB1lW/bA4C4k4=, char_span: [124: 135]), Span(type: PERSON, value: 7Awo2rvgckZ6+hYcLXBhHB/ggfn3RCWTY2K0qzQzZQw=, char_span: [79: 91]), Span(type: DATE_TIME, value: d6i1uEXiRmeRBjOjxDUJuV45RZrwT0f1gRBc+G0jfPU1SZO6OlmwWzgf1X8hBnxf, char_span: [34: 53])]\n",
      "\n",
      "Full text: xBeZNkEqbvoFB7joe9gSAckXkcNOs+slXxkn2CadfLBWzG5WBsUx819vGnX8BKXFR0SOhQZtFiB4guEZRpOEz2u/1eV0sJ3/ALO5ffksU4ebCksA+9Qee3iC1f9T8YjaxjVfHaXboWhFigp8aagBXdrOLDEnSYNfWGMhSNgWTyXsxhF/jxLI76wT6wVw1uJcmyRyU7iiTS8oB+2PGO7AXhLSgQ2WD0j3Psc/Kg6MLza5Qk9vlL91Nakm3XoEpmOemY+kx4YpF1tEK1VLDq0FicXEcrJ1qPxHQx13dhWMzT5Bo6RusxEBQz3ToMhSKe4O2joOXr41y/j3o4ONqOpS8OUe63ybYv/aI+0mereM/qhry/bcDRZnPQzKvPH31kwAk6RQl/+OphYcEDaLJnVRHr5BvcgYPvOiC46kdeL7XB20wf26CJoVeCZh47HfIbfvR12iGPnz+ifqalrZVmoBB9DZmwA2qLCPIwHQc77vb7rVW9WPZX5oCqQPdFupVuR7HITWFAOqquHayL1v3e8pOxTdt+dfrOhmkBHGsKAqWF6e1EByiQL6eWd5IqkZDHgVW+jFop1RdDT3z1qe57HcdjYiRjC/sk1hFZ+ntNSWOUWk3qlECb8qZE4XQuPbAMHIngSOfZhfac94c1+sJOVYsA==\n",
      "Spans: [Span(type: US_DRIVER_LICENSE, value: YczViILJsA6J69jtvQHaaCWYXy3Z+ZkKAIW0tS137q8=, char_span: [354: 363]), Span(type: US_PASSPORT, value: bKXrp0vrLzwVfLrAmAWOZpDpqAVVoPUxnWv2elHOFJ4=, char_span: [326: 332]), Span(type: DRUG_FREQUENCY, value: xEemywy5IaRES7m6E600MJQSsPmSGfWqob4ZLaLx4PA=, char_span: [251: 257]), Span(type: DOSAGE, value: WafMmmzt2ZsSsfnVhe6o5EecGXIAFphyjRKd/IHii8/k9wpP1ARlwxe/umllxoUr, char_span: [222: 238]), Span(type: DRUG, value: mCE2N0tf0fqtDMu36uJPBcX4yOc48uGRvhiqTPuDDvw=, char_span: [208: 218]), Span(type: LOCATION, value: BG0UVwpfqANG+U+ZQ5FsQ7q9szfB0OccCYFmA2esBghSuOzBG23npGKQ6/c9ZG3j4qcVwPxsqoN7h+JP0/mvZg==, char_span: [123: 160]), Span(type: PROCEDURE, value: bt3O0vuUgbsOSXsICnPwGQB/e32gvV2Zp2BIgnsf/qE=, char_span: [102: 105]), Span(type: PERSON, value: h6Ckc4yT8oHSVxUTcLn5qAM4SCQySKwUsGqUKrXbUAo=, char_span: [49: 63]), Span(type: DATE_TIME, value: 21/mkMddNaXl8e74hG6x4LFHI/Xvg6feVPmgVUweLxaCtn9M3lJcYLcGuCsxUEap, char_span: [25: 44])]\n",
      "\n",
      "Full text: H4Y8NpOpu/Jt1pjRfJKEcv1V2x+c7bsZCzJcCML8HPh+8z48KmmA7CZyp87zUdZ7qi9Bbs5psJuNP9WUGVXJ1GbNMf2Pn0dtVBv8btg8KTEvc9U7zeZKeBOz4dZeeFOJcu3Cj4Lkdw4+WJm+hyRsBSgSCc7C52EB7xSYXsty0iG2J72IqS1rPtjeXJ70vNEIXqQRjnK6tLQUgDXDsoP/x37NdUjizUqhtpb9IfeeYD4/LLvim7jZA+PMfLY4tsaYs6eHQ3rNnKLcmk2t+z/GnJ1TbZhOQNgfr2bclgJZALppIuU1V9rI1C6MDzC8dc1rJ10xQchxeRuztrqnOfZPTM3HEMtdRLIng5/d0rqodCwOP6aes857LHFP/RH26FnLecxo3uN2SHi5O6mQo80BecynBmv6jdAd9HUpqdQndfs1rEUUhyRc/Sv7CXYCW6dxvVRjYfRSqNc5XAfDjzixpAgX4APWu23bY/joJJeaQbW2IjdIBTY0co0wP9AWpsntIxowwusSvINcfm8AsnPRrbwdPstRP4mIGuVDmUYP9Oeul2SxriVRbpIoIJOhBryWiOLmEzYUqyMXNJjJDr2XWV/VdmIXPOvF+q5aYAeicGIWP2/Lqf1Aau7SkENo8eKb\n",
      "Spans: [Span(type: PHONE_NUMBER, value: bRArvvCR/toWHp8pNZ1lQECK8QAr4H49QZNUh35EEAg=, char_span: [379: 391]), Span(type: DRUG_FREQUENCY, value: Iqey7wvlw2XNj8MTj7dka8rpZeu4OGux1M6vgIXXXcA=, char_span: [300: 311]), Span(type: DOSAGE, value: RVLZIwJSpw+iiMpFoPx07Pa2skmRWT+9fJYeC1PG2FPlU+uhx8C4mivgmZEJoRB/, char_span: [271: 287]), Span(type: DRUG, value: n8L4Ow78hrWjtAt6BmEXXbcbdsYJRHdHulQ5Aq/6V7g=, char_span: [257: 267]), Span(type: LAB_TEST, value: oziFvjEZciUCO3ePLZTZwasS1vZd3jGXZRgX9dGPAp8bw71NGRe7W/nHSOmKJylP, char_span: [201: 221]), Span(type: MEDICAL_CONDITION, value: dkiWlbQqarhnsS76Ydrm6kpqdHWuKU+NdRk0yi/L2U5L+aJj0HL4DvWF70s9yGoD, char_span: [136: 153]), Span(type: GENDER, value: SkVo6kwKyexoP2Eu65FN52CDS/ppjdbXtheQjjrCuGc=, char_span: [92: 96]), Span(type: AGE, value: y/wQDcFdB3y49lY6QEtuVtwhz2QgIYaZY3uPbw+m/JY=, char_span: [80: 82]), Span(type: PERSON, value: /d1mj4GjfXtZLSLhPRukGPqy6g5LIApzBL9f2FzXnTM=, char_span: [63: 76]), Span(type: DATE_TIME, value: t/t+YVZpYqU+KlgyzrOBJhKdp7bfck95tGn6In9pRfr8oI0UZUpNfEN+cf0PeAP1, char_span: [42: 61]), Span(type: ORGANIZATION, value: GKJshdq9WsqiNVskNPEMbMy3jmRDMxf2REYhmgCwcsVJW/Sgt+YYuZ9filjZcpHJ, char_span: [18: 38])]\n",
      "\n",
      "Full text: npg9VTkJO7/ebHvQhSC8yf26Z4brpDqSuYcJON+AbZATnnK5w/B5CeAWF5U8mRAYw2+DrWsOscDy58foJ8XIn4PVCL8Luc+0wGRLV3Vc+m45Uv4tZmhM5gFeNJs3JeASMoz10Cim6Agr3TeDKUXX5wWnDSwcGONg+qPxCOdDDGVajop5hYFmDkLutLBkQmlFfdAIGFm3WoASEFv/IAWRA5Ugjw2gn6+8YHkSnvfeyuzra4o8jBGHSDSdIF6cc6+Ztcklenm9a/i4vqRiLoU65CfWTSjcuQN0MlzVdi6ySCxmxCgCgyFEZBhnlDB5Sfuyuvy2OjVUeorLRKwZmvFdlINOMee0CNF/E+aREeAYiA7LPEjaNg8T+0swy3itNstmLDuP3lTmtjQ5U5cXw5h9iOCxsKY5Q2QGPC8DuY0YcXEEesYgQ1nSayZQhQ4nOX7mczNQF75oH5gdQ+CcpP3d0yyg0BZ3soCiqib+mrHwlKMv0PQlz7q4VBtIjQCYnQzcvQ9ed2l/o8/UBkyFIMVGYisdACPC2+iukQMSuSKnd2Mf98ynuN2M/PIz4jZuvno7MsgQv/JoaTaOqng3eTI11olWD+Blc2IOggB6FWaZTmI=\n",
      "Spans: [Span(type: PHONE_NUMBER, value: d1kXQ+hz8KNsdzTpfjvTVxYo8L8x2VRxirFAiyzKYEo=, char_span: [382: 394]), Span(type: LAB_TEST, value: x55EUqeyiIO8HrEhAXZQcPPl8rIFAyp9FADBLlI3PjY=, char_span: [268: 280]), Span(type: DRUG_FREQUENCY, value: RCAJD8rQZUCz398XMuCByfQ17vDurUrt9UO9p9/fv0L3XbaBPiI9/u+KbZ+GMExn, char_span: [221: 244]), Span(type: DOSAGE, value: Ds2Bhyy6mXOWz0T29MIcMV5Pjic1XVZdvqlvt4rayUXFgyyR2NDf5HwW+JuLSicL, char_span: [197: 214]), Span(type: DRUG, value: 88EUDlXXkpNTYc0DxGmY6cCVJ2bmICcPmhJP+5tRCt8=, char_span: [186: 193]), Span(type: SYMPTOM, value: iEspuGtBHmNuf/cRVoujf/h6TOtRH9Qads9lVpU0hUA=, char_span: [138: 149]), Span(type: MEDICAL_CONDITION, value: NlFObu5UsbdRWIZBq4hOQM1Wtz/Hn7GBwToKjTcmv6w=, char_span: [112: 118]), Span(type: GENDER, value: TOjyHONFLSYiKTzB61c1a2BfJTgvjqayxo0zM747kXg=, char_span: [87: 93]), Span(type: AGE, value: YBQ+HSJPSGpHMxK1dH1AaURjeLzlHo1LuSJZgznwvCE=, char_span: [75: 77]), Span(type: PERSON, value: xCDAyQzpUXuhSK4s1EXgbSEkNrxwytFKLS7Fa3lA7ow=, char_span: [58: 71]), Span(type: DATE_TIME, value: +sHlsZfuYwXCo5o52YyQFTEHss1XyqGX7rxrJzJYHswpiCfstEPRai1WUuaTBma/, char_span: [37: 56])]\n",
      "\n",
      "Full text: 202XrkxBWJAW30XyrWH4ifATV4peK3YwSx6p1yXm0cfrEOh6rQEhHWfkEoxg6KtPdQb7sDKFVOf60sBEGLn2b4a6J5yCSbJDlKAkHBlvChT5opkN/95L2D6Z9hRUiR/6Z2U6SwwbYs68PsoRdSDsHwkfF8C+Z/jsUKwuu4kKj/em4L5f+smX9VSH0IOKZs5+EW/NKCO5sI1mYKKc/Xt9uBGa16rNXLeV9JSK05a+7Dtr09+qpEbg/K1TfGMpnY6Eu6bX3FJZFBQnc88pbUfrdlGrxBF+Vm35hK6He6jnbexFGGcUDE4gMkzGxmVLbvirl0xEhFXWGCeswlDfuwYtWlO+gS9jg0QDFxpxUA6SAVR//oWR57MucbT/dTgsXdpaf3z+A5ihHZMPh27Az09XsIWc3o5vdQEnHqxAYljUT8dqie59TMQY7TWMx9xJPXT4+Nar/S+gAuWATSVp7tsRJaVTCygyeUCNJxoOupPa4FEQafckQCz5hOZyFHfV22onWUuZgjzIlU81r7uxoosBhRsNH+p4RhHptlYcOOI+bBgRuS4YQRlLPDiYxsBQHt7FDMyMkzDWFpSuvD9kkQqgTneRZzgGyYBLiI1wZSLwhVPN8QizyDedm6AF5FX4/pbFVhVEySQnXRLxl8bebBppRA==\n",
      "Spans: [Span(type: PHONE_NUMBER, value: /LB3Z5e9sh2Zp4O8dF7vEu65abnrzWZhcqlneuywXVlMaBsBg+89LJXyaFHcadf5, char_span: [391: 410]), Span(type: DRUG_FREQUENCY, value: kn5/BTR8t6IcIKfN1KuSeI9GKpZDfSh8YKv6X7Q7m73q3EqpcLjok07SbwR1J87X, char_span: [300: 323]), Span(type: DOSAGE, value: paftoqblfTy42DLAnwkf9kUnU60DYkNwxjuHWyEg0C0=, char_span: [274: 287]), Span(type: DRUG, value: or3p8iuqsC7b3ohizdw66Gq9aThzbr5GkU0O+wfYyyM=, char_span: [257: 270]), Span(type: LAB_TEST, value: DDf7b6Q42PlsElUdSz9LVgjQvHGE6KM2/3sah5qtRBnmiqdHHLYxM6QZ2LyGWWpP, char_span: [204: 221]), Span(type: MEDICAL_CONDITION, value: /NXfwvzYqcaIFFiV4IywbxTeYCsD6/qWExI+OjG6rvE=, char_span: [144: 156]), Span(type: GENDER, value: oLTMrhcszDACfgHMr2E/jfhSars2vFHeJrNz9aNiWYU=, char_span: [100: 104]), Span(type: AGE, value: M2c3NHkcKBMBhqN5x02/7I4JGETUtxuu7s8iA20yIHg=, char_span: [88: 90]), Span(type: PERSON, value: HUy40pnjqbAOxaYgpy91NSD+kxSey+z9gXIoGaHhxUA=, char_span: [73: 84]), Span(type: DATE_TIME, value: g8bH7HRb8MLzd2/J65ZxttFpSQn3ZYuQK2zgN1fN+saTBB9ejAH9H+2shSjk6CTZ, char_span: [52: 71]), Span(type: ORGANIZATION, value: Cbw90XPw2jCzx7ZYpLPjkcpHEh+b+N0FQBK0Y/Yqaroirhyn3bPmKTWZAGPT1OfO, char_span: [18: 48])]\n",
      "\n"
     ]
    }
   ],
   "source": [
    "for record in fake_records[:10]:\n",
    "    print(record)"
   ]
  },
  {
   "cell_type": "markdown",
   "metadata": {
    "pycharm": {
     "name": "#%% md\n"
    }
   },
   "source": [
    "#### Save as json"
   ]
  },
  {
   "cell_type": "code",
   "execution_count": 16,
   "metadata": {
    "is_executing": true,
    "pycharm": {
     "name": "#%%\n"
    }
   },
   "outputs": [],
   "source": [
    "from presidio_evaluator import InputSample\n",
    "InputSample.to_json(dataset=fake_records, output_file=output_file)"
   ]
  },
  {
   "cell_type": "code",
   "execution_count": 17,
   "metadata": {},
   "outputs": [
    {
     "data": {
      "text/plain": [
       "'../data/generated_size_50_date_August_16_2025.json'"
      ]
     },
     "execution_count": 17,
     "metadata": {},
     "output_type": "execute_result"
    }
   ],
   "source": [
    "output_file"
   ]
  },
  {
   "cell_type": "markdown",
   "metadata": {
    "pycharm": {
     "name": "#%% md\n"
    }
   },
   "source": [
    "#### Create a CONLL like data frame"
   ]
  },
  {
   "cell_type": "code",
   "execution_count": 18,
   "metadata": {
    "is_executing": true,
    "pycharm": {
     "name": "#%%\n"
    }
   },
   "outputs": [],
   "source": [
    "#conll = InputSample.create_conll_dataset(dataset=fake_records)\n",
    "#conll.head(10)"
   ]
  },
  {
   "cell_type": "code",
   "execution_count": 19,
   "metadata": {
    "is_executing": true,
    "pycharm": {
     "name": "#%%\n"
    }
   },
   "outputs": [],
   "source": [
    "#conll.to_csv(output_conll, sep=\"\\t\")\n",
    "#print(f\"CoNLL2003 dataset structure output location: {output_conll}\")"
   ]
  },
  {
   "cell_type": "markdown",
   "metadata": {},
   "source": [
    "### Next steps\n",
    "\n",
    "- Evaluate Presidio using fake data: [Sample](4_Evaluate_Presidio_Analyzer.ipynb)\n",
    "- Split to train/test/validation while ensuring sentences originiating from the same template are all on the same subset: [Sample](3_Split_by_pattern_#.ipynb)\n",
    "- Conduct a small exploratory data analysis on the generated data: [Sample](2_PII_EDA.ipynb)"
   ]
  },
  {
   "cell_type": "markdown",
   "metadata": {},
   "source": [
    "#### Copyright notice:\n",
    "\n",
    "\n",
    "Data generated for evaluation was created using Fake Name Generator.\n",
    "\n",
    "Fake Name Generator identities by the [Fake Name Generator](https://www.fakenamegenerator.com/) \n",
    "are licensed under a [Creative Commons Attribution-Share Alike 3.0 United States License](http://creativecommons.org/licenses/by-sa/3.0/us/). Fake Name Generator and the Fake Name Generator logo are trademarks of Corban Works, LLC."
   ]
  }
 ],
 "metadata": {
  "kernelspec": {
   "display_name": ".venv",
   "language": "python",
   "name": "python3"
  },
  "language_info": {
   "codemirror_mode": {
    "name": "ipython",
    "version": 3
   },
   "file_extension": ".py",
   "mimetype": "text/x-python",
   "name": "python",
   "nbconvert_exporter": "python",
   "pygments_lexer": "ipython3",
   "version": "3.12.9"
  }
 },
 "nbformat": 4,
 "nbformat_minor": 4
}
